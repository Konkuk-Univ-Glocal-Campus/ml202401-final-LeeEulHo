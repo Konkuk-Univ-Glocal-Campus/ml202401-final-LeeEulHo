{
 "cells": [
  {
   "cell_type": "markdown",
   "metadata": {},
   "source": [
    "# Amazon Uk의 신발 제품 리뷰 데이터 감정 분석(Sentiment Analysis)\n",
    "\n",
    "### [건국대학교 글로컬캠퍼스 컴퓨터공학과 202121859 이을호]\n",
    "\n",
    "========================================================================\n",
    "\n",
    "본 과제에서는 Amazon uk(영국)쇼핑몰의 신발 제품 판매 리뷰에 대한 긍정, 부정의 판별이 가능한 감정 분석 시스템 개발을 진행한다. \n",
    "\n",
    "모델의 구현은 하단의 과정을 순서로 개발을 진행한다.\n",
    "\n",
    "1. 데이터 전처리 (결측치 처리, 노이즈 제거, 정규화 과정, 불용어 제거)\n",
    "\n",
    "```데이터 전처리 과정에서 데이터의 구조를 확인하며, 신발 제품 별 리뷰 갯수, 실구매 여부, 동일 작성자 리뷰 갯수 확인을 진행함.```\n",
    "\n",
    "```결측치 처리, 노이즈 제거, 불용어 제거 과정을 통해 전처리를 완료함.```\n",
    "\n",
    "2. 모델 구현\n",
    "\n",
    "```nltk vader 모델을 통해 감정 분석을 진행 후 데이터 프레임에 결과 저장```\n",
    "\n",
    "3. 모델 학습 및 튜닝 (dataset을 train, test로 분할, 모델 학습 및 하이퍼파라미터 튜닝(grid search or random search)를 통한 교차 검증)\n",
    "\n",
    "```감정 분석 결과를 logistic regression을 통해 데이터 셋을 train과 test로 분할 후 모델에 학습시키고 성능을 향상시키기 위해 grid search를 적용하여 하이퍼파라미터 튜닝을 진행하여 학습을 시킨다```\n",
    "\n",
    "4. 모델 평가 (정확도, 정밀도, 재현율, F1 score, ROC-AUC 지표를 통한 모델 검증 및 overfitting, underfitting 여부 확인 및 해결 방법)\n",
    "\n",
    "5. 시각화 및 보고 (모델이 출력한 결과 및 수치값을 matplotlib, Seaborn을 통한 시각화 진행(혼동 행렬 및 ROC 곡선 생성))\n",
    "\n",
    "-> 상기 내용을 보고서로 작성하여 별도 첨부함.\n",
    "\n",
    "========================================================================\n",
    "\n",
    "- Python Version : Python 3.10.13"
   ]
  },
  {
   "cell_type": "markdown",
   "metadata": {},
   "source": [
    "# 1. 데이터 전처리:\n",
    "\n",
    "- 1. 결측치 제거\n",
    "- 2. 데이터 프레임 정리\n",
    "- 3. 노이즈 제거 (정규화 활용)\n",
    "- 4. 토큰화 및 불용어\n",
    "\n",
    "\t데이터 정리 (노이즈 제거, 결측값 처리 등).\n",
    "\t텍스트 토큰화 및 불용어 제거.\n",
    "\t텍스트 정규화 (스테밍 또는 표제어 추출).\n",
    "\t+) 필요하다면 더 추가해야 할 수도 있음"
   ]
  },
  {
   "cell_type": "code",
   "execution_count": 1,
   "metadata": {},
   "outputs": [
    {
     "name": "stdout",
     "output_type": "stream",
     "text": [
      "Requirement already satisfied: matplotlib in ./.venv/lib/python3.10/site-packages (3.9.0)\n",
      "Requirement already satisfied: contourpy>=1.0.1 in ./.venv/lib/python3.10/site-packages (from matplotlib) (1.2.1)\n",
      "Requirement already satisfied: cycler>=0.10 in ./.venv/lib/python3.10/site-packages (from matplotlib) (0.12.1)\n",
      "Requirement already satisfied: fonttools>=4.22.0 in ./.venv/lib/python3.10/site-packages (from matplotlib) (4.53.0)\n",
      "Requirement already satisfied: kiwisolver>=1.3.1 in ./.venv/lib/python3.10/site-packages (from matplotlib) (1.4.5)\n",
      "Requirement already satisfied: numpy>=1.23 in ./.venv/lib/python3.10/site-packages (from matplotlib) (1.26.4)\n",
      "Requirement already satisfied: packaging>=20.0 in ./.venv/lib/python3.10/site-packages (from matplotlib) (24.1)\n",
      "Requirement already satisfied: pillow>=8 in ./.venv/lib/python3.10/site-packages (from matplotlib) (10.3.0)\n",
      "Requirement already satisfied: pyparsing>=2.3.1 in ./.venv/lib/python3.10/site-packages (from matplotlib) (3.1.2)\n",
      "Requirement already satisfied: python-dateutil>=2.7 in ./.venv/lib/python3.10/site-packages (from matplotlib) (2.9.0.post0)\n",
      "Requirement already satisfied: six>=1.5 in ./.venv/lib/python3.10/site-packages (from python-dateutil>=2.7->matplotlib) (1.16.0)\n",
      "Note: you may need to restart the kernel to use updated packages.\n",
      "Requirement already satisfied: pandas in ./.venv/lib/python3.10/site-packages (2.2.2)\n",
      "Requirement already satisfied: numpy>=1.22.4 in ./.venv/lib/python3.10/site-packages (from pandas) (1.26.4)\n",
      "Requirement already satisfied: python-dateutil>=2.8.2 in ./.venv/lib/python3.10/site-packages (from pandas) (2.9.0.post0)\n",
      "Requirement already satisfied: pytz>=2020.1 in ./.venv/lib/python3.10/site-packages (from pandas) (2024.1)\n",
      "Requirement already satisfied: tzdata>=2022.7 in ./.venv/lib/python3.10/site-packages (from pandas) (2024.1)\n",
      "Requirement already satisfied: six>=1.5 in ./.venv/lib/python3.10/site-packages (from python-dateutil>=2.8.2->pandas) (1.16.0)\n",
      "Note: you may need to restart the kernel to use updated packages.\n",
      "Requirement already satisfied: numpy in ./.venv/lib/python3.10/site-packages (1.26.4)\n",
      "Note: you may need to restart the kernel to use updated packages.\n",
      "Requirement already satisfied: seaborn in ./.venv/lib/python3.10/site-packages (0.13.2)\n",
      "Requirement already satisfied: numpy!=1.24.0,>=1.20 in ./.venv/lib/python3.10/site-packages (from seaborn) (1.26.4)\n",
      "Requirement already satisfied: pandas>=1.2 in ./.venv/lib/python3.10/site-packages (from seaborn) (2.2.2)\n",
      "Requirement already satisfied: matplotlib!=3.6.1,>=3.4 in ./.venv/lib/python3.10/site-packages (from seaborn) (3.9.0)\n",
      "Requirement already satisfied: contourpy>=1.0.1 in ./.venv/lib/python3.10/site-packages (from matplotlib!=3.6.1,>=3.4->seaborn) (1.2.1)\n",
      "Requirement already satisfied: cycler>=0.10 in ./.venv/lib/python3.10/site-packages (from matplotlib!=3.6.1,>=3.4->seaborn) (0.12.1)\n",
      "Requirement already satisfied: fonttools>=4.22.0 in ./.venv/lib/python3.10/site-packages (from matplotlib!=3.6.1,>=3.4->seaborn) (4.53.0)\n",
      "Requirement already satisfied: kiwisolver>=1.3.1 in ./.venv/lib/python3.10/site-packages (from matplotlib!=3.6.1,>=3.4->seaborn) (1.4.5)\n",
      "Requirement already satisfied: packaging>=20.0 in ./.venv/lib/python3.10/site-packages (from matplotlib!=3.6.1,>=3.4->seaborn) (24.1)\n",
      "Requirement already satisfied: pillow>=8 in ./.venv/lib/python3.10/site-packages (from matplotlib!=3.6.1,>=3.4->seaborn) (10.3.0)\n",
      "Requirement already satisfied: pyparsing>=2.3.1 in ./.venv/lib/python3.10/site-packages (from matplotlib!=3.6.1,>=3.4->seaborn) (3.1.2)\n",
      "Requirement already satisfied: python-dateutil>=2.7 in ./.venv/lib/python3.10/site-packages (from matplotlib!=3.6.1,>=3.4->seaborn) (2.9.0.post0)\n",
      "Requirement already satisfied: pytz>=2020.1 in ./.venv/lib/python3.10/site-packages (from pandas>=1.2->seaborn) (2024.1)\n",
      "Requirement already satisfied: tzdata>=2022.7 in ./.venv/lib/python3.10/site-packages (from pandas>=1.2->seaborn) (2024.1)\n",
      "Requirement already satisfied: six>=1.5 in ./.venv/lib/python3.10/site-packages (from python-dateutil>=2.7->matplotlib!=3.6.1,>=3.4->seaborn) (1.16.0)\n",
      "Note: you may need to restart the kernel to use updated packages.\n"
     ]
    }
   ],
   "source": [
    "# 필요 라이브러리 import\n",
    "\n",
    "%pip install matplotlib # 시각화 목적 matplotlib 설치\n",
    "%pip install pandas # pandas 설치\n",
    "%pip install numpy # numpy 설치\n",
    "%pip install seaborn # seaborn 설치\n",
    "\n",
    "import matplotlib.pyplot as plt # 시각화 목적 matplotlib 설치\n",
    "import seaborn as sns # seaborn 모듈 import\n",
    "import numpy as np # numpy 모듈 import\n",
    "import pandas as pd # pandas 모듈 import\n",
    "import time # (작업 소요시간 계산) time 모듈 import\n",
    "import ast # 구문 트리 파싱 및 분석에 사용하는 asr 모듈 import"
   ]
  },
  {
   "cell_type": "markdown",
   "metadata": {},
   "source": [
    "## 1) 결측치 제거"
   ]
  },
  {
   "cell_type": "code",
   "execution_count": 2,
   "metadata": {},
   "outputs": [
    {
     "name": "stdout",
     "output_type": "stream",
     "text": [
      "파일 읽기 실행 중입니다...\n",
      "\n",
      "파일 로딩에 걸린 시간은 0.13 초입니다.\n"
     ]
    },
    {
     "data": {
      "text/html": [
       "<div>\n",
       "<style scoped>\n",
       "    .dataframe tbody tr th:only-of-type {\n",
       "        vertical-align: middle;\n",
       "    }\n",
       "\n",
       "    .dataframe tbody tr th {\n",
       "        vertical-align: top;\n",
       "    }\n",
       "\n",
       "    .dataframe thead th {\n",
       "        text-align: right;\n",
       "    }\n",
       "</style>\n",
       "<table border=\"1\" class=\"dataframe\">\n",
       "  <thead>\n",
       "    <tr style=\"text-align: right;\">\n",
       "      <th></th>\n",
       "      <th>url</th>\n",
       "      <th>product_name</th>\n",
       "      <th>reviewer_name</th>\n",
       "      <th>review_title</th>\n",
       "      <th>review_text</th>\n",
       "      <th>review_rating</th>\n",
       "      <th>verified_purchase</th>\n",
       "      <th>review_date</th>\n",
       "      <th>helpful_count</th>\n",
       "      <th>uniq_id</th>\n",
       "      <th>scraped_at</th>\n",
       "    </tr>\n",
       "  </thead>\n",
       "  <tbody>\n",
       "    <tr>\n",
       "      <th>0</th>\n",
       "      <td>https://www.amazon.co.uk/dp/B07SBX32T5</td>\n",
       "      <td>Klasified Women's Transparent Clear Sneaker Sh...</td>\n",
       "      <td>Jocelyn McSayles</td>\n",
       "      <td>Love em</td>\n",
       "      <td>Love these. Was looking for converses and thes...</td>\n",
       "      <td>5.0</td>\n",
       "      <td>True</td>\n",
       "      <td>Reviewed in the United States on 2 June 2020</td>\n",
       "      <td>2 people found this helpful</td>\n",
       "      <td>36eae4e5-2894-5279-a0b7-d2b330e2b814</td>\n",
       "      <td>24/12/2021 02:26:25</td>\n",
       "    </tr>\n",
       "    <tr>\n",
       "      <th>1</th>\n",
       "      <td>https://www.amazon.co.uk/dp/B07SBX32T5</td>\n",
       "      <td>Klasified Women's Transparent Clear Sneaker Sh...</td>\n",
       "      <td>Kenia Rivera</td>\n",
       "      <td>The plastic ripped</td>\n",
       "      <td>The shoes are very cute, but after the 2nd day...</td>\n",
       "      <td>2.0</td>\n",
       "      <td>True</td>\n",
       "      <td>Reviewed in the United States on 28 October 2021</td>\n",
       "      <td>NaN</td>\n",
       "      <td>f4778bb8-3070-5cb1-b5aa-ffce41a97b57</td>\n",
       "      <td>24/12/2021 02:26:25</td>\n",
       "    </tr>\n",
       "    <tr>\n",
       "      <th>2</th>\n",
       "      <td>https://www.amazon.co.uk/dp/B07SBX32T5</td>\n",
       "      <td>Klasified Women's Transparent Clear Sneaker Sh...</td>\n",
       "      <td>Chris Souza</td>\n",
       "      <td>Good quality</td>\n",
       "      <td>Good quality</td>\n",
       "      <td>5.0</td>\n",
       "      <td>True</td>\n",
       "      <td>Reviewed in the United States on 20 January 2021</td>\n",
       "      <td>NaN</td>\n",
       "      <td>db5a7525-d40b-5265-84d8-df4f29837a3b</td>\n",
       "      <td>24/12/2021 02:26:25</td>\n",
       "    </tr>\n",
       "    <tr>\n",
       "      <th>3</th>\n",
       "      <td>https://www.amazon.co.uk/dp/B07SBX32T5</td>\n",
       "      <td>Klasified Women's Transparent Clear Sneaker Sh...</td>\n",
       "      <td>Amazon Customer</td>\n",
       "      <td>Good</td>\n",
       "      <td>Great</td>\n",
       "      <td>5.0</td>\n",
       "      <td>True</td>\n",
       "      <td>Reviewed in the United States on 22 April 2021</td>\n",
       "      <td>NaN</td>\n",
       "      <td>75a42851-6462-54b5-988a-27d336221943</td>\n",
       "      <td>24/12/2021 02:26:25</td>\n",
       "    </tr>\n",
       "    <tr>\n",
       "      <th>4</th>\n",
       "      <td>https://www.amazon.co.uk/dp/B08SW434MG</td>\n",
       "      <td>GUESS Women's Bradly Gymnastics Shoe, White, 7 UK</td>\n",
       "      <td>Graziella</td>\n",
       "      <td>PERFETTE!!</td>\n",
       "      <td>Ho scelto il modello bianco con rifinitura die...</td>\n",
       "      <td>5.0</td>\n",
       "      <td>True</td>\n",
       "      <td>Reviewed in Italy on 2 April 2021</td>\n",
       "      <td>2 people found this helpful</td>\n",
       "      <td>232dee43-849e-5d06-ba05-efb3f4814714</td>\n",
       "      <td>24/12/2021 02:26:25</td>\n",
       "    </tr>\n",
       "  </tbody>\n",
       "</table>\n",
       "</div>"
      ],
      "text/plain": [
       "                                      url  \\\n",
       "0  https://www.amazon.co.uk/dp/B07SBX32T5   \n",
       "1  https://www.amazon.co.uk/dp/B07SBX32T5   \n",
       "2  https://www.amazon.co.uk/dp/B07SBX32T5   \n",
       "3  https://www.amazon.co.uk/dp/B07SBX32T5   \n",
       "4  https://www.amazon.co.uk/dp/B08SW434MG   \n",
       "\n",
       "                                        product_name     reviewer_name  \\\n",
       "0  Klasified Women's Transparent Clear Sneaker Sh...  Jocelyn McSayles   \n",
       "1  Klasified Women's Transparent Clear Sneaker Sh...      Kenia Rivera   \n",
       "2  Klasified Women's Transparent Clear Sneaker Sh...       Chris Souza   \n",
       "3  Klasified Women's Transparent Clear Sneaker Sh...   Amazon Customer   \n",
       "4  GUESS Women's Bradly Gymnastics Shoe, White, 7 UK         Graziella   \n",
       "\n",
       "         review_title                                        review_text  \\\n",
       "0             Love em  Love these. Was looking for converses and thes...   \n",
       "1  The plastic ripped  The shoes are very cute, but after the 2nd day...   \n",
       "2        Good quality                                       Good quality   \n",
       "3                Good                                              Great   \n",
       "4          PERFETTE!!  Ho scelto il modello bianco con rifinitura die...   \n",
       "\n",
       "   review_rating  verified_purchase  \\\n",
       "0            5.0               True   \n",
       "1            2.0               True   \n",
       "2            5.0               True   \n",
       "3            5.0               True   \n",
       "4            5.0               True   \n",
       "\n",
       "                                        review_date  \\\n",
       "0      Reviewed in the United States on 2 June 2020   \n",
       "1  Reviewed in the United States on 28 October 2021   \n",
       "2  Reviewed in the United States on 20 January 2021   \n",
       "3    Reviewed in the United States on 22 April 2021   \n",
       "4                 Reviewed in Italy on 2 April 2021   \n",
       "\n",
       "                 helpful_count                               uniq_id  \\\n",
       "0  2 people found this helpful  36eae4e5-2894-5279-a0b7-d2b330e2b814   \n",
       "1                          NaN  f4778bb8-3070-5cb1-b5aa-ffce41a97b57   \n",
       "2                          NaN  db5a7525-d40b-5265-84d8-df4f29837a3b   \n",
       "3                          NaN  75a42851-6462-54b5-988a-27d336221943   \n",
       "4  2 people found this helpful  232dee43-849e-5d06-ba05-efb3f4814714   \n",
       "\n",
       "            scraped_at  \n",
       "0  24/12/2021 02:26:25  \n",
       "1  24/12/2021 02:26:25  \n",
       "2  24/12/2021 02:26:25  \n",
       "3  24/12/2021 02:26:25  \n",
       "4  24/12/2021 02:26:25  "
      ]
     },
     "execution_count": 2,
     "metadata": {},
     "output_type": "execute_result"
    }
   ],
   "source": [
    "# 데이터 읽어와 로딩 후 출력 진행\n",
    "\n",
    "print(\"파일 읽기 실행 중입니다...\\n\")\n",
    "start = time.time() # 로딩 시작 시간 저장\n",
    "df = pd.read_csv('/workspaces/ml202401-final-LeeEulHo/amazon_uk_shoes_products_dataset_2021_12.csv') # 파일 경로 지정\n",
    "end = time.time() # 로딩 종료 시간 저장\n",
    "print(\"파일 로딩에 걸린 시간은 \" + str(round(end - start, 2)) + \" 초입니다.\") # 걸린 시간 출력\n",
    "\n",
    "df.head() # 읽은 데이터 프레임 상단만 출력"
   ]
  },
  {
   "cell_type": "code",
   "execution_count": 3,
   "metadata": {},
   "outputs": [
    {
     "data": {
      "text/plain": [
       "url                     0\n",
       "product_name            0\n",
       "reviewer_name           0\n",
       "review_title            1\n",
       "review_text             9\n",
       "review_rating           0\n",
       "verified_purchase       0\n",
       "review_date             0\n",
       "helpful_count        4870\n",
       "uniq_id                 0\n",
       "scraped_at              0\n",
       "dtype: int64"
      ]
     },
     "execution_count": 3,
     "metadata": {},
     "output_type": "execute_result"
    }
   ],
   "source": [
    "# 결측치 확인 및 제거\n",
    "\n",
    "df.isnull().sum() # 결측치 값이 존재하는 데이터 갯수 출력"
   ]
  },
  {
   "cell_type": "code",
   "execution_count": 4,
   "metadata": {},
   "outputs": [
    {
     "data": {
      "text/plain": [
       "url                  0\n",
       "product_name         0\n",
       "reviewer_name        0\n",
       "review_title         0\n",
       "review_text          0\n",
       "review_rating        0\n",
       "verified_purchase    0\n",
       "review_date          0\n",
       "uniq_id              0\n",
       "scraped_at           0\n",
       "dtype: int64"
      ]
     },
     "execution_count": 4,
     "metadata": {},
     "output_type": "execute_result"
    }
   ],
   "source": [
    "# helpful_count 열 제거\n",
    "\n",
    "df = df.drop([\"helpful_count\"], axis=1)\n",
    "df = df.dropna(axis=0) # 결측치 존재하는 행 제거\n",
    "\n",
    "df.isnull().sum() # 결측치 여부 확인"
   ]
  },
  {
   "cell_type": "code",
   "execution_count": 5,
   "metadata": {},
   "outputs": [
    {
     "data": {
      "text/plain": [
       "url                  6813\n",
       "product_name         6813\n",
       "reviewer_name        6813\n",
       "review_title         6813\n",
       "review_text          6813\n",
       "review_rating        6813\n",
       "verified_purchase    6813\n",
       "review_date          6813\n",
       "uniq_id              6813\n",
       "scraped_at           6813\n",
       "dtype: int64"
      ]
     },
     "execution_count": 5,
     "metadata": {},
     "output_type": "execute_result"
    }
   ],
   "source": [
    "# 결측치 제거 후 총 데이터 갯수 확인\n",
    "\n",
    "df.count() # 데이터 갯수 출력"
   ]
  },
  {
   "cell_type": "markdown",
   "metadata": {},
   "source": [
    "## 2) 데이터 프레임 정리"
   ]
  },
  {
   "cell_type": "code",
   "execution_count": 6,
   "metadata": {},
   "outputs": [
    {
     "data": {
      "text/html": [
       "<div>\n",
       "<style scoped>\n",
       "    .dataframe tbody tr th:only-of-type {\n",
       "        vertical-align: middle;\n",
       "    }\n",
       "\n",
       "    .dataframe tbody tr th {\n",
       "        vertical-align: top;\n",
       "    }\n",
       "\n",
       "    .dataframe thead th {\n",
       "        text-align: right;\n",
       "    }\n",
       "</style>\n",
       "<table border=\"1\" class=\"dataframe\">\n",
       "  <thead>\n",
       "    <tr style=\"text-align: right;\">\n",
       "      <th></th>\n",
       "      <th>product_name</th>\n",
       "      <th>reviewer_name</th>\n",
       "      <th>review_title</th>\n",
       "      <th>review_text</th>\n",
       "      <th>review_rating</th>\n",
       "    </tr>\n",
       "  </thead>\n",
       "  <tbody>\n",
       "    <tr>\n",
       "      <th>0</th>\n",
       "      <td>Klasified Women's Transparent Clear Sneaker Sh...</td>\n",
       "      <td>Jocelyn McSayles</td>\n",
       "      <td>Love em</td>\n",
       "      <td>Love these. Was looking for converses and thes...</td>\n",
       "      <td>5.0</td>\n",
       "    </tr>\n",
       "    <tr>\n",
       "      <th>1</th>\n",
       "      <td>Klasified Women's Transparent Clear Sneaker Sh...</td>\n",
       "      <td>Kenia Rivera</td>\n",
       "      <td>The plastic ripped</td>\n",
       "      <td>The shoes are very cute, but after the 2nd day...</td>\n",
       "      <td>2.0</td>\n",
       "    </tr>\n",
       "    <tr>\n",
       "      <th>2</th>\n",
       "      <td>Klasified Women's Transparent Clear Sneaker Sh...</td>\n",
       "      <td>Chris Souza</td>\n",
       "      <td>Good quality</td>\n",
       "      <td>Good quality</td>\n",
       "      <td>5.0</td>\n",
       "    </tr>\n",
       "    <tr>\n",
       "      <th>3</th>\n",
       "      <td>Klasified Women's Transparent Clear Sneaker Sh...</td>\n",
       "      <td>Amazon Customer</td>\n",
       "      <td>Good</td>\n",
       "      <td>Great</td>\n",
       "      <td>5.0</td>\n",
       "    </tr>\n",
       "    <tr>\n",
       "      <th>4</th>\n",
       "      <td>GUESS Women's Bradly Gymnastics Shoe, White, 7 UK</td>\n",
       "      <td>Graziella</td>\n",
       "      <td>PERFETTE!!</td>\n",
       "      <td>Ho scelto il modello bianco con rifinitura die...</td>\n",
       "      <td>5.0</td>\n",
       "    </tr>\n",
       "  </tbody>\n",
       "</table>\n",
       "</div>"
      ],
      "text/plain": [
       "                                        product_name     reviewer_name  \\\n",
       "0  Klasified Women's Transparent Clear Sneaker Sh...  Jocelyn McSayles   \n",
       "1  Klasified Women's Transparent Clear Sneaker Sh...      Kenia Rivera   \n",
       "2  Klasified Women's Transparent Clear Sneaker Sh...       Chris Souza   \n",
       "3  Klasified Women's Transparent Clear Sneaker Sh...   Amazon Customer   \n",
       "4  GUESS Women's Bradly Gymnastics Shoe, White, 7 UK         Graziella   \n",
       "\n",
       "         review_title                                        review_text  \\\n",
       "0             Love em  Love these. Was looking for converses and thes...   \n",
       "1  The plastic ripped  The shoes are very cute, but after the 2nd day...   \n",
       "2        Good quality                                       Good quality   \n",
       "3                Good                                              Great   \n",
       "4          PERFETTE!!  Ho scelto il modello bianco con rifinitura die...   \n",
       "\n",
       "   review_rating  \n",
       "0            5.0  \n",
       "1            2.0  \n",
       "2            5.0  \n",
       "3            5.0  \n",
       "4            5.0  "
      ]
     },
     "execution_count": 6,
     "metadata": {},
     "output_type": "execute_result"
    }
   ],
   "source": [
    "# 기존의 데이터 프레임에서 필요 없는 열을 삭제 진행\n",
    "\n",
    "df = df.drop([\"url\", \"verified_purchase\", \"uniq_id\", \"scraped_at\", \"review_date\"], axis=1) # 불필요한 열 삭제\n",
    "df.head() # 편집 결과 출력"
   ]
  },
  {
   "cell_type": "markdown",
   "metadata": {},
   "source": [
    "## 3) 노이즈 제거 (정규식 활용)"
   ]
  },
  {
   "cell_type": "code",
   "execution_count": 7,
   "metadata": {},
   "outputs": [],
   "source": [
    "import re # 정규식 import\n",
    "\n",
    "def remove_noise(text): # 노이즈 제거 함수 정의\n",
    "    clear_noise = re.sub(r'[^A-Za-z\\s]', '', text) # 입력된 텍스트에 대해 영어와 공백을 제외한 모든 문자를 제거함\n",
    "    return clear_noise\n",
    "\n",
    "df['review_title'] = df['review_title'].apply(remove_noise) # 리뷰 제목 노이즈 제거\n",
    "df['reviewer_name'] = df['reviewer_name'].apply(remove_noise) # 리뷰 내용 노이즈 제거"
   ]
  },
  {
   "cell_type": "markdown",
   "metadata": {},
   "source": [
    "## 4) 토큰화 진행 (nltk 활용)"
   ]
  },
  {
   "cell_type": "code",
   "execution_count": 8,
   "metadata": {},
   "outputs": [
    {
     "name": "stdout",
     "output_type": "stream",
     "text": [
      "Requirement already satisfied: nltk in ./.venv/lib/python3.10/site-packages (3.8.1)\n",
      "Requirement already satisfied: click in ./.venv/lib/python3.10/site-packages (from nltk) (8.1.7)\n",
      "Requirement already satisfied: joblib in ./.venv/lib/python3.10/site-packages (from nltk) (1.4.2)\n",
      "Requirement already satisfied: regex>=2021.8.3 in ./.venv/lib/python3.10/site-packages (from nltk) (2024.5.15)\n",
      "Requirement already satisfied: tqdm in ./.venv/lib/python3.10/site-packages (from nltk) (4.66.4)\n",
      "Note: you may need to restart the kernel to use updated packages.\n"
     ]
    },
    {
     "name": "stderr",
     "output_type": "stream",
     "text": [
      "[nltk_data] Downloading package vader_lexicon to\n",
      "[nltk_data]     /home/codespace/nltk_data...\n",
      "[nltk_data]   Package vader_lexicon is already up-to-date!\n"
     ]
    },
    {
     "data": {
      "text/plain": [
       "True"
      ]
     },
     "execution_count": 8,
     "metadata": {},
     "output_type": "execute_result"
    }
   ],
   "source": [
    "#nltk 관련 필요 모듈 import\n",
    "\n",
    "%pip install nltk #pip를 통해 nltk 설치\n",
    "import nltk as nltk # nltk import\n",
    "from nltk.corpus import stopwords # 불용어 제거 목적 stopwords import\n",
    "from nltk.sentiment.vader import SentimentIntensityAnalyzer # nltk의 VADER 감정 분석기 impot 진행\n",
    "nltk.download('vader_lexicon') # VADER 모델의 감정 분석기에 필요한 어휘 자료를 다운로드"
   ]
  },
  {
   "cell_type": "code",
   "execution_count": 9,
   "metadata": {},
   "outputs": [
    {
     "name": "stderr",
     "output_type": "stream",
     "text": [
      "[nltk_data] Downloading package punkt to /home/codespace/nltk_data...\n",
      "[nltk_data]   Package punkt is already up-to-date!\n"
     ]
    }
   ],
   "source": [
    "# nltk의 tokenize 기능을 이용하여 리뷰 제목과 내용을 토큰화 진행 후 새로은 열을 만들어 각각 저장\n",
    "\n",
    "from nltk.tokenize import word_tokenize  #nltk의 tokenize 기능 import\n",
    "\n",
    "nltk.download('punkt') # tokenize에 필요한 punkt 다운로드\n",
    "\n",
    "df[\"review_title_token\"] = df.review_title.apply(word_tokenize) # review_title 내용을 tokenize 진행하여 review_title_token에 저장\n",
    "df[\"review_text_token\"] = df.review_text.apply(word_tokenize) # review_text 내용을 tokenize 진행하여 review_text_token에 저장"
   ]
  },
  {
   "cell_type": "markdown",
   "metadata": {},
   "source": [
    "## 5) 불용어 제거 (nltk 활용)"
   ]
  },
  {
   "cell_type": "code",
   "execution_count": 10,
   "metadata": {},
   "outputs": [
    {
     "name": "stderr",
     "output_type": "stream",
     "text": [
      "[nltk_data] Downloading package stopwords to\n",
      "[nltk_data]     /home/codespace/nltk_data...\n",
      "[nltk_data]   Package stopwords is already up-to-date!\n"
     ]
    }
   ],
   "source": [
    "# stopword 리스트를 외부에서 가져와서 지금의 리뷰에서 존재하는 stopword를 제거하는 과정을 여기에서 진행함\n",
    "\n",
    "nltk.download('stopwords') # 불용어 제거 기능을 사용하기 위해 stopwords를 다운로드\n",
    "\n",
    "start = time.time()\n",
    "cache = set(stopwords.words(\"english\")) # stopword 단어 세팅을 영어로 지정\n",
    "\n",
    "def remove_stopwords(review_tokens): # 불용어 제거 기능 함수 정의\n",
    "    text = \" \".join([word.lower() for word in review_tokens if word not in cache]) # 소문자 처리 후 불용어에 해당하는 것은 제거하고 아닌것은 공백으로 구분하여 저장\n",
    "    return text\n",
    "\n",
    "# Remove the stop words from both columns\n",
    "df[\"review_title_token\"] = df.review_title_token.apply(remove_stopwords) # review_title_token에 불용어 제거 진행 후 다시 저장\n",
    "df[\"review_text_token\"] = df.review_text_token.apply(remove_stopwords) # eview_text_token에 불용어 제거 진행 후 다시 저장"
   ]
  },
  {
   "cell_type": "code",
   "execution_count": 11,
   "metadata": {},
   "outputs": [
    {
     "data": {
      "text/html": [
       "<div>\n",
       "<style scoped>\n",
       "    .dataframe tbody tr th:only-of-type {\n",
       "        vertical-align: middle;\n",
       "    }\n",
       "\n",
       "    .dataframe tbody tr th {\n",
       "        vertical-align: top;\n",
       "    }\n",
       "\n",
       "    .dataframe thead th {\n",
       "        text-align: right;\n",
       "    }\n",
       "</style>\n",
       "<table border=\"1\" class=\"dataframe\">\n",
       "  <thead>\n",
       "    <tr style=\"text-align: right;\">\n",
       "      <th></th>\n",
       "      <th>product_name</th>\n",
       "      <th>reviewer_name</th>\n",
       "      <th>review_title</th>\n",
       "      <th>review_text</th>\n",
       "      <th>review_rating</th>\n",
       "      <th>review_title_token</th>\n",
       "      <th>review_text_token</th>\n",
       "    </tr>\n",
       "  </thead>\n",
       "  <tbody>\n",
       "    <tr>\n",
       "      <th>0</th>\n",
       "      <td>Klasified Women's Transparent Clear Sneaker Sh...</td>\n",
       "      <td>Jocelyn McSayles</td>\n",
       "      <td>Love em</td>\n",
       "      <td>Love these. Was looking for converses and thes...</td>\n",
       "      <td>5.0</td>\n",
       "      <td>love em</td>\n",
       "      <td>love . was looking converses half price unique...</td>\n",
       "    </tr>\n",
       "    <tr>\n",
       "      <th>1</th>\n",
       "      <td>Klasified Women's Transparent Clear Sneaker Sh...</td>\n",
       "      <td>Kenia Rivera</td>\n",
       "      <td>The plastic ripped</td>\n",
       "      <td>The shoes are very cute, but after the 2nd day...</td>\n",
       "      <td>2.0</td>\n",
       "      <td>the plastic ripped</td>\n",
       "      <td>the shoes cute , 2nd day wearing tongue starte...</td>\n",
       "    </tr>\n",
       "    <tr>\n",
       "      <th>2</th>\n",
       "      <td>Klasified Women's Transparent Clear Sneaker Sh...</td>\n",
       "      <td>Chris Souza</td>\n",
       "      <td>Good quality</td>\n",
       "      <td>Good quality</td>\n",
       "      <td>5.0</td>\n",
       "      <td>good quality</td>\n",
       "      <td>good quality</td>\n",
       "    </tr>\n",
       "    <tr>\n",
       "      <th>3</th>\n",
       "      <td>Klasified Women's Transparent Clear Sneaker Sh...</td>\n",
       "      <td>Amazon Customer</td>\n",
       "      <td>Good</td>\n",
       "      <td>Great</td>\n",
       "      <td>5.0</td>\n",
       "      <td>good</td>\n",
       "      <td>great</td>\n",
       "    </tr>\n",
       "    <tr>\n",
       "      <th>4</th>\n",
       "      <td>GUESS Women's Bradly Gymnastics Shoe, White, 7 UK</td>\n",
       "      <td>Graziella</td>\n",
       "      <td>PERFETTE</td>\n",
       "      <td>Ho scelto il modello bianco con rifinitura die...</td>\n",
       "      <td>5.0</td>\n",
       "      <td>perfette</td>\n",
       "      <td>ho scelto il modello bianco con rifinitura die...</td>\n",
       "    </tr>\n",
       "    <tr>\n",
       "      <th>5</th>\n",
       "      <td>GUESS Women's Bradly Gymnastics Shoe, White, 7 UK</td>\n",
       "      <td>Francesca</td>\n",
       "      <td>delusione</td>\n",
       "      <td>Sono solita comprare scarpe Guess e non ho mai...</td>\n",
       "      <td>1.0</td>\n",
       "      <td>delusione</td>\n",
       "      <td>sono solita comprare scarpe guess e non ho mai...</td>\n",
       "    </tr>\n",
       "    <tr>\n",
       "      <th>6</th>\n",
       "      <td>GUESS Women's Bradly Gymnastics Shoe, White, 7 UK</td>\n",
       "      <td>Cliente</td>\n",
       "      <td>Molto belle</td>\n",
       "      <td>Le scarpe sono molto belle, calzano perfettamente</td>\n",
       "      <td>5.0</td>\n",
       "      <td>molto belle</td>\n",
       "      <td>le scarpe sono molto belle , calzano perfettam...</td>\n",
       "    </tr>\n",
       "    <tr>\n",
       "      <th>7</th>\n",
       "      <td>GUESS Women's Bradly Gymnastics Shoe, White, 7 UK</td>\n",
       "      <td>Cliente Amazon</td>\n",
       "      <td>Molto carine e comode</td>\n",
       "      <td>Semplicemente perfette. Io uso plantari su mis...</td>\n",
       "      <td>5.0</td>\n",
       "      <td>molto carine e comode</td>\n",
       "      <td>semplicemente perfette . io uso plantari su mi...</td>\n",
       "    </tr>\n",
       "    <tr>\n",
       "      <th>8</th>\n",
       "      <td>GUESS Women's Bradly Gymnastics Shoe, White, 7 UK</td>\n",
       "      <td>Marcella</td>\n",
       "      <td>Bellissimepeccato per il numero</td>\n",
       "      <td>Le scarpe sono bellissime, arrivate in perfett...</td>\n",
       "      <td>5.0</td>\n",
       "      <td>bellissimepeccato per il numero</td>\n",
       "      <td>le scarpe sono bellissime , arrivate perfetto ...</td>\n",
       "    </tr>\n",
       "    <tr>\n",
       "      <th>9</th>\n",
       "      <td>GUESS Women's Bradly Gymnastics Shoe, White, 7 UK</td>\n",
       "      <td>Giuseppe</td>\n",
       "      <td>Scarpe ben realizzate venditore ottimo</td>\n",
       "      <td>Le scarpe sono ben fatte e il venditore molto ...</td>\n",
       "      <td>5.0</td>\n",
       "      <td>scarpe ben realizzate venditore ottimo</td>\n",
       "      <td>le scarpe sono ben fatte e il venditore molto ...</td>\n",
       "    </tr>\n",
       "  </tbody>\n",
       "</table>\n",
       "</div>"
      ],
      "text/plain": [
       "                                        product_name     reviewer_name  \\\n",
       "0  Klasified Women's Transparent Clear Sneaker Sh...  Jocelyn McSayles   \n",
       "1  Klasified Women's Transparent Clear Sneaker Sh...      Kenia Rivera   \n",
       "2  Klasified Women's Transparent Clear Sneaker Sh...       Chris Souza   \n",
       "3  Klasified Women's Transparent Clear Sneaker Sh...   Amazon Customer   \n",
       "4  GUESS Women's Bradly Gymnastics Shoe, White, 7 UK         Graziella   \n",
       "5  GUESS Women's Bradly Gymnastics Shoe, White, 7 UK         Francesca   \n",
       "6  GUESS Women's Bradly Gymnastics Shoe, White, 7 UK           Cliente   \n",
       "7  GUESS Women's Bradly Gymnastics Shoe, White, 7 UK    Cliente Amazon   \n",
       "8  GUESS Women's Bradly Gymnastics Shoe, White, 7 UK          Marcella   \n",
       "9  GUESS Women's Bradly Gymnastics Shoe, White, 7 UK          Giuseppe   \n",
       "\n",
       "                             review_title  \\\n",
       "0                                 Love em   \n",
       "1                      The plastic ripped   \n",
       "2                            Good quality   \n",
       "3                                    Good   \n",
       "4                                PERFETTE   \n",
       "5                               delusione   \n",
       "6                             Molto belle   \n",
       "7                   Molto carine e comode   \n",
       "8         Bellissimepeccato per il numero   \n",
       "9  Scarpe ben realizzate venditore ottimo   \n",
       "\n",
       "                                         review_text  review_rating  \\\n",
       "0  Love these. Was looking for converses and thes...            5.0   \n",
       "1  The shoes are very cute, but after the 2nd day...            2.0   \n",
       "2                                       Good quality            5.0   \n",
       "3                                              Great            5.0   \n",
       "4  Ho scelto il modello bianco con rifinitura die...            5.0   \n",
       "5  Sono solita comprare scarpe Guess e non ho mai...            1.0   \n",
       "6  Le scarpe sono molto belle, calzano perfettamente            5.0   \n",
       "7  Semplicemente perfette. Io uso plantari su mis...            5.0   \n",
       "8  Le scarpe sono bellissime, arrivate in perfett...            5.0   \n",
       "9  Le scarpe sono ben fatte e il venditore molto ...            5.0   \n",
       "\n",
       "                       review_title_token  \\\n",
       "0                                 love em   \n",
       "1                      the plastic ripped   \n",
       "2                            good quality   \n",
       "3                                    good   \n",
       "4                                perfette   \n",
       "5                               delusione   \n",
       "6                             molto belle   \n",
       "7                   molto carine e comode   \n",
       "8         bellissimepeccato per il numero   \n",
       "9  scarpe ben realizzate venditore ottimo   \n",
       "\n",
       "                                   review_text_token  \n",
       "0  love . was looking converses half price unique...  \n",
       "1  the shoes cute , 2nd day wearing tongue starte...  \n",
       "2                                       good quality  \n",
       "3                                              great  \n",
       "4  ho scelto il modello bianco con rifinitura die...  \n",
       "5  sono solita comprare scarpe guess e non ho mai...  \n",
       "6  le scarpe sono molto belle , calzano perfettam...  \n",
       "7  semplicemente perfette . io uso plantari su mi...  \n",
       "8  le scarpe sono bellissime , arrivate perfetto ...  \n",
       "9  le scarpe sono ben fatte e il venditore molto ...  "
      ]
     },
     "execution_count": 11,
     "metadata": {},
     "output_type": "execute_result"
    }
   ],
   "source": [
    "# 정리 완료한 데이터 프레임 상태 확인\n",
    "\n",
    "df.head(10)"
   ]
  },
  {
   "cell_type": "markdown",
   "metadata": {},
   "source": [
    "# 2. 모델 구현:\n",
    "\t수업에서 활용한 모델을 적용 (nltk의 vader 모델을 통한 감정 분석 데이터 활용 logistic regression 진행)"
   ]
  },
  {
   "cell_type": "markdown",
   "metadata": {},
   "source": [
    "### 1) nltk의 vader 모델을 통한 감정 분석 진행 및 데이터 저장"
   ]
  },
  {
   "cell_type": "code",
   "execution_count": 12,
   "metadata": {},
   "outputs": [],
   "source": [
    "# vader 모델을 감정 분석기로 초기화 진행 후 감정 분석 기능 함수 생성\n",
    "\n",
    "vader_sentiment = SentimentIntensityAnalyzer() # VADER 감정 분석기를 초기화\n",
    "\n",
    "def calc_sentiment(review): # 감정 분석 함수 정의\n",
    "    return vader_sentiment.polarity_scores(review)[\"compound\"] # 모든 리뷰 감정 분석 진행"
   ]
  },
  {
   "cell_type": "code",
   "execution_count": 13,
   "metadata": {},
   "outputs": [],
   "source": [
    "# logistic regression 적용을 위한 값 변환\n",
    "\n",
    "def change_to_binary(sentiment_score): # 이진 값으로 감정 분석 결과를 변경함\n",
    "    if sentiment_score >= 0.1:\n",
    "        return 1  # 긍정 감정\n",
    "    else:\n",
    "        return 0  # 부정 감정"
   ]
  },
  {
   "cell_type": "code",
   "execution_count": 14,
   "metadata": {},
   "outputs": [
    {
     "name": "stdout",
     "output_type": "stream",
     "text": [
      "리뷰 제목과 리뷰 내용 감정 분석 결과 데이터프레임에 추가\n",
      "\n",
      "감정 분석 계산 시간 :  2.7 초 소요\n"
     ]
    }
   ],
   "source": [
    "# vader 모델을 통한 감정 분석 도출 및 데이터 프레임에 계산 결과 추가 (logistic regression을 사용하기 위해 결과 값을 0 : 부정, 1 : 긍정으로 변환함)\n",
    "\n",
    "print(\"리뷰 제목과 리뷰 내용 감정 분석 결과 데이터프레임에 추가\\n\")\n",
    "start = time.time()\n",
    "df[\"review_title_sentiment_score\"] = df.review_title.apply(calc_sentiment).round(2) # 감정 분석 결과값을 소수점 두자리수까지 반올림해서 저장함\n",
    "df[\"review_text_sentiment_score\"] = df.review_text.apply(calc_sentiment).round(2) # 감정 분석 결과값을 소수점 두자리수까지 반올림해서 저장함\n",
    "\n",
    "end = time.time()\n",
    "print(\"감정 분석 계산 시간 :  \" + str(round(end - start, 2)) + \" 초 소요\")"
   ]
  },
  {
   "cell_type": "code",
   "execution_count": 15,
   "metadata": {},
   "outputs": [],
   "source": [
    "# 이진 값으로 변환 진행\n",
    "\n",
    "df[\"review_title_sentiment_score\"] = df.review_title_sentiment_score.apply(change_to_binary)\n",
    "df[\"review_text_sentiment_score\"] = df.review_text_sentiment_score.apply(change_to_binary)"
   ]
  },
  {
   "cell_type": "code",
   "execution_count": 16,
   "metadata": {},
   "outputs": [
    {
     "data": {
      "text/html": [
       "<div>\n",
       "<style scoped>\n",
       "    .dataframe tbody tr th:only-of-type {\n",
       "        vertical-align: middle;\n",
       "    }\n",
       "\n",
       "    .dataframe tbody tr th {\n",
       "        vertical-align: top;\n",
       "    }\n",
       "\n",
       "    .dataframe thead th {\n",
       "        text-align: right;\n",
       "    }\n",
       "</style>\n",
       "<table border=\"1\" class=\"dataframe\">\n",
       "  <thead>\n",
       "    <tr style=\"text-align: right;\">\n",
       "      <th></th>\n",
       "      <th>product_name</th>\n",
       "      <th>review_text_token</th>\n",
       "      <th>review_text_sentiment_score</th>\n",
       "    </tr>\n",
       "  </thead>\n",
       "  <tbody>\n",
       "    <tr>\n",
       "      <th>0</th>\n",
       "      <td>Klasified Women's Transparent Clear Sneaker Sh...</td>\n",
       "      <td>love . was looking converses half price unique...</td>\n",
       "      <td>1</td>\n",
       "    </tr>\n",
       "    <tr>\n",
       "      <th>1</th>\n",
       "      <td>Klasified Women's Transparent Clear Sneaker Sh...</td>\n",
       "      <td>the shoes cute , 2nd day wearing tongue starte...</td>\n",
       "      <td>1</td>\n",
       "    </tr>\n",
       "    <tr>\n",
       "      <th>2</th>\n",
       "      <td>Klasified Women's Transparent Clear Sneaker Sh...</td>\n",
       "      <td>good quality</td>\n",
       "      <td>1</td>\n",
       "    </tr>\n",
       "    <tr>\n",
       "      <th>3</th>\n",
       "      <td>Klasified Women's Transparent Clear Sneaker Sh...</td>\n",
       "      <td>great</td>\n",
       "      <td>1</td>\n",
       "    </tr>\n",
       "    <tr>\n",
       "      <th>4</th>\n",
       "      <td>GUESS Women's Bradly Gymnastics Shoe, White, 7 UK</td>\n",
       "      <td>ho scelto il modello bianco con rifinitura die...</td>\n",
       "      <td>0</td>\n",
       "    </tr>\n",
       "    <tr>\n",
       "      <th>...</th>\n",
       "      <td>...</td>\n",
       "      <td>...</td>\n",
       "      <td>...</td>\n",
       "    </tr>\n",
       "    <tr>\n",
       "      <th>6818</th>\n",
       "      <td>Clarks Vennor Wing, Men’s Low-Top Sneakers, Bl...</td>\n",
       "      <td>schicker schuh , läuft sich gut .</td>\n",
       "      <td>0</td>\n",
       "    </tr>\n",
       "    <tr>\n",
       "      <th>6819</th>\n",
       "      <td>Clarks Vennor Wing, Men’s Low-Top Sneakers, Bl...</td>\n",
       "      <td>mieux que je ne l'imaginais . très bonne taill...</td>\n",
       "      <td>0</td>\n",
       "    </tr>\n",
       "    <tr>\n",
       "      <th>6820</th>\n",
       "      <td>Rohde Men's Tivoli-H Mule, 82 Anthracite, 12.5 UK</td>\n",
       "      <td>habe sie als geschenk gekauft und sie sind seh...</td>\n",
       "      <td>1</td>\n",
       "    </tr>\n",
       "    <tr>\n",
       "      <th>6821</th>\n",
       "      <td>Rohde Men's Tivoli-H Mule, 82 Anthracite, 12.5 UK</td>\n",
       "      <td>trage diese hausschuhe fast zwei monate jeden ...</td>\n",
       "      <td>0</td>\n",
       "    </tr>\n",
       "    <tr>\n",
       "      <th>6822</th>\n",
       "      <td>Rohde Men's Tivoli-H Mule, 82 Anthracite, 12.5 UK</td>\n",
       "      <td>die hausschuhe sind sehr warm und tolle leder ...</td>\n",
       "      <td>0</td>\n",
       "    </tr>\n",
       "  </tbody>\n",
       "</table>\n",
       "<p>6813 rows × 3 columns</p>\n",
       "</div>"
      ],
      "text/plain": [
       "                                           product_name  \\\n",
       "0     Klasified Women's Transparent Clear Sneaker Sh...   \n",
       "1     Klasified Women's Transparent Clear Sneaker Sh...   \n",
       "2     Klasified Women's Transparent Clear Sneaker Sh...   \n",
       "3     Klasified Women's Transparent Clear Sneaker Sh...   \n",
       "4     GUESS Women's Bradly Gymnastics Shoe, White, 7 UK   \n",
       "...                                                 ...   \n",
       "6818  Clarks Vennor Wing, Men’s Low-Top Sneakers, Bl...   \n",
       "6819  Clarks Vennor Wing, Men’s Low-Top Sneakers, Bl...   \n",
       "6820  Rohde Men's Tivoli-H Mule, 82 Anthracite, 12.5 UK   \n",
       "6821  Rohde Men's Tivoli-H Mule, 82 Anthracite, 12.5 UK   \n",
       "6822  Rohde Men's Tivoli-H Mule, 82 Anthracite, 12.5 UK   \n",
       "\n",
       "                                      review_text_token  \\\n",
       "0     love . was looking converses half price unique...   \n",
       "1     the shoes cute , 2nd day wearing tongue starte...   \n",
       "2                                          good quality   \n",
       "3                                                 great   \n",
       "4     ho scelto il modello bianco con rifinitura die...   \n",
       "...                                                 ...   \n",
       "6818                  schicker schuh , läuft sich gut .   \n",
       "6819  mieux que je ne l'imaginais . très bonne taill...   \n",
       "6820  habe sie als geschenk gekauft und sie sind seh...   \n",
       "6821  trage diese hausschuhe fast zwei monate jeden ...   \n",
       "6822  die hausschuhe sind sehr warm und tolle leder ...   \n",
       "\n",
       "      review_text_sentiment_score  \n",
       "0                               1  \n",
       "1                               1  \n",
       "2                               1  \n",
       "3                               1  \n",
       "4                               0  \n",
       "...                           ...  \n",
       "6818                            0  \n",
       "6819                            0  \n",
       "6820                            1  \n",
       "6821                            0  \n",
       "6822                            0  \n",
       "\n",
       "[6813 rows x 3 columns]"
      ]
     },
     "execution_count": 16,
     "metadata": {},
     "output_type": "execute_result"
    }
   ],
   "source": [
    "# 준비 완료된 데이터를 데이터 프레임으로 편집\n",
    "\n",
    "df_review = df[['product_name', 'review_text_token', 'review_text_sentiment_score']]\n",
    "df_review"
   ]
  },
  {
   "cell_type": "markdown",
   "metadata": {},
   "source": [
    "# 3. 모델 학습 및 튜닝:\n",
    "\t데이터셋을 학습 및 테스트 세트로 분할.\n",
    "\t모델 학습 및 하이퍼파라미터 튜닝 (예: 그리드 서치 또는 랜덤 서치 사용).\n",
    "\t교차 검증과 같은 기술을 사용하여 견고성 보장."
   ]
  },
  {
   "cell_type": "markdown",
   "metadata": {},
   "source": [
    "### 1) 필요 모듈 설치\n"
   ]
  },
  {
   "cell_type": "code",
   "execution_count": 17,
   "metadata": {},
   "outputs": [],
   "source": [
    "# 필요 모듈 설치\n",
    "\n",
    "import pandas as pd\n",
    "from nltk.sentiment.vader import SentimentIntensityAnalyzer\n",
    "from sklearn.model_selection import train_test_split\n",
    "from sklearn.feature_extraction.text import TfidfVectorizer\n",
    "from sklearn.linear_model import LogisticRegression\n",
    "from sklearn.model_selection import GridSearchCV\n",
    "from sklearn.metrics import accuracy_score, precision_score, recall_score, f1_score, roc_auc_score\n",
    "from sklearn.metrics import confusion_matrix, classification_report"
   ]
  },
  {
   "cell_type": "markdown",
   "metadata": {},
   "source": [
    "### 2) 데이터 지정 및 감정 분석 데이터 벡터화 진행\n",
    "\n",
    "약 11분 정도 소요"
   ]
  },
  {
   "cell_type": "code",
   "execution_count": 18,
   "metadata": {},
   "outputs": [],
   "source": [
    "# 데이터 지정\n",
    "x = df['review_text_token']\n",
    "y = df['review_text_sentiment_score']\n",
    "\n",
    "# TF-IDF 벡터화\n",
    "vectorizer = TfidfVectorizer(max_features=1000)\n",
    "x = vectorizer.fit_transform(df['review_text_token'])"
   ]
  },
  {
   "cell_type": "markdown",
   "metadata": {},
   "source": [
    "### 3) train data, test data로 각각 분할"
   ]
  },
  {
   "cell_type": "code",
   "execution_count": 19,
   "metadata": {},
   "outputs": [],
   "source": [
    "# 학습 데이터와 테스트 데이터로 분할 진행\n",
    "x_train, x_test, y_train, y_test = train_test_split(x, y, test_size=0.2, random_state=42)"
   ]
  },
  {
   "cell_type": "markdown",
   "metadata": {},
   "source": [
    "### 4) logistic Regression 모델 초기화 및 그리드 서치 활용 최적 모델 출력\n",
    "\n",
    "하단의 작업은 10분 정도 소요됨"
   ]
  },
  {
   "cell_type": "code",
   "execution_count": 20,
   "metadata": {},
   "outputs": [
    {
     "name": "stdout",
     "output_type": "stream",
     "text": [
      "Best parameters: {'C': 10}\n",
      "Best cross-validation score: 0.8867889908256881\n"
     ]
    }
   ],
   "source": [
    "# Logistic Regression 모델 초기화\n",
    "model = LogisticRegression()\n",
    "\n",
    "# 하이퍼파라미터 그리드 설정\n",
    "param_grid = {'C': [0.001, 0.01, 0.1, 1, 10, 100]}\n",
    "\n",
    "# 그리드 서치를 사용하여 최적의 하이퍼파라미터 탐색\n",
    "grid_search = GridSearchCV(model, param_grid, cv=5, scoring='accuracy')\n",
    "grid_search.fit(x_train, y_train)\n",
    "\n",
    "# 최적의 모델 및 하이퍼파라미터 출력\n",
    "print(\"Best parameters:\", grid_search.best_params_)\n",
    "print(\"Best cross-validation score:\", grid_search.best_score_)"
   ]
  },
  {
   "cell_type": "markdown",
   "metadata": {},
   "source": [
    "### 5) 위에서 찾은 최적의 모델을 활용하여 학습 및 예측 진행"
   ]
  },
  {
   "cell_type": "code",
   "execution_count": 21,
   "metadata": {},
   "outputs": [],
   "source": [
    "# 최적의 모델을 사용하여 전체 학습 데이터에 대해 학습\n",
    "best_model = grid_search.best_estimator_\n",
    "best_model.fit(x_train, y_train)\n",
    "\n",
    "# 테스트 데이터에 대해 예측\n",
    "y_pred = best_model.predict(x_test)"
   ]
  },
  {
   "cell_type": "markdown",
   "metadata": {},
   "source": [
    "# 4. 모델 평가:\n",
    "\t정확도, 정밀도, 재현율, F1 점수 및 ROC-AUC와 같은 지표를 사용하여 모델 평가.\n",
    "\t오버피팅과 언더피팅을 논의하고 이를 해결하는 방법 학습."
   ]
  },
  {
   "cell_type": "code",
   "execution_count": 22,
   "metadata": {},
   "outputs": [
    {
     "name": "stdout",
     "output_type": "stream",
     "text": [
      "Accuracy: 0.8892149669845928\n",
      "Precision: 0.8896068492093696\n",
      "Recall: 0.8892149669845928\n",
      "F1 Score: 0.8893294648740914\n",
      "Confusion Matrix:\n",
      "[[533  69]\n",
      " [ 82 679]]\n",
      "Classification Report:\n",
      "              precision    recall  f1-score   support\n",
      "\n",
      "           0       0.87      0.89      0.88       602\n",
      "           1       0.91      0.89      0.90       761\n",
      "\n",
      "    accuracy                           0.89      1363\n",
      "   macro avg       0.89      0.89      0.89      1363\n",
      "weighted avg       0.89      0.89      0.89      1363\n",
      "\n"
     ]
    }
   ],
   "source": [
    "# 정확도 평가\n",
    "accuracy = accuracy_score(y_test, y_pred)\n",
    "print(\"Accuracy:\", accuracy)\n",
    "\n",
    "# 정밀도 평가\n",
    "precision = precision_score(y_test, y_pred, average='weighted')\n",
    "print(\"Precision:\", precision)\n",
    "\n",
    "# 재현율 평가\n",
    "recall = recall_score(y_test, y_pred, average='weighted')\n",
    "print(\"Recall:\", recall)\n",
    "\n",
    "# F1 점수 평가\n",
    "f1 = f1_score(y_test, y_pred, average='weighted')\n",
    "print(\"F1 Score:\", f1)\n",
    "\n",
    "# 혼동 행렬 출력\n",
    "conf_matrix = confusion_matrix(y_test, y_pred)\n",
    "print(\"Confusion Matrix:\")\n",
    "print(conf_matrix)\n",
    "\n",
    "# 분류 보고서 출력\n",
    "class_report = classification_report(y_test, y_pred)\n",
    "print(\"Classification Report:\")\n",
    "print(class_report)"
   ]
  },
  {
   "cell_type": "markdown",
   "metadata": {},
   "source": [
    "# 5. 시각화 및 보고: (적절한 것을 골라서 쓰고, 추가할 것이 있으면 추가하라)\n",
    "\tMatplotlib 또는 Seaborn과 같은 라이브러리를 사용하여 결과 시각화.\n",
    "\t혼동 행렬 및 ROC 곡선 생성.\n",
    "\t보고서에 결과 요약."
   ]
  },
  {
   "cell_type": "code",
   "execution_count": 23,
   "metadata": {},
   "outputs": [
    {
     "data": {
      "text/plain": [
       "array([[533,  69],\n",
       "       [ 82, 679]])"
      ]
     },
     "execution_count": 23,
     "metadata": {},
     "output_type": "execute_result"
    }
   ],
   "source": [
    "from sklearn.metrics import confusion_matrix\n",
    "confusion_matrix(y_test, y_pred)"
   ]
  },
  {
   "cell_type": "code",
   "execution_count": 25,
   "metadata": {},
   "outputs": [
    {
     "ename": "NotFittedError",
     "evalue": "This LogisticRegression instance is not fitted yet. Call 'fit' with appropriate arguments before using this estimator.",
     "output_type": "error",
     "traceback": [
      "\u001b[0;31m---------------------------------------------------------------------------\u001b[0m",
      "\u001b[0;31mNotFittedError\u001b[0m                            Traceback (most recent call last)",
      "Cell \u001b[0;32mIn[25], line 6\u001b[0m\n\u001b[1;32m      3\u001b[0m \u001b[38;5;28;01mimport\u001b[39;00m \u001b[38;5;21;01mmatplotlib\u001b[39;00m\u001b[38;5;21;01m.\u001b[39;00m\u001b[38;5;21;01mpyplot\u001b[39;00m \u001b[38;5;28;01mas\u001b[39;00m \u001b[38;5;21;01mplt\u001b[39;00m\n\u001b[1;32m      4\u001b[0m get_ipython()\u001b[38;5;241m.\u001b[39mrun_line_magic(\u001b[38;5;124m'\u001b[39m\u001b[38;5;124mmatplotlib\u001b[39m\u001b[38;5;124m'\u001b[39m, \u001b[38;5;124m'\u001b[39m\u001b[38;5;124minline\u001b[39m\u001b[38;5;124m'\u001b[39m)\n\u001b[0;32m----> 6\u001b[0m y_scores \u001b[38;5;241m=\u001b[39m \u001b[43mmodel\u001b[49m\u001b[38;5;241;43m.\u001b[39;49m\u001b[43mpredict_proba\u001b[49m\u001b[43m(\u001b[49m\u001b[43my_test\u001b[49m\u001b[43m)\u001b[49m\n\u001b[1;32m      7\u001b[0m \u001b[38;5;66;03m# calculate ROC curve\u001b[39;00m\n\u001b[1;32m      8\u001b[0m fpr, tpr, thresholds \u001b[38;5;241m=\u001b[39m roc_curve(y_test, y_scores[:,\u001b[38;5;241m1\u001b[39m])\n",
      "File \u001b[0;32m/workspaces/ml202401-final-LeeEulHo/.venv/lib/python3.10/site-packages/sklearn/linear_model/_logistic.py:1421\u001b[0m, in \u001b[0;36mLogisticRegression.predict_proba\u001b[0;34m(self, X)\u001b[0m\n\u001b[1;32m   1395\u001b[0m \u001b[38;5;28;01mdef\u001b[39;00m \u001b[38;5;21mpredict_proba\u001b[39m(\u001b[38;5;28mself\u001b[39m, X):\n\u001b[1;32m   1396\u001b[0m \u001b[38;5;250m    \u001b[39m\u001b[38;5;124;03m\"\"\"\u001b[39;00m\n\u001b[1;32m   1397\u001b[0m \u001b[38;5;124;03m    Probability estimates.\u001b[39;00m\n\u001b[1;32m   1398\u001b[0m \n\u001b[0;32m   (...)\u001b[0m\n\u001b[1;32m   1419\u001b[0m \u001b[38;5;124;03m        where classes are ordered as they are in ``self.classes_``.\u001b[39;00m\n\u001b[1;32m   1420\u001b[0m \u001b[38;5;124;03m    \"\"\"\u001b[39;00m\n\u001b[0;32m-> 1421\u001b[0m     \u001b[43mcheck_is_fitted\u001b[49m\u001b[43m(\u001b[49m\u001b[38;5;28;43mself\u001b[39;49m\u001b[43m)\u001b[49m\n\u001b[1;32m   1423\u001b[0m     ovr \u001b[38;5;241m=\u001b[39m \u001b[38;5;28mself\u001b[39m\u001b[38;5;241m.\u001b[39mmulti_class \u001b[38;5;129;01min\u001b[39;00m [\u001b[38;5;124m\"\u001b[39m\u001b[38;5;124movr\u001b[39m\u001b[38;5;124m\"\u001b[39m, \u001b[38;5;124m\"\u001b[39m\u001b[38;5;124mwarn\u001b[39m\u001b[38;5;124m\"\u001b[39m] \u001b[38;5;129;01mor\u001b[39;00m (\n\u001b[1;32m   1424\u001b[0m         \u001b[38;5;28mself\u001b[39m\u001b[38;5;241m.\u001b[39mmulti_class \u001b[38;5;129;01min\u001b[39;00m [\u001b[38;5;124m\"\u001b[39m\u001b[38;5;124mauto\u001b[39m\u001b[38;5;124m\"\u001b[39m, \u001b[38;5;124m\"\u001b[39m\u001b[38;5;124mdeprecated\u001b[39m\u001b[38;5;124m\"\u001b[39m]\n\u001b[1;32m   1425\u001b[0m         \u001b[38;5;129;01mand\u001b[39;00m (\n\u001b[0;32m   (...)\u001b[0m\n\u001b[1;32m   1428\u001b[0m         )\n\u001b[1;32m   1429\u001b[0m     )\n\u001b[1;32m   1430\u001b[0m     \u001b[38;5;28;01mif\u001b[39;00m ovr:\n",
      "File \u001b[0;32m/workspaces/ml202401-final-LeeEulHo/.venv/lib/python3.10/site-packages/sklearn/utils/validation.py:1632\u001b[0m, in \u001b[0;36mcheck_is_fitted\u001b[0;34m(estimator, attributes, msg, all_or_any)\u001b[0m\n\u001b[1;32m   1629\u001b[0m     \u001b[38;5;28;01mraise\u001b[39;00m \u001b[38;5;167;01mTypeError\u001b[39;00m(\u001b[38;5;124m\"\u001b[39m\u001b[38;5;132;01m%s\u001b[39;00m\u001b[38;5;124m is not an estimator instance.\u001b[39m\u001b[38;5;124m\"\u001b[39m \u001b[38;5;241m%\u001b[39m (estimator))\n\u001b[1;32m   1631\u001b[0m \u001b[38;5;28;01mif\u001b[39;00m \u001b[38;5;129;01mnot\u001b[39;00m _is_fitted(estimator, attributes, all_or_any):\n\u001b[0;32m-> 1632\u001b[0m     \u001b[38;5;28;01mraise\u001b[39;00m NotFittedError(msg \u001b[38;5;241m%\u001b[39m {\u001b[38;5;124m\"\u001b[39m\u001b[38;5;124mname\u001b[39m\u001b[38;5;124m\"\u001b[39m: \u001b[38;5;28mtype\u001b[39m(estimator)\u001b[38;5;241m.\u001b[39m\u001b[38;5;18m__name__\u001b[39m})\n",
      "\u001b[0;31mNotFittedError\u001b[0m: This LogisticRegression instance is not fitted yet. Call 'fit' with appropriate arguments before using this estimator."
     ]
    }
   ],
   "source": [
    "from sklearn.metrics import roc_curve, roc_auc_score\n",
    "import matplotlib\n",
    "import matplotlib.pyplot as plt\n",
    "%matplotlib inline\n",
    "\n",
    "y_scores = model.predict_proba(y_test)\n",
    "# calculate ROC curve\n",
    "fpr, tpr, thresholds = roc_curve(y_test, y_scores[:,1])\n",
    "\n",
    "# plot ROC curve\n",
    "fig = plt.figure(figsize=(6, 6))\n",
    "# Plot the diagonal 50% line\n",
    "plt.plot([0, 1], [0, 1], 'k--')\n",
    "# Plot the FPR and TPR achieved by our model\n",
    "plt.plot(fpr, tpr)\n",
    "plt.xlabel('False Positive Rate')\n",
    "plt.ylabel('True Positive Rate')\n",
    "plt.title('ROC Curve')\n",
    "plt.show()"
   ]
  },
  {
   "cell_type": "code",
   "execution_count": null,
   "metadata": {},
   "outputs": [],
   "source": []
  }
 ],
 "metadata": {
  "kernelspec": {
   "display_name": ".venv",
   "language": "python",
   "name": "python3"
  },
  "language_info": {
   "codemirror_mode": {
    "name": "ipython",
    "version": 3
   },
   "file_extension": ".py",
   "mimetype": "text/x-python",
   "name": "python",
   "nbconvert_exporter": "python",
   "pygments_lexer": "ipython3",
   "version": "3.10.13"
  }
 },
 "nbformat": 4,
 "nbformat_minor": 2
}
