{
 "cells": [
  {
   "cell_type": "markdown",
   "metadata": {},
   "source": [
    "# Amazon Uk의 신발 제품 리뷰 데이터 감정 분석(Sentiment Analysis)\n",
    "\n",
    "### [건국대학교 글로컬캠퍼스 컴퓨터공학과 202121859 이을호]\n",
    "\n",
    "========================================================================\n",
    "\n",
    "본 과제에서는 Amazon uk(영국)쇼핑몰의 신발 제품 판매 리뷰에 대한 긍정, 부정의 판별이 가능한 감정 분석 시스템 개발을 진행한다. \n",
    "\n",
    "모델의 구현은 하단의 과정을 순서로 개발을 진행한다.\n",
    "\n",
    "1. 데이터 전처리 (결측치 처리, 노이즈 제거, 정규화 과정, 불용어 제거)\n",
    "\n",
    "```결측치 처리, 노이즈 제거, 불용어 제거 과정을 통해 전처리를 완료함.```\n",
    "\n",
    "2. 모델 구현\n",
    "\n",
    "```nltk vader 모델을 통해 감정 분석을 진행 후 데이터 프레임에 결과 저장을 진행함.```\n",
    "\n",
    "3. 모델 학습 및 튜닝 (dataset을 train, test로 분할, 모델 학습 및 하이퍼파라미터 튜닝(grid search or random search)를 통한 교차 검증)\n",
    "\n",
    "```감정 분석 결과를 logistic regression을 통해 데이터 셋을 train과 test로 분할 후 모델에 학습시키고 성능을 향상시키기 위해 grid search를 적용하여 하이퍼파라미터 튜닝을 진행하여 학습을 시킨다```\n",
    "\n",
    "4. 모델 평가 (정확도, 정밀도, 재현율, F1 score, ROC-AUC 지표를 통한 모델 검증 및 overfitting, underfitting 여부 확인 및 해결 방법)\n",
    "\n",
    "```sklearn의 accuracy_score, precision_score, recall_score, f1_score, roc_auc_score 기능을 통해 각 지표를 출력하여 모델의 성능을 평가를 진행함. ```\n",
    "\n",
    "5. 시각화 및 보고 (모델이 출력한 결과 및 수치값을 matplotlib를 통한 시각화 진행(혼동 행렬 및 ROC 곡선 생성))\n",
    "\n",
    "```예측값을 기반으로 혼동 행렬과 ROC 곡선을 통해 최종 모델을 평가한다.```\n",
    "\n",
    "-> 상기 내용을 보고서로 작성하여 별도 첨부함.\n",
    "\n",
    "========================================================================\n",
    "\n",
    "- Python Version : Python 3.10.13"
   ]
  },
  {
   "cell_type": "markdown",
   "metadata": {},
   "source": [
    "# 1. 데이터 전처리:\n",
    "\n",
    "우선, nltk의 감정 분석 단계에 들어가기에 앞서 데이터 전처리를 하단의 단계별로 진행한다.\n",
    "\n",
    "- 1. 결측치 제거\n",
    "- 2. 데이터 프레임 정리\n",
    "- 3. 노이즈 제거 (정규화 활용)\n",
    "- 4. 토큰화 및 불용어\n",
    "\n",
    "\t데이터 정리 (노이즈 제거, 결측값 처리 등).\n",
    "\t텍스트 토큰화 및 불용어 제거.\n",
    "\t텍스트 정규화 (스테밍 또는 표제어 추출).\n",
    "\t+) 필요하다면 더 추가해야 할 수도 있음"
   ]
  },
  {
   "cell_type": "code",
   "execution_count": 1,
   "metadata": {},
   "outputs": [
    {
     "name": "stdout",
     "output_type": "stream",
     "text": [
      "Requirement already satisfied: matplotlib in /home/codespace/.local/lib/python3.10/site-packages (3.9.0)\n",
      "Requirement already satisfied: contourpy>=1.0.1 in /home/codespace/.local/lib/python3.10/site-packages (from matplotlib) (1.2.1)\n",
      "Requirement already satisfied: cycler>=0.10 in /home/codespace/.local/lib/python3.10/site-packages (from matplotlib) (0.12.1)\n",
      "Requirement already satisfied: fonttools>=4.22.0 in /home/codespace/.local/lib/python3.10/site-packages (from matplotlib) (4.52.4)\n",
      "Requirement already satisfied: kiwisolver>=1.3.1 in /home/codespace/.local/lib/python3.10/site-packages (from matplotlib) (1.4.5)\n",
      "Requirement already satisfied: numpy>=1.23 in /home/codespace/.local/lib/python3.10/site-packages (from matplotlib) (1.26.4)\n",
      "Requirement already satisfied: packaging>=20.0 in /home/codespace/.local/lib/python3.10/site-packages (from matplotlib) (24.0)\n",
      "Requirement already satisfied: pillow>=8 in /home/codespace/.local/lib/python3.10/site-packages (from matplotlib) (10.3.0)\n",
      "Requirement already satisfied: pyparsing>=2.3.1 in /home/codespace/.local/lib/python3.10/site-packages (from matplotlib) (3.1.2)\n",
      "Requirement already satisfied: python-dateutil>=2.7 in /home/codespace/.local/lib/python3.10/site-packages (from matplotlib) (2.9.0.post0)\n",
      "Requirement already satisfied: six>=1.5 in /home/codespace/.local/lib/python3.10/site-packages (from python-dateutil>=2.7->matplotlib) (1.16.0)\n",
      "Note: you may need to restart the kernel to use updated packages.\n",
      "Requirement already satisfied: pandas in /home/codespace/.local/lib/python3.10/site-packages (2.2.2)\n",
      "Requirement already satisfied: numpy>=1.22.4 in /home/codespace/.local/lib/python3.10/site-packages (from pandas) (1.26.4)\n",
      "Requirement already satisfied: python-dateutil>=2.8.2 in /home/codespace/.local/lib/python3.10/site-packages (from pandas) (2.9.0.post0)\n",
      "Requirement already satisfied: pytz>=2020.1 in /home/codespace/.local/lib/python3.10/site-packages (from pandas) (2024.1)\n",
      "Requirement already satisfied: tzdata>=2022.7 in /home/codespace/.local/lib/python3.10/site-packages (from pandas) (2024.1)\n",
      "Requirement already satisfied: six>=1.5 in /home/codespace/.local/lib/python3.10/site-packages (from python-dateutil>=2.8.2->pandas) (1.16.0)\n",
      "Note: you may need to restart the kernel to use updated packages.\n",
      "Requirement already satisfied: numpy in /home/codespace/.local/lib/python3.10/site-packages (1.26.4)\n",
      "Note: you may need to restart the kernel to use updated packages.\n"
     ]
    }
   ],
   "source": [
    "# 필요 라이브러리 import\n",
    "\n",
    "%pip install matplotlib # 시각화 목적 matplotlib 설치\n",
    "%pip install pandas # pandas 설치\n",
    "%pip install numpy # numpy 설치\n",
    "\n",
    "import matplotlib.pyplot as plt # 시각화 목적 matplotlib 설치\n",
    "import numpy as np # numpy 모듈 import\n",
    "import pandas as pd # pandas 모듈 import\n",
    "import time # (작업 소요시간 계산) time 모듈 import\n",
    "import ast # 구문 트리 파싱 및 분석에 사용하는 ast 모듈 import"
   ]
  },
  {
   "cell_type": "markdown",
   "metadata": {},
   "source": [
    "## 1) 결측치 제거"
   ]
  },
  {
   "cell_type": "code",
   "execution_count": 2,
   "metadata": {},
   "outputs": [
    {
     "name": "stdout",
     "output_type": "stream",
     "text": [
      "파일 읽기 실행 중입니다...\n",
      "\n",
      "파일 로딩에 걸린 시간은 0.05 초입니다.\n"
     ]
    },
    {
     "data": {
      "text/html": [
       "<div>\n",
       "<style scoped>\n",
       "    .dataframe tbody tr th:only-of-type {\n",
       "        vertical-align: middle;\n",
       "    }\n",
       "\n",
       "    .dataframe tbody tr th {\n",
       "        vertical-align: top;\n",
       "    }\n",
       "\n",
       "    .dataframe thead th {\n",
       "        text-align: right;\n",
       "    }\n",
       "</style>\n",
       "<table border=\"1\" class=\"dataframe\">\n",
       "  <thead>\n",
       "    <tr style=\"text-align: right;\">\n",
       "      <th></th>\n",
       "      <th>url</th>\n",
       "      <th>product_name</th>\n",
       "      <th>reviewer_name</th>\n",
       "      <th>review_title</th>\n",
       "      <th>review_text</th>\n",
       "      <th>review_rating</th>\n",
       "      <th>verified_purchase</th>\n",
       "      <th>review_date</th>\n",
       "      <th>helpful_count</th>\n",
       "      <th>uniq_id</th>\n",
       "      <th>scraped_at</th>\n",
       "    </tr>\n",
       "  </thead>\n",
       "  <tbody>\n",
       "    <tr>\n",
       "      <th>0</th>\n",
       "      <td>https://www.amazon.co.uk/dp/B07SBX32T5</td>\n",
       "      <td>Klasified Women's Transparent Clear Sneaker Sh...</td>\n",
       "      <td>Jocelyn McSayles</td>\n",
       "      <td>Love em</td>\n",
       "      <td>Love these. Was looking for converses and thes...</td>\n",
       "      <td>5.0</td>\n",
       "      <td>True</td>\n",
       "      <td>Reviewed in the United States on 2 June 2020</td>\n",
       "      <td>2 people found this helpful</td>\n",
       "      <td>36eae4e5-2894-5279-a0b7-d2b330e2b814</td>\n",
       "      <td>24/12/2021 02:26:25</td>\n",
       "    </tr>\n",
       "    <tr>\n",
       "      <th>1</th>\n",
       "      <td>https://www.amazon.co.uk/dp/B07SBX32T5</td>\n",
       "      <td>Klasified Women's Transparent Clear Sneaker Sh...</td>\n",
       "      <td>Kenia Rivera</td>\n",
       "      <td>The plastic ripped</td>\n",
       "      <td>The shoes are very cute, but after the 2nd day...</td>\n",
       "      <td>2.0</td>\n",
       "      <td>True</td>\n",
       "      <td>Reviewed in the United States on 28 October 2021</td>\n",
       "      <td>NaN</td>\n",
       "      <td>f4778bb8-3070-5cb1-b5aa-ffce41a97b57</td>\n",
       "      <td>24/12/2021 02:26:25</td>\n",
       "    </tr>\n",
       "    <tr>\n",
       "      <th>2</th>\n",
       "      <td>https://www.amazon.co.uk/dp/B07SBX32T5</td>\n",
       "      <td>Klasified Women's Transparent Clear Sneaker Sh...</td>\n",
       "      <td>Chris Souza</td>\n",
       "      <td>Good quality</td>\n",
       "      <td>Good quality</td>\n",
       "      <td>5.0</td>\n",
       "      <td>True</td>\n",
       "      <td>Reviewed in the United States on 20 January 2021</td>\n",
       "      <td>NaN</td>\n",
       "      <td>db5a7525-d40b-5265-84d8-df4f29837a3b</td>\n",
       "      <td>24/12/2021 02:26:25</td>\n",
       "    </tr>\n",
       "    <tr>\n",
       "      <th>3</th>\n",
       "      <td>https://www.amazon.co.uk/dp/B07SBX32T5</td>\n",
       "      <td>Klasified Women's Transparent Clear Sneaker Sh...</td>\n",
       "      <td>Amazon Customer</td>\n",
       "      <td>Good</td>\n",
       "      <td>Great</td>\n",
       "      <td>5.0</td>\n",
       "      <td>True</td>\n",
       "      <td>Reviewed in the United States on 22 April 2021</td>\n",
       "      <td>NaN</td>\n",
       "      <td>75a42851-6462-54b5-988a-27d336221943</td>\n",
       "      <td>24/12/2021 02:26:25</td>\n",
       "    </tr>\n",
       "    <tr>\n",
       "      <th>4</th>\n",
       "      <td>https://www.amazon.co.uk/dp/B08SW434MG</td>\n",
       "      <td>GUESS Women's Bradly Gymnastics Shoe, White, 7 UK</td>\n",
       "      <td>Graziella</td>\n",
       "      <td>PERFETTE!!</td>\n",
       "      <td>Ho scelto il modello bianco con rifinitura die...</td>\n",
       "      <td>5.0</td>\n",
       "      <td>True</td>\n",
       "      <td>Reviewed in Italy on 2 April 2021</td>\n",
       "      <td>2 people found this helpful</td>\n",
       "      <td>232dee43-849e-5d06-ba05-efb3f4814714</td>\n",
       "      <td>24/12/2021 02:26:25</td>\n",
       "    </tr>\n",
       "  </tbody>\n",
       "</table>\n",
       "</div>"
      ],
      "text/plain": [
       "                                      url  \\\n",
       "0  https://www.amazon.co.uk/dp/B07SBX32T5   \n",
       "1  https://www.amazon.co.uk/dp/B07SBX32T5   \n",
       "2  https://www.amazon.co.uk/dp/B07SBX32T5   \n",
       "3  https://www.amazon.co.uk/dp/B07SBX32T5   \n",
       "4  https://www.amazon.co.uk/dp/B08SW434MG   \n",
       "\n",
       "                                        product_name     reviewer_name  \\\n",
       "0  Klasified Women's Transparent Clear Sneaker Sh...  Jocelyn McSayles   \n",
       "1  Klasified Women's Transparent Clear Sneaker Sh...      Kenia Rivera   \n",
       "2  Klasified Women's Transparent Clear Sneaker Sh...       Chris Souza   \n",
       "3  Klasified Women's Transparent Clear Sneaker Sh...   Amazon Customer   \n",
       "4  GUESS Women's Bradly Gymnastics Shoe, White, 7 UK         Graziella   \n",
       "\n",
       "         review_title                                        review_text  \\\n",
       "0             Love em  Love these. Was looking for converses and thes...   \n",
       "1  The plastic ripped  The shoes are very cute, but after the 2nd day...   \n",
       "2        Good quality                                       Good quality   \n",
       "3                Good                                              Great   \n",
       "4          PERFETTE!!  Ho scelto il modello bianco con rifinitura die...   \n",
       "\n",
       "   review_rating  verified_purchase  \\\n",
       "0            5.0               True   \n",
       "1            2.0               True   \n",
       "2            5.0               True   \n",
       "3            5.0               True   \n",
       "4            5.0               True   \n",
       "\n",
       "                                        review_date  \\\n",
       "0      Reviewed in the United States on 2 June 2020   \n",
       "1  Reviewed in the United States on 28 October 2021   \n",
       "2  Reviewed in the United States on 20 January 2021   \n",
       "3    Reviewed in the United States on 22 April 2021   \n",
       "4                 Reviewed in Italy on 2 April 2021   \n",
       "\n",
       "                 helpful_count                               uniq_id  \\\n",
       "0  2 people found this helpful  36eae4e5-2894-5279-a0b7-d2b330e2b814   \n",
       "1                          NaN  f4778bb8-3070-5cb1-b5aa-ffce41a97b57   \n",
       "2                          NaN  db5a7525-d40b-5265-84d8-df4f29837a3b   \n",
       "3                          NaN  75a42851-6462-54b5-988a-27d336221943   \n",
       "4  2 people found this helpful  232dee43-849e-5d06-ba05-efb3f4814714   \n",
       "\n",
       "            scraped_at  \n",
       "0  24/12/2021 02:26:25  \n",
       "1  24/12/2021 02:26:25  \n",
       "2  24/12/2021 02:26:25  \n",
       "3  24/12/2021 02:26:25  \n",
       "4  24/12/2021 02:26:25  "
      ]
     },
     "execution_count": 2,
     "metadata": {},
     "output_type": "execute_result"
    }
   ],
   "source": [
    "# 데이터 읽어와 로딩 후 출력 진행\n",
    "\n",
    "print(\"파일 읽기 실행 중입니다...\\n\")\n",
    "start = time.time() # 로딩 시작 시간 저장\n",
    "df = pd.read_csv('./amazon_uk_shoes_products_dataset_2021_12.csv') # 파일 경로 지정\n",
    "end = time.time() # 로딩 종료 시간 저장\n",
    "print(\"파일 로딩에 걸린 시간은 \" + str(round(end - start, 2)) + \" 초입니다.\") # 걸린 시간 출력\n",
    "\n",
    "df.head() # 읽은 데이터 프레임 상단만 출력"
   ]
  },
  {
   "cell_type": "markdown",
   "metadata": {},
   "source": [
    "### 데이터를 우선 살펴보면 \"Amazon_uk_shoes_products_dataset_2021_12.csv\"는 하단의 순서대로 데이터가 이루어져 있음을 확인 가능하다.\n",
    "\n",
    "1. url (상품 URL 주소)\n",
    "2. product_name (상품명)\n",
    "3. reviewer_name (리뷰 등록자명)\n",
    "4. review_title (리뷰 제목)\n",
    "5. review_text (리뷰 내용)\n",
    "6. review_rating (상품 리뷰 별점)\n",
    "7. verified_purchase (실구매 확인 여부)\n",
    "8. review_date (리뷰 작성 날짜)\n",
    "9. helpful_count (해당 리뷰가 도움이 된 사람의 수)\n",
    "10. uniq_id (리뷰 특정 ID)\n",
    "11. scraped_at (해당 리뷰를 가져온 시점)"
   ]
  },
  {
   "cell_type": "markdown",
   "metadata": {},
   "source": [
    "결측치는 학습 과정에 있어서 문제가 발생할 가능성이 있기에 제거를 진행한다"
   ]
  },
  {
   "cell_type": "code",
   "execution_count": 3,
   "metadata": {},
   "outputs": [
    {
     "data": {
      "text/plain": [
       "url                     0\n",
       "product_name            0\n",
       "reviewer_name           0\n",
       "review_title            1\n",
       "review_text             9\n",
       "review_rating           0\n",
       "verified_purchase       0\n",
       "review_date             0\n",
       "helpful_count        4870\n",
       "uniq_id                 0\n",
       "scraped_at              0\n",
       "dtype: int64"
      ]
     },
     "execution_count": 3,
     "metadata": {},
     "output_type": "execute_result"
    }
   ],
   "source": [
    "# 결측치 확인 및 제거\n",
    "\n",
    "df.isnull().sum() # 결측치 값이 존재하는 데이터 갯수 출력"
   ]
  },
  {
   "cell_type": "markdown",
   "metadata": {},
   "source": [
    "데이터 결측치의 여부를 확인한 결과 review_title과 review_rating은 없는 데이터만 없애면 상관 없지만, helpful_count의 경우에는 너무 많기 때문에 그냥 열을 제거하는 것으로 진행한다."
   ]
  },
  {
   "cell_type": "code",
   "execution_count": 4,
   "metadata": {},
   "outputs": [
    {
     "data": {
      "text/plain": [
       "url                  0\n",
       "product_name         0\n",
       "reviewer_name        0\n",
       "review_title         0\n",
       "review_text          0\n",
       "review_rating        0\n",
       "verified_purchase    0\n",
       "review_date          0\n",
       "uniq_id              0\n",
       "scraped_at           0\n",
       "dtype: int64"
      ]
     },
     "execution_count": 4,
     "metadata": {},
     "output_type": "execute_result"
    }
   ],
   "source": [
    "# helpful_count 열 제거 및 결측치가 존재하는 행을 제거\n",
    "\n",
    "df = df.drop([\"helpful_count\"], axis=1) # helpful_count 열을 제거함\n",
    "df = df.dropna(axis=0) # 결측치 존재하는 행 제거\n",
    "\n",
    "df.isnull().sum() # 결측치 여부 확인"
   ]
  },
  {
   "cell_type": "markdown",
   "metadata": {},
   "source": [
    "결측치가 완벽하게 제거된 것을 위와 같이 확인이 가능하며, 하단에서는 데이터가 일정하게 존재하는지를 확인한다."
   ]
  },
  {
   "cell_type": "code",
   "execution_count": 5,
   "metadata": {},
   "outputs": [
    {
     "data": {
      "text/plain": [
       "url                  6813\n",
       "product_name         6813\n",
       "reviewer_name        6813\n",
       "review_title         6813\n",
       "review_text          6813\n",
       "review_rating        6813\n",
       "verified_purchase    6813\n",
       "review_date          6813\n",
       "uniq_id              6813\n",
       "scraped_at           6813\n",
       "dtype: int64"
      ]
     },
     "execution_count": 5,
     "metadata": {},
     "output_type": "execute_result"
    }
   ],
   "source": [
    "# 결측치 제거 후 총 데이터 갯수 확인\n",
    "\n",
    "df.count() # 데이터 갯수 출력"
   ]
  },
  {
   "cell_type": "markdown",
   "metadata": {},
   "source": [
    "그럼 데이터 결측치가 정리되었으니, 다음 단계인 데이터 프레임 정리에 들어가겠다."
   ]
  },
  {
   "cell_type": "markdown",
   "metadata": {},
   "source": [
    "## 2) 데이터 프레임 정리\n",
    "\n",
    "감정 분석에 사용 가능한 의미가 있는 상품명, 리뷰 제목, 리뷰 작성자, 리뷰 내용, 별정을 제외하고는 모두 제거하겠다."
   ]
  },
  {
   "cell_type": "code",
   "execution_count": 6,
   "metadata": {},
   "outputs": [
    {
     "data": {
      "text/html": [
       "<div>\n",
       "<style scoped>\n",
       "    .dataframe tbody tr th:only-of-type {\n",
       "        vertical-align: middle;\n",
       "    }\n",
       "\n",
       "    .dataframe tbody tr th {\n",
       "        vertical-align: top;\n",
       "    }\n",
       "\n",
       "    .dataframe thead th {\n",
       "        text-align: right;\n",
       "    }\n",
       "</style>\n",
       "<table border=\"1\" class=\"dataframe\">\n",
       "  <thead>\n",
       "    <tr style=\"text-align: right;\">\n",
       "      <th></th>\n",
       "      <th>product_name</th>\n",
       "      <th>reviewer_name</th>\n",
       "      <th>review_title</th>\n",
       "      <th>review_text</th>\n",
       "      <th>review_rating</th>\n",
       "    </tr>\n",
       "  </thead>\n",
       "  <tbody>\n",
       "    <tr>\n",
       "      <th>0</th>\n",
       "      <td>Klasified Women's Transparent Clear Sneaker Sh...</td>\n",
       "      <td>Jocelyn McSayles</td>\n",
       "      <td>Love em</td>\n",
       "      <td>Love these. Was looking for converses and thes...</td>\n",
       "      <td>5.0</td>\n",
       "    </tr>\n",
       "    <tr>\n",
       "      <th>1</th>\n",
       "      <td>Klasified Women's Transparent Clear Sneaker Sh...</td>\n",
       "      <td>Kenia Rivera</td>\n",
       "      <td>The plastic ripped</td>\n",
       "      <td>The shoes are very cute, but after the 2nd day...</td>\n",
       "      <td>2.0</td>\n",
       "    </tr>\n",
       "    <tr>\n",
       "      <th>2</th>\n",
       "      <td>Klasified Women's Transparent Clear Sneaker Sh...</td>\n",
       "      <td>Chris Souza</td>\n",
       "      <td>Good quality</td>\n",
       "      <td>Good quality</td>\n",
       "      <td>5.0</td>\n",
       "    </tr>\n",
       "    <tr>\n",
       "      <th>3</th>\n",
       "      <td>Klasified Women's Transparent Clear Sneaker Sh...</td>\n",
       "      <td>Amazon Customer</td>\n",
       "      <td>Good</td>\n",
       "      <td>Great</td>\n",
       "      <td>5.0</td>\n",
       "    </tr>\n",
       "    <tr>\n",
       "      <th>4</th>\n",
       "      <td>GUESS Women's Bradly Gymnastics Shoe, White, 7 UK</td>\n",
       "      <td>Graziella</td>\n",
       "      <td>PERFETTE!!</td>\n",
       "      <td>Ho scelto il modello bianco con rifinitura die...</td>\n",
       "      <td>5.0</td>\n",
       "    </tr>\n",
       "  </tbody>\n",
       "</table>\n",
       "</div>"
      ],
      "text/plain": [
       "                                        product_name     reviewer_name  \\\n",
       "0  Klasified Women's Transparent Clear Sneaker Sh...  Jocelyn McSayles   \n",
       "1  Klasified Women's Transparent Clear Sneaker Sh...      Kenia Rivera   \n",
       "2  Klasified Women's Transparent Clear Sneaker Sh...       Chris Souza   \n",
       "3  Klasified Women's Transparent Clear Sneaker Sh...   Amazon Customer   \n",
       "4  GUESS Women's Bradly Gymnastics Shoe, White, 7 UK         Graziella   \n",
       "\n",
       "         review_title                                        review_text  \\\n",
       "0             Love em  Love these. Was looking for converses and thes...   \n",
       "1  The plastic ripped  The shoes are very cute, but after the 2nd day...   \n",
       "2        Good quality                                       Good quality   \n",
       "3                Good                                              Great   \n",
       "4          PERFETTE!!  Ho scelto il modello bianco con rifinitura die...   \n",
       "\n",
       "   review_rating  \n",
       "0            5.0  \n",
       "1            2.0  \n",
       "2            5.0  \n",
       "3            5.0  \n",
       "4            5.0  "
      ]
     },
     "execution_count": 6,
     "metadata": {},
     "output_type": "execute_result"
    }
   ],
   "source": [
    "# 기존의 데이터 프레임에서 필요 없는 열을 삭제 진행\n",
    "\n",
    "df = df.drop([\"url\", \"verified_purchase\", \"uniq_id\", \"scraped_at\", \"review_date\"], axis=1) # 불필요한 열 삭제\n",
    "df.head() # 편집 결과 출력"
   ]
  },
  {
   "cell_type": "markdown",
   "metadata": {},
   "source": [
    "## 3) 노이즈 제거 (정규식 활용)\n",
    "\n",
    "다음은 영어를 기반으로 감정 분석을 진행하기에 기본의 리뷰 제목과, 리뷰 내용에서 영어와 공백을 제외하고 다른 문자는 모두 제거하는 과정을 정규식을 통해 진행한다."
   ]
  },
  {
   "cell_type": "code",
   "execution_count": 7,
   "metadata": {},
   "outputs": [],
   "source": [
    "import re # 정규식 import\n",
    "\n",
    "def remove_noise(text): # 노이즈 제거 함수 정의\n",
    "    clear_noise = re.sub(r'[^A-Za-z\\s]', '', text) # 입력된 텍스트에 대해 영어(대,소문자)와 공백을 제외한 모든 문자를 제거함\n",
    "    return clear_noise # 제거 완료된 결과를 return\n",
    "\n",
    "df['review_title'] = df['review_title'].apply(remove_noise) # 리뷰 제목 노이즈 제거\n",
    "df['reviewer_name'] = df['reviewer_name'].apply(remove_noise) # 리뷰 내용 노이즈 제거"
   ]
  },
  {
   "cell_type": "markdown",
   "metadata": {},
   "source": [
    "## 4) 토큰화 진행 (nltk 활용)\n",
    "\n",
    "다음은 문장을 토큰화를 통해 단어 단위로 분리하여 새로 저장한다. 토큰화 기능은 nltk의 word_tokenize를 통해 진행한다."
   ]
  },
  {
   "cell_type": "code",
   "execution_count": 8,
   "metadata": {},
   "outputs": [
    {
     "name": "stdout",
     "output_type": "stream",
     "text": [
      "Collecting nltk\n",
      "  Downloading nltk-3.8.1-py3-none-any.whl.metadata (2.8 kB)\n",
      "Collecting click (from nltk)\n",
      "  Downloading click-8.1.7-py3-none-any.whl.metadata (3.0 kB)\n",
      "Requirement already satisfied: joblib in /home/codespace/.local/lib/python3.10/site-packages (from nltk) (1.4.2)\n",
      "Collecting regex>=2021.8.3 (from nltk)\n",
      "  Downloading regex-2024.5.15-cp310-cp310-manylinux_2_17_x86_64.manylinux2014_x86_64.whl.metadata (40 kB)\n",
      "\u001b[2K     \u001b[90m━━━━━━━━━━━━━━━━━━━━━━━━━━━━━━━━━━━━━━━━\u001b[0m \u001b[32m40.9/40.9 kB\u001b[0m \u001b[31m1.2 MB/s\u001b[0m eta \u001b[36m0:00:00\u001b[0m\n",
      "\u001b[?25hCollecting tqdm (from nltk)\n",
      "  Downloading tqdm-4.66.4-py3-none-any.whl.metadata (57 kB)\n",
      "\u001b[2K     \u001b[90m━━━━━━━━━━━━━━━━━━━━━━━━━━━━━━━━━━━━━━━━\u001b[0m \u001b[32m57.6/57.6 kB\u001b[0m \u001b[31m2.0 MB/s\u001b[0m eta \u001b[36m0:00:00\u001b[0m\n",
      "\u001b[?25hDownloading nltk-3.8.1-py3-none-any.whl (1.5 MB)\n",
      "\u001b[2K   \u001b[90m━━━━━━━━━━━━━━━━━━━━━━━━━━━━━━━━━━━━━━━━\u001b[0m \u001b[32m1.5/1.5 MB\u001b[0m \u001b[31m29.7 MB/s\u001b[0m eta \u001b[36m0:00:00\u001b[0m:00:01\u001b[0m\n",
      "\u001b[?25hDownloading regex-2024.5.15-cp310-cp310-manylinux_2_17_x86_64.manylinux2014_x86_64.whl (775 kB)\n",
      "\u001b[2K   \u001b[90m━━━━━━━━━━━━━━━━━━━━━━━━━━━━━━━━━━━━━━━━\u001b[0m \u001b[32m775.1/775.1 kB\u001b[0m \u001b[31m19.1 MB/s\u001b[0m eta \u001b[36m0:00:00\u001b[0m00:01\u001b[0m\n",
      "\u001b[?25hDownloading click-8.1.7-py3-none-any.whl (97 kB)\n",
      "\u001b[2K   \u001b[90m━━━━━━━━━━━━━━━━━━━━━━━━━━━━━━━━━━━━━━━━\u001b[0m \u001b[32m97.9/97.9 kB\u001b[0m \u001b[31m3.6 MB/s\u001b[0m eta \u001b[36m0:00:00\u001b[0m\n",
      "\u001b[?25hDownloading tqdm-4.66.4-py3-none-any.whl (78 kB)\n",
      "\u001b[2K   \u001b[90m━━━━━━━━━━━━━━━━━━━━━━━━━━━━━━━━━━━━━━━━\u001b[0m \u001b[32m78.3/78.3 kB\u001b[0m \u001b[31m3.0 MB/s\u001b[0m eta \u001b[36m0:00:00\u001b[0m\n",
      "\u001b[?25hInstalling collected packages: tqdm, regex, click, nltk\n",
      "Successfully installed click-8.1.7 nltk-3.8.1 regex-2024.5.15 tqdm-4.66.4\n",
      "Note: you may need to restart the kernel to use updated packages.\n"
     ]
    },
    {
     "name": "stderr",
     "output_type": "stream",
     "text": [
      "[nltk_data] Downloading package vader_lexicon to\n",
      "[nltk_data]     /home/codespace/nltk_data...\n"
     ]
    },
    {
     "data": {
      "text/plain": [
       "True"
      ]
     },
     "execution_count": 8,
     "metadata": {},
     "output_type": "execute_result"
    }
   ],
   "source": [
    "#nltk 관련 필요 모듈 import\n",
    "\n",
    "%pip install nltk #pip를 통해 nltk 설치\n",
    "import nltk as nltk # nltk import\n",
    "from nltk.corpus import stopwords # 불용어 제거 목적 stopwords import (미리 불러놓음)\n",
    "from nltk.sentiment.vader import SentimentIntensityAnalyzer # nltk의 VADER 감정 분석기 import 진행\n",
    "nltk.download('vader_lexicon') # VADER 모델의 감정 분석기에 필요한 어휘 자료를 다운로드"
   ]
  },
  {
   "cell_type": "code",
   "execution_count": 9,
   "metadata": {},
   "outputs": [
    {
     "name": "stderr",
     "output_type": "stream",
     "text": [
      "[nltk_data] Downloading package punkt to /home/codespace/nltk_data...\n",
      "[nltk_data]   Unzipping tokenizers/punkt.zip.\n"
     ]
    }
   ],
   "source": [
    "# nltk의 tokenize 기능을 이용하여 리뷰 제목과 내용을 토큰화 진행 후 새로은 열을 만들어 각각 저장\n",
    "\n",
    "from nltk.tokenize import word_tokenize  #nltk의 tokenize 기능 import\n",
    "\n",
    "nltk.download('punkt') # tokenize에 필요한 punkt 다운로드\n",
    "\n",
    "df[\"review_title_token\"] = df.review_title.apply(word_tokenize) # review_title 내용을 tokenize 진행하여 review_title_token에 저장\n",
    "df[\"review_text_token\"] = df.review_text.apply(word_tokenize) # review_text 내용을 tokenize 진행하여 review_text_token에 저장"
   ]
  },
  {
   "cell_type": "code",
   "execution_count": 10,
   "metadata": {},
   "outputs": [
    {
     "data": {
      "text/html": [
       "<div>\n",
       "<style scoped>\n",
       "    .dataframe tbody tr th:only-of-type {\n",
       "        vertical-align: middle;\n",
       "    }\n",
       "\n",
       "    .dataframe tbody tr th {\n",
       "        vertical-align: top;\n",
       "    }\n",
       "\n",
       "    .dataframe thead th {\n",
       "        text-align: right;\n",
       "    }\n",
       "</style>\n",
       "<table border=\"1\" class=\"dataframe\">\n",
       "  <thead>\n",
       "    <tr style=\"text-align: right;\">\n",
       "      <th></th>\n",
       "      <th>product_name</th>\n",
       "      <th>reviewer_name</th>\n",
       "      <th>review_title</th>\n",
       "      <th>review_text</th>\n",
       "      <th>review_rating</th>\n",
       "      <th>review_title_token</th>\n",
       "      <th>review_text_token</th>\n",
       "    </tr>\n",
       "  </thead>\n",
       "  <tbody>\n",
       "    <tr>\n",
       "      <th>0</th>\n",
       "      <td>Klasified Women's Transparent Clear Sneaker Sh...</td>\n",
       "      <td>Jocelyn McSayles</td>\n",
       "      <td>Love em</td>\n",
       "      <td>Love these. Was looking for converses and thes...</td>\n",
       "      <td>5.0</td>\n",
       "      <td>[Love, em]</td>\n",
       "      <td>[Love, these, ., Was, looking, for, converses,...</td>\n",
       "    </tr>\n",
       "    <tr>\n",
       "      <th>1</th>\n",
       "      <td>Klasified Women's Transparent Clear Sneaker Sh...</td>\n",
       "      <td>Kenia Rivera</td>\n",
       "      <td>The plastic ripped</td>\n",
       "      <td>The shoes are very cute, but after the 2nd day...</td>\n",
       "      <td>2.0</td>\n",
       "      <td>[The, plastic, ripped]</td>\n",
       "      <td>[The, shoes, are, very, cute, ,, but, after, t...</td>\n",
       "    </tr>\n",
       "    <tr>\n",
       "      <th>2</th>\n",
       "      <td>Klasified Women's Transparent Clear Sneaker Sh...</td>\n",
       "      <td>Chris Souza</td>\n",
       "      <td>Good quality</td>\n",
       "      <td>Good quality</td>\n",
       "      <td>5.0</td>\n",
       "      <td>[Good, quality]</td>\n",
       "      <td>[Good, quality]</td>\n",
       "    </tr>\n",
       "    <tr>\n",
       "      <th>3</th>\n",
       "      <td>Klasified Women's Transparent Clear Sneaker Sh...</td>\n",
       "      <td>Amazon Customer</td>\n",
       "      <td>Good</td>\n",
       "      <td>Great</td>\n",
       "      <td>5.0</td>\n",
       "      <td>[Good]</td>\n",
       "      <td>[Great]</td>\n",
       "    </tr>\n",
       "    <tr>\n",
       "      <th>4</th>\n",
       "      <td>GUESS Women's Bradly Gymnastics Shoe, White, 7 UK</td>\n",
       "      <td>Graziella</td>\n",
       "      <td>PERFETTE</td>\n",
       "      <td>Ho scelto il modello bianco con rifinitura die...</td>\n",
       "      <td>5.0</td>\n",
       "      <td>[PERFETTE]</td>\n",
       "      <td>[Ho, scelto, il, modello, bianco, con, rifinit...</td>\n",
       "    </tr>\n",
       "  </tbody>\n",
       "</table>\n",
       "</div>"
      ],
      "text/plain": [
       "                                        product_name     reviewer_name  \\\n",
       "0  Klasified Women's Transparent Clear Sneaker Sh...  Jocelyn McSayles   \n",
       "1  Klasified Women's Transparent Clear Sneaker Sh...      Kenia Rivera   \n",
       "2  Klasified Women's Transparent Clear Sneaker Sh...       Chris Souza   \n",
       "3  Klasified Women's Transparent Clear Sneaker Sh...   Amazon Customer   \n",
       "4  GUESS Women's Bradly Gymnastics Shoe, White, 7 UK         Graziella   \n",
       "\n",
       "         review_title                                        review_text  \\\n",
       "0             Love em  Love these. Was looking for converses and thes...   \n",
       "1  The plastic ripped  The shoes are very cute, but after the 2nd day...   \n",
       "2        Good quality                                       Good quality   \n",
       "3                Good                                              Great   \n",
       "4            PERFETTE  Ho scelto il modello bianco con rifinitura die...   \n",
       "\n",
       "   review_rating      review_title_token  \\\n",
       "0            5.0              [Love, em]   \n",
       "1            2.0  [The, plastic, ripped]   \n",
       "2            5.0         [Good, quality]   \n",
       "3            5.0                  [Good]   \n",
       "4            5.0              [PERFETTE]   \n",
       "\n",
       "                                   review_text_token  \n",
       "0  [Love, these, ., Was, looking, for, converses,...  \n",
       "1  [The, shoes, are, very, cute, ,, but, after, t...  \n",
       "2                                    [Good, quality]  \n",
       "3                                            [Great]  \n",
       "4  [Ho, scelto, il, modello, bianco, con, rifinit...  "
      ]
     },
     "execution_count": 10,
     "metadata": {},
     "output_type": "execute_result"
    }
   ],
   "source": [
    "# 결과 확인\n",
    "\n",
    "df.head()"
   ]
  },
  {
   "cell_type": "markdown",
   "metadata": {},
   "source": [
    "상단의 결과를 보면 review_title_token과 review_text_token에 잘 분리되어 저장된 것을 확인 가능하다."
   ]
  },
  {
   "cell_type": "markdown",
   "metadata": {},
   "source": [
    "## 5) 불용어 제거 (nltk 활용)\n",
    "\n",
    "다음은 불용어를 제거하는 과정을 진행한다. \n",
    "\n",
    "불용어는 감정 분석에 있어서 특별한 의미를 가지지 않는 단어를 의미하며, 감정 분석 단계에서 존재할 경우에는 정확도에 문제가 발생하기에 미리 제거하는 과정을 거친다.\n",
    "\n",
    "nltk의 stopwords를 다운로드 진행하여 리뷰가 영어이기에 english로 세팅하여 불용어 제거 기능을 함수로 \n",
    "생성한 후 각 dataframe에 함수를 적용하여 불용어를 제거하는 과정을 진행한다."
   ]
  },
  {
   "cell_type": "code",
   "execution_count": 11,
   "metadata": {},
   "outputs": [
    {
     "name": "stderr",
     "output_type": "stream",
     "text": [
      "[nltk_data] Downloading package stopwords to\n",
      "[nltk_data]     /home/codespace/nltk_data...\n",
      "[nltk_data]   Unzipping corpora/stopwords.zip.\n"
     ]
    },
    {
     "name": "stdout",
     "output_type": "stream",
     "text": [
      "불용어 제거에 걸린 시간은 0.2 초입니다.\n"
     ]
    }
   ],
   "source": [
    "# stopword 리스트를 외부에서 가져와서 지금의 리뷰에서 존재하는 stopword를 제거하는 과정을 여기에서 진행함\n",
    "\n",
    "nltk.download('stopwords') # 불용어 제거 기능을 사용하기 위해 stopwords를 다운로드\n",
    "\n",
    "start = time.time() # 로딩 시작 시간 저장\n",
    "cache = set(stopwords.words(\"english\")) # stopword 단어를 영어로 지정\n",
    "\n",
    "def remove_stopwords(review_tokens): # 불용어 제거 기능 함수 정의\n",
    "    text = \" \".join([word.lower() for word in review_tokens if word not in cache]) # 소문자 처리 후 불용어에 해당하는 것은 제거하고 아닌것은 공백으로 구분하여 저장\n",
    "    return text\n",
    "\n",
    "# Remove the stop words from both columns\n",
    "df[\"review_title_token\"] = df.review_title_token.apply(remove_stopwords) # review_title_token에 불용어 제거 진행 후 다시 저장\n",
    "df[\"review_text_token\"] = df.review_text_token.apply(remove_stopwords) # eview_text_token에 불용어 제거 진행 후 다시 저장\n",
    "\n",
    "end = time.time() # 로딩 종료 시간 저장\n",
    "print(\"불용어 제거에 걸린 시간은 \" + str(round(end - start, 2)) + \" 초입니다.\") # 걸린 시간을 출력함."
   ]
  },
  {
   "cell_type": "code",
   "execution_count": 12,
   "metadata": {},
   "outputs": [
    {
     "data": {
      "text/html": [
       "<div>\n",
       "<style scoped>\n",
       "    .dataframe tbody tr th:only-of-type {\n",
       "        vertical-align: middle;\n",
       "    }\n",
       "\n",
       "    .dataframe tbody tr th {\n",
       "        vertical-align: top;\n",
       "    }\n",
       "\n",
       "    .dataframe thead th {\n",
       "        text-align: right;\n",
       "    }\n",
       "</style>\n",
       "<table border=\"1\" class=\"dataframe\">\n",
       "  <thead>\n",
       "    <tr style=\"text-align: right;\">\n",
       "      <th></th>\n",
       "      <th>product_name</th>\n",
       "      <th>reviewer_name</th>\n",
       "      <th>review_title</th>\n",
       "      <th>review_text</th>\n",
       "      <th>review_rating</th>\n",
       "      <th>review_title_token</th>\n",
       "      <th>review_text_token</th>\n",
       "    </tr>\n",
       "  </thead>\n",
       "  <tbody>\n",
       "    <tr>\n",
       "      <th>0</th>\n",
       "      <td>Klasified Women's Transparent Clear Sneaker Sh...</td>\n",
       "      <td>Jocelyn McSayles</td>\n",
       "      <td>Love em</td>\n",
       "      <td>Love these. Was looking for converses and thes...</td>\n",
       "      <td>5.0</td>\n",
       "      <td>love em</td>\n",
       "      <td>love . was looking converses half price unique...</td>\n",
       "    </tr>\n",
       "    <tr>\n",
       "      <th>1</th>\n",
       "      <td>Klasified Women's Transparent Clear Sneaker Sh...</td>\n",
       "      <td>Kenia Rivera</td>\n",
       "      <td>The plastic ripped</td>\n",
       "      <td>The shoes are very cute, but after the 2nd day...</td>\n",
       "      <td>2.0</td>\n",
       "      <td>the plastic ripped</td>\n",
       "      <td>the shoes cute , 2nd day wearing tongue starte...</td>\n",
       "    </tr>\n",
       "    <tr>\n",
       "      <th>2</th>\n",
       "      <td>Klasified Women's Transparent Clear Sneaker Sh...</td>\n",
       "      <td>Chris Souza</td>\n",
       "      <td>Good quality</td>\n",
       "      <td>Good quality</td>\n",
       "      <td>5.0</td>\n",
       "      <td>good quality</td>\n",
       "      <td>good quality</td>\n",
       "    </tr>\n",
       "    <tr>\n",
       "      <th>3</th>\n",
       "      <td>Klasified Women's Transparent Clear Sneaker Sh...</td>\n",
       "      <td>Amazon Customer</td>\n",
       "      <td>Good</td>\n",
       "      <td>Great</td>\n",
       "      <td>5.0</td>\n",
       "      <td>good</td>\n",
       "      <td>great</td>\n",
       "    </tr>\n",
       "    <tr>\n",
       "      <th>4</th>\n",
       "      <td>GUESS Women's Bradly Gymnastics Shoe, White, 7 UK</td>\n",
       "      <td>Graziella</td>\n",
       "      <td>PERFETTE</td>\n",
       "      <td>Ho scelto il modello bianco con rifinitura die...</td>\n",
       "      <td>5.0</td>\n",
       "      <td>perfette</td>\n",
       "      <td>ho scelto il modello bianco con rifinitura die...</td>\n",
       "    </tr>\n",
       "    <tr>\n",
       "      <th>5</th>\n",
       "      <td>GUESS Women's Bradly Gymnastics Shoe, White, 7 UK</td>\n",
       "      <td>Francesca</td>\n",
       "      <td>delusione</td>\n",
       "      <td>Sono solita comprare scarpe Guess e non ho mai...</td>\n",
       "      <td>1.0</td>\n",
       "      <td>delusione</td>\n",
       "      <td>sono solita comprare scarpe guess e non ho mai...</td>\n",
       "    </tr>\n",
       "    <tr>\n",
       "      <th>6</th>\n",
       "      <td>GUESS Women's Bradly Gymnastics Shoe, White, 7 UK</td>\n",
       "      <td>Cliente</td>\n",
       "      <td>Molto belle</td>\n",
       "      <td>Le scarpe sono molto belle, calzano perfettamente</td>\n",
       "      <td>5.0</td>\n",
       "      <td>molto belle</td>\n",
       "      <td>le scarpe sono molto belle , calzano perfettam...</td>\n",
       "    </tr>\n",
       "    <tr>\n",
       "      <th>7</th>\n",
       "      <td>GUESS Women's Bradly Gymnastics Shoe, White, 7 UK</td>\n",
       "      <td>Cliente Amazon</td>\n",
       "      <td>Molto carine e comode</td>\n",
       "      <td>Semplicemente perfette. Io uso plantari su mis...</td>\n",
       "      <td>5.0</td>\n",
       "      <td>molto carine e comode</td>\n",
       "      <td>semplicemente perfette . io uso plantari su mi...</td>\n",
       "    </tr>\n",
       "    <tr>\n",
       "      <th>8</th>\n",
       "      <td>GUESS Women's Bradly Gymnastics Shoe, White, 7 UK</td>\n",
       "      <td>Marcella</td>\n",
       "      <td>Bellissimepeccato per il numero</td>\n",
       "      <td>Le scarpe sono bellissime, arrivate in perfett...</td>\n",
       "      <td>5.0</td>\n",
       "      <td>bellissimepeccato per il numero</td>\n",
       "      <td>le scarpe sono bellissime , arrivate perfetto ...</td>\n",
       "    </tr>\n",
       "    <tr>\n",
       "      <th>9</th>\n",
       "      <td>GUESS Women's Bradly Gymnastics Shoe, White, 7 UK</td>\n",
       "      <td>Giuseppe</td>\n",
       "      <td>Scarpe ben realizzate venditore ottimo</td>\n",
       "      <td>Le scarpe sono ben fatte e il venditore molto ...</td>\n",
       "      <td>5.0</td>\n",
       "      <td>scarpe ben realizzate venditore ottimo</td>\n",
       "      <td>le scarpe sono ben fatte e il venditore molto ...</td>\n",
       "    </tr>\n",
       "  </tbody>\n",
       "</table>\n",
       "</div>"
      ],
      "text/plain": [
       "                                        product_name     reviewer_name  \\\n",
       "0  Klasified Women's Transparent Clear Sneaker Sh...  Jocelyn McSayles   \n",
       "1  Klasified Women's Transparent Clear Sneaker Sh...      Kenia Rivera   \n",
       "2  Klasified Women's Transparent Clear Sneaker Sh...       Chris Souza   \n",
       "3  Klasified Women's Transparent Clear Sneaker Sh...   Amazon Customer   \n",
       "4  GUESS Women's Bradly Gymnastics Shoe, White, 7 UK         Graziella   \n",
       "5  GUESS Women's Bradly Gymnastics Shoe, White, 7 UK         Francesca   \n",
       "6  GUESS Women's Bradly Gymnastics Shoe, White, 7 UK           Cliente   \n",
       "7  GUESS Women's Bradly Gymnastics Shoe, White, 7 UK    Cliente Amazon   \n",
       "8  GUESS Women's Bradly Gymnastics Shoe, White, 7 UK          Marcella   \n",
       "9  GUESS Women's Bradly Gymnastics Shoe, White, 7 UK          Giuseppe   \n",
       "\n",
       "                             review_title  \\\n",
       "0                                 Love em   \n",
       "1                      The plastic ripped   \n",
       "2                            Good quality   \n",
       "3                                    Good   \n",
       "4                                PERFETTE   \n",
       "5                               delusione   \n",
       "6                             Molto belle   \n",
       "7                   Molto carine e comode   \n",
       "8         Bellissimepeccato per il numero   \n",
       "9  Scarpe ben realizzate venditore ottimo   \n",
       "\n",
       "                                         review_text  review_rating  \\\n",
       "0  Love these. Was looking for converses and thes...            5.0   \n",
       "1  The shoes are very cute, but after the 2nd day...            2.0   \n",
       "2                                       Good quality            5.0   \n",
       "3                                              Great            5.0   \n",
       "4  Ho scelto il modello bianco con rifinitura die...            5.0   \n",
       "5  Sono solita comprare scarpe Guess e non ho mai...            1.0   \n",
       "6  Le scarpe sono molto belle, calzano perfettamente            5.0   \n",
       "7  Semplicemente perfette. Io uso plantari su mis...            5.0   \n",
       "8  Le scarpe sono bellissime, arrivate in perfett...            5.0   \n",
       "9  Le scarpe sono ben fatte e il venditore molto ...            5.0   \n",
       "\n",
       "                       review_title_token  \\\n",
       "0                                 love em   \n",
       "1                      the plastic ripped   \n",
       "2                            good quality   \n",
       "3                                    good   \n",
       "4                                perfette   \n",
       "5                               delusione   \n",
       "6                             molto belle   \n",
       "7                   molto carine e comode   \n",
       "8         bellissimepeccato per il numero   \n",
       "9  scarpe ben realizzate venditore ottimo   \n",
       "\n",
       "                                   review_text_token  \n",
       "0  love . was looking converses half price unique...  \n",
       "1  the shoes cute , 2nd day wearing tongue starte...  \n",
       "2                                       good quality  \n",
       "3                                              great  \n",
       "4  ho scelto il modello bianco con rifinitura die...  \n",
       "5  sono solita comprare scarpe guess e non ho mai...  \n",
       "6  le scarpe sono molto belle , calzano perfettam...  \n",
       "7  semplicemente perfette . io uso plantari su mi...  \n",
       "8  le scarpe sono bellissime , arrivate perfetto ...  \n",
       "9  le scarpe sono ben fatte e il venditore molto ...  "
      ]
     },
     "execution_count": 12,
     "metadata": {},
     "output_type": "execute_result"
    }
   ],
   "source": [
    "# 정리 완료한 데이터 프레임 상태 확인\n",
    "\n",
    "df.head(10)"
   ]
  },
  {
   "cell_type": "markdown",
   "metadata": {},
   "source": [
    "상단을 보면 review_title_token과 review_text_token에 해당하는 데이터들이 단어 단위로 잘 분리되어 감정 분석에 준비가 완료된 것을 확인 가능하다. 그럼 이제 감정 분석 및 logistic regression 모델 학습 단계로 넘어가겠다."
   ]
  },
  {
   "cell_type": "markdown",
   "metadata": {},
   "source": [
    "# 2. 모델 구현\n",
    "\n",
    "수업에서 활용한 모델을 적용 (nltk의 vader 모델을 통한 감정 분석 데이터 활용 logistic regression 진행)\n",
    "\n",
    "우선, nltk의 vader 모델을 통한 review_title_token과 review_text_token의 내용을 기반으로 감정 분석을 통해 결과를 도출하여 review_title_sentiment_score, review_text_sentiment_socre에 각각 저장하여 데이터 프레임에 저장하는 과정을 진행한다.\n",
    "\n",
    "이후에는 logistic regression에 데이터를 학습시키기 위해서는 -1 ~ 1 사이의 소수점 값에서 (0 : 부정)과 (1 : 긍정)로 분리된 이진 값으로 변경하여 넣어야 하기에, 변경을 진행하는 함수를 생성하여 적용한다.\n",
    "\n",
    "마지막으로, 리뷰 내용을 분석하는 모델을 학습시키기 위하여 별도의 데이터프레임으로 product_name, review_text_token, review_text_sentiment_score을 각각 뽑아 새로 만드는 과정을 진행한다."
   ]
  },
  {
   "cell_type": "markdown",
   "metadata": {},
   "source": [
    "### 1) nltk의 vader 모델을 통한 감정 분석 진행 및 데이터 저장"
   ]
  },
  {
   "cell_type": "markdown",
   "metadata": {},
   "source": [
    "우선 감정 분석 기능을 수행하는 함수(calc_sentiment)를 정의한다."
   ]
  },
  {
   "cell_type": "code",
   "execution_count": 13,
   "metadata": {},
   "outputs": [],
   "source": [
    "# vader 모델을 감정 분석기로 초기화 진행 후 감정 분석 기능 함수 생성\n",
    "\n",
    "vader_sentiment = SentimentIntensityAnalyzer() # VADER 감정 분석기 초기화\n",
    "\n",
    "def calc_sentiment(review): # 감정 분석 함수 정의\n",
    "    return vader_sentiment.polarity_scores(review)[\"compound\"] # 모든 데이터 감정 분석 진행"
   ]
  },
  {
   "cell_type": "markdown",
   "metadata": {},
   "source": [
    "이후에는 -1 ~ 1 사이의 소수점 값으로 감정 분석 결과가 나오는 것을 이진 값으로 변환하는 change_to_binary 함수를 정의한다"
   ]
  },
  {
   "cell_type": "code",
   "execution_count": 14,
   "metadata": {},
   "outputs": [],
   "source": [
    "# logistic regression 적용을 위한 값 변환 함수 정의\n",
    "\n",
    "def change_to_binary(sentiment_score): # 이진 값으로 감정 분석 결과를 변경함\n",
    "    if sentiment_score >= 0.1: # 값이 0.1 이상이면 긍정, 나머지는 부정으로 처리함.\n",
    "        return 1  # 긍정 감정\n",
    "    else:\n",
    "        return 0  # 부정 감정"
   ]
  },
  {
   "cell_type": "markdown",
   "metadata": {},
   "source": [
    "이제 감정 분석을 진행할 review_title, review_text를 각각 분석을 진행하여 새로운 열로 데이터프레임에 추가한다."
   ]
  },
  {
   "cell_type": "code",
   "execution_count": 15,
   "metadata": {},
   "outputs": [
    {
     "name": "stdout",
     "output_type": "stream",
     "text": [
      "리뷰 제목과 리뷰 내용 감정 분석 결과 데이터프레임에 추가 작업 진행...\n",
      "\n",
      "감정 분석 계산 시간 :  2.63 초 소요\n"
     ]
    }
   ],
   "source": [
    "# vader 모델을 통한 감정 분석 도출 및 데이터 프레임에 계산 결과 추가\n",
    "\n",
    "print(\"리뷰 제목과 리뷰 내용 감정 분석 결과 데이터프레임에 추가 작업 진행...\\n\")\n",
    "start = time.time()\n",
    "df[\"review_title_sentiment_score\"] = df.review_title.apply(calc_sentiment).round(2) # 감정 분석 결과값을 소수점 두자리수까지 반올림해서 저장함\n",
    "df[\"review_text_sentiment_score\"] = df.review_text.apply(calc_sentiment).round(2) # 감정 분석 결과값을 소수점 두자리수까지 반올림해서 저장함\n",
    "\n",
    "end = time.time()\n",
    "print(\"감정 분석 계산 시간 :  \" + str(round(end - start, 2)) + \" 초 소요\")"
   ]
  },
  {
   "cell_type": "markdown",
   "metadata": {},
   "source": [
    "감정 분석 결과를 이진 값으로 변경한다."
   ]
  },
  {
   "cell_type": "code",
   "execution_count": 16,
   "metadata": {},
   "outputs": [],
   "source": [
    "# 이진 값으로 변환 진행 (logistic regression을 사용하기 위해 결과 값을 0 : 부정, 1 : 긍정으로 변환함)\n",
    "\n",
    "df[\"review_title_sentiment_score\"] = df.review_title_sentiment_score.apply(change_to_binary) # review_title_sentiment_score의 값을 이진화 진행\n",
    "df[\"review_text_sentiment_score\"] = df.review_text_sentiment_score.apply(change_to_binary) # review_text_sentiment_score의 값을 이진화 진행"
   ]
  },
  {
   "cell_type": "code",
   "execution_count": 17,
   "metadata": {},
   "outputs": [
    {
     "data": {
      "text/html": [
       "<div>\n",
       "<style scoped>\n",
       "    .dataframe tbody tr th:only-of-type {\n",
       "        vertical-align: middle;\n",
       "    }\n",
       "\n",
       "    .dataframe tbody tr th {\n",
       "        vertical-align: top;\n",
       "    }\n",
       "\n",
       "    .dataframe thead th {\n",
       "        text-align: right;\n",
       "    }\n",
       "</style>\n",
       "<table border=\"1\" class=\"dataframe\">\n",
       "  <thead>\n",
       "    <tr style=\"text-align: right;\">\n",
       "      <th></th>\n",
       "      <th>product_name</th>\n",
       "      <th>review_text_token</th>\n",
       "      <th>review_text_sentiment_score</th>\n",
       "    </tr>\n",
       "  </thead>\n",
       "  <tbody>\n",
       "    <tr>\n",
       "      <th>0</th>\n",
       "      <td>Klasified Women's Transparent Clear Sneaker Sh...</td>\n",
       "      <td>love . was looking converses half price unique...</td>\n",
       "      <td>1</td>\n",
       "    </tr>\n",
       "    <tr>\n",
       "      <th>1</th>\n",
       "      <td>Klasified Women's Transparent Clear Sneaker Sh...</td>\n",
       "      <td>the shoes cute , 2nd day wearing tongue starte...</td>\n",
       "      <td>1</td>\n",
       "    </tr>\n",
       "    <tr>\n",
       "      <th>2</th>\n",
       "      <td>Klasified Women's Transparent Clear Sneaker Sh...</td>\n",
       "      <td>good quality</td>\n",
       "      <td>1</td>\n",
       "    </tr>\n",
       "    <tr>\n",
       "      <th>3</th>\n",
       "      <td>Klasified Women's Transparent Clear Sneaker Sh...</td>\n",
       "      <td>great</td>\n",
       "      <td>1</td>\n",
       "    </tr>\n",
       "    <tr>\n",
       "      <th>4</th>\n",
       "      <td>GUESS Women's Bradly Gymnastics Shoe, White, 7 UK</td>\n",
       "      <td>ho scelto il modello bianco con rifinitura die...</td>\n",
       "      <td>0</td>\n",
       "    </tr>\n",
       "    <tr>\n",
       "      <th>...</th>\n",
       "      <td>...</td>\n",
       "      <td>...</td>\n",
       "      <td>...</td>\n",
       "    </tr>\n",
       "    <tr>\n",
       "      <th>6818</th>\n",
       "      <td>Clarks Vennor Wing, Men’s Low-Top Sneakers, Bl...</td>\n",
       "      <td>schicker schuh , läuft sich gut .</td>\n",
       "      <td>0</td>\n",
       "    </tr>\n",
       "    <tr>\n",
       "      <th>6819</th>\n",
       "      <td>Clarks Vennor Wing, Men’s Low-Top Sneakers, Bl...</td>\n",
       "      <td>mieux que je ne l'imaginais . très bonne taill...</td>\n",
       "      <td>0</td>\n",
       "    </tr>\n",
       "    <tr>\n",
       "      <th>6820</th>\n",
       "      <td>Rohde Men's Tivoli-H Mule, 82 Anthracite, 12.5 UK</td>\n",
       "      <td>habe sie als geschenk gekauft und sie sind seh...</td>\n",
       "      <td>1</td>\n",
       "    </tr>\n",
       "    <tr>\n",
       "      <th>6821</th>\n",
       "      <td>Rohde Men's Tivoli-H Mule, 82 Anthracite, 12.5 UK</td>\n",
       "      <td>trage diese hausschuhe fast zwei monate jeden ...</td>\n",
       "      <td>0</td>\n",
       "    </tr>\n",
       "    <tr>\n",
       "      <th>6822</th>\n",
       "      <td>Rohde Men's Tivoli-H Mule, 82 Anthracite, 12.5 UK</td>\n",
       "      <td>die hausschuhe sind sehr warm und tolle leder ...</td>\n",
       "      <td>0</td>\n",
       "    </tr>\n",
       "  </tbody>\n",
       "</table>\n",
       "<p>6813 rows × 3 columns</p>\n",
       "</div>"
      ],
      "text/plain": [
       "                                           product_name  \\\n",
       "0     Klasified Women's Transparent Clear Sneaker Sh...   \n",
       "1     Klasified Women's Transparent Clear Sneaker Sh...   \n",
       "2     Klasified Women's Transparent Clear Sneaker Sh...   \n",
       "3     Klasified Women's Transparent Clear Sneaker Sh...   \n",
       "4     GUESS Women's Bradly Gymnastics Shoe, White, 7 UK   \n",
       "...                                                 ...   \n",
       "6818  Clarks Vennor Wing, Men’s Low-Top Sneakers, Bl...   \n",
       "6819  Clarks Vennor Wing, Men’s Low-Top Sneakers, Bl...   \n",
       "6820  Rohde Men's Tivoli-H Mule, 82 Anthracite, 12.5 UK   \n",
       "6821  Rohde Men's Tivoli-H Mule, 82 Anthracite, 12.5 UK   \n",
       "6822  Rohde Men's Tivoli-H Mule, 82 Anthracite, 12.5 UK   \n",
       "\n",
       "                                      review_text_token  \\\n",
       "0     love . was looking converses half price unique...   \n",
       "1     the shoes cute , 2nd day wearing tongue starte...   \n",
       "2                                          good quality   \n",
       "3                                                 great   \n",
       "4     ho scelto il modello bianco con rifinitura die...   \n",
       "...                                                 ...   \n",
       "6818                  schicker schuh , läuft sich gut .   \n",
       "6819  mieux que je ne l'imaginais . très bonne taill...   \n",
       "6820  habe sie als geschenk gekauft und sie sind seh...   \n",
       "6821  trage diese hausschuhe fast zwei monate jeden ...   \n",
       "6822  die hausschuhe sind sehr warm und tolle leder ...   \n",
       "\n",
       "      review_text_sentiment_score  \n",
       "0                               1  \n",
       "1                               1  \n",
       "2                               1  \n",
       "3                               1  \n",
       "4                               0  \n",
       "...                           ...  \n",
       "6818                            0  \n",
       "6819                            0  \n",
       "6820                            1  \n",
       "6821                            0  \n",
       "6822                            0  \n",
       "\n",
       "[6813 rows x 3 columns]"
      ]
     },
     "execution_count": 17,
     "metadata": {},
     "output_type": "execute_result"
    }
   ],
   "source": [
    "# 준비 완료된 데이터를 데이터 프레임으로 편집\n",
    "\n",
    "df_review = df[['product_name', 'review_text_token', 'review_text_sentiment_score']] # 필요한 데이터 열만 뽑아 새로운 데이터 프레임 생성\n",
    "df_review"
   ]
  },
  {
   "cell_type": "markdown",
   "metadata": {},
   "source": [
    "이제 데이터는 준비되었으며 다음 단계인 logistic regression 회귀분석 단계로 넘어간다."
   ]
  },
  {
   "cell_type": "markdown",
   "metadata": {},
   "source": [
    "# 3. 모델 학습 및 튜닝\n",
    "\n",
    "데이터셋을 학습 및 테스트 세트로 분할.\n",
    "\n",
    "모델 학습 및 하이퍼파라미터 튜닝 (예: 그리드 서치 또는 랜덤 서치 사용).\n",
    "\n",
    "교차 검증과 같은 기술을 사용하여 견고성 보장.\n",
    "\n",
    "해당 모델 학습 및 튜닝 단계에서는 scikit-learn의 logistic regression 기능을 사용해 회귀분석을 진행한다.\n",
    "\n",
    "분석의 단계는 다음과 같이 진행한다.\n",
    "\n",
    "1. 필요 모듈 설치\n",
    "\n",
    "2. 데이터 x, y 지정 및 데이터 벡터화 진행\n",
    "\n",
    "3. train_data, test_data로 분할 진행\n",
    "\n",
    "4. logistic regression 모델 생성 후 그리드 서치를 활용하여 최적 하이퍼파라미터 값 및 cross-validation(교차 검증 점수) 값 확인\n",
    "\n",
    "5. 최적 하이퍼파라미터 값에 해당하는 모델을 통해 데이터를 학습하고 예측하는 과정 진행"
   ]
  },
  {
   "cell_type": "markdown",
   "metadata": {},
   "source": [
    "### 1) 필요 모듈 설치\n",
    "\n",
    "우선 logistic regression 모델의 생성 및 모델 평가을 위한 scikit-learn의 모듈을 import를 진행한다."
   ]
  },
  {
   "cell_type": "code",
   "execution_count": 18,
   "metadata": {},
   "outputs": [],
   "source": [
    "# 필요 모듈 설치\n",
    "\n",
    "from sklearn.model_selection import train_test_split # test, train 데이터 분리 기능\n",
    "from sklearn.feature_extraction.text import TfidfVectorizer # 벡터화 진행 기능\n",
    "from sklearn.linear_model import LogisticRegression # logistic regression 모델 \n",
    "from sklearn.model_selection import GridSearchCV # 그리드 서치 기능\n",
    "from sklearn.metrics import accuracy_score, precision_score, recall_score, f1_score, roc_auc_score, roc_curve # 정확도, 정밀도, 재현율, f1 점수, roc-auc 점수 기능\n",
    "from sklearn.metrics import confusion_matrix, classification_report # 혼돈 행렬, 분류 보고서 (종합 결과) 기능"
   ]
  },
  {
   "cell_type": "markdown",
   "metadata": {},
   "source": [
    "### 2) 데이터 지정 및 리뷰 토큰화 데이터 벡터화 진행\n",
    "\n",
    "logistic regression 모델에 학습 데이터로 넣기 위해서는 문자 형태로 되어있는 review_text_token을 벡터화를 진행하는 과정을 거친다.\n",
    "\n",
    "벡터화를 통해 리뷰 내용의 단어의 등장 빈도를 나타내는 TF-IDF 벡터로 변환하여 적용을 진행하는데, 이런 상위 단어 등장 빈도 갯수를 의미하는 max_features 값이 1000을 넘어가면 커널이 불완전 종료되는 현상에 1000으로 고정을 시켜두고 진행한다."
   ]
  },
  {
   "cell_type": "code",
   "execution_count": 19,
   "metadata": {},
   "outputs": [],
   "source": [
    "# 데이터 지정\n",
    "y = df['review_text_sentiment_score'] # y에 감정 분석 값(이진값) 지정\n",
    "\n",
    "# TF-IDF 벡터화\n",
    "vectorizer = TfidfVectorizer(max_features=1000) # TF-IDF 벡터화 진행 (1000개 고정)\n",
    "x = vectorizer.fit_transform(df['review_text_token']) # x에 review_text_token을 벡터화한 값을 저장"
   ]
  },
  {
   "cell_type": "markdown",
   "metadata": {},
   "source": [
    "### 3) train data, test data로 각각 분할"
   ]
  },
  {
   "cell_type": "markdown",
   "metadata": {},
   "source": [
    "다은은 x와 y를 test, train 데이터로 분할을 진행한다."
   ]
  },
  {
   "cell_type": "code",
   "execution_count": 20,
   "metadata": {},
   "outputs": [],
   "source": [
    "# 학습 데이터와 테스트 데이터로 분할 진행\n",
    "x_train, x_test, y_train, y_test = train_test_split(x, y, test_size=0.2, random_state=42) # 분할을 train 데이터 80%, test 데이터 20%로 나누고 시드값을 42로 지정"
   ]
  },
  {
   "cell_type": "markdown",
   "metadata": {},
   "source": [
    "### 4) logistic Regression 모델 초기화 및 그리드 서치 활용 최적 모델 출력\n",
    "\n",
    "해당 단계에서는 logistic regression 모델을 정의하고, 하이퍼파라미터 그리드를 지정하여, 그리드 서치를 통한 최적 파라미터를 탐색하여 그 값과 cross-validation값을 출력하는 과정을 거친다.\n",
    "\n",
    "하단의 작업은 10분 정도 소요됨"
   ]
  },
  {
   "cell_type": "code",
   "execution_count": 21,
   "metadata": {},
   "outputs": [
    {
     "name": "stdout",
     "output_type": "stream",
     "text": [
      "Best parameters: {'C': 10}\n",
      "Best cross-validation score: 0.8867889908256881\n"
     ]
    }
   ],
   "source": [
    "# Logistic Regression 모델 초기화\n",
    "model = LogisticRegression() # 회귀 모델을 초기화\n",
    "\n",
    "# 하이퍼파라미터 그리드 설정\n",
    "param_grid = {'C': [0.001, 0.01, 0.1, 1, 10, 100]} # 하이퍼파라미터 값을 0.001 ~ 100까지 소수점 단위로 지정\n",
    "\n",
    "# 그리드 서치를 사용하여 최적의 하이퍼파라미터 탐색\n",
    "grid_search = GridSearchCV(model, param_grid, cv=5, scoring='accuracy') # 그리드 서치 정의 (모델, 하이퍼파라미터 그리드, 교차검증을 5폴드로 사용, 정확도를 기반으로 비교)\n",
    "grid_search.fit(x_train, y_train) # 그리드 서치 진행\n",
    "\n",
    "# 최적 하이퍼파라미터 값과 최고 cross-validation 값 출력\n",
    "print(\"Best parameters:\", grid_search.best_params_) # 최적 하이퍼파라미터 값 출력\n",
    "print(\"Best cross-validation score:\", grid_search.best_score_) # 최고 cross-validation 값 출력"
   ]
  },
  {
   "cell_type": "markdown",
   "metadata": {},
   "source": [
    "그리드 서치 수행 결과 하이퍼파라미터 값 C : 10에서 가장 최적의 결과를 보였으며 교차 검증 점수가 약 88%인 것을 확인 가능하다."
   ]
  },
  {
   "cell_type": "markdown",
   "metadata": {},
   "source": [
    "### 5) 위에서 찾은 최적의 모델을 활용하여 학습 및 예측 진행\n",
    "\n",
    "위에서 찾은 최적의 하이퍼파라미터 값 C:10을 기반으로 최적 모델을 final_model로 정의하여 최종 모델 예측을 진행한다."
   ]
  },
  {
   "cell_type": "code",
   "execution_count": 22,
   "metadata": {},
   "outputs": [],
   "source": [
    "# 최적의 모델을 사용 데이터 학습 진행\n",
    "final_model = grid_search.best_estimator_ # 위에서 C:10 하이퍼파라미터 값을 가진 모델을 final_model에 저장\n",
    "final_model.fit(x_train, y_train) # 학습 진행\n",
    "\n",
    "# 테스트 데이터에 대해 예측\n",
    "y_pred = final_model.predict(x_test) # 테스트 데이터에 대한 예측 진행"
   ]
  },
  {
   "cell_type": "markdown",
   "metadata": {},
   "source": [
    "# 4. 모델 평가:\n",
    "\n",
    "정확도, 정밀도, 재현율, F1 점수 및 ROC-AUC와 같은 지표를 사용하여 모델 평가.\n",
    "오버피팅과 언더피팅을 논의하고 이를 해결하는 방법 학습.\n",
    "\n",
    "모델 평가 단계에서는 위에 학습을 마친 예측 모델 y_pred를 기반으로 정확도, 정밀도, 재현율, F1 점수, ROC-AUC 지표를 통해 모델 평가를 진행한다.\n",
    "\n",
    "이후에는, 예측 결과를 통해 오버피팅, 언더피팅을 확인한다.\n"
   ]
  },
  {
   "cell_type": "code",
   "execution_count": 23,
   "metadata": {},
   "outputs": [
    {
     "name": "stdout",
     "output_type": "stream",
     "text": [
      "Accuracy: 0.8892149669845928\n",
      "Precision: 0.8896068492093696\n",
      "Recall: 0.8892149669845928\n",
      "F1 Score: 0.8893294648740914\n",
      "ROC-AUC Score: 0.8888145515823296\n",
      "Classification Report:\n",
      "              precision    recall  f1-score   support\n",
      "\n",
      "           0       0.87      0.89      0.88       602\n",
      "           1       0.91      0.89      0.90       761\n",
      "\n",
      "    accuracy                           0.89      1363\n",
      "   macro avg       0.89      0.89      0.89      1363\n",
      "weighted avg       0.89      0.89      0.89      1363\n",
      "\n"
     ]
    }
   ],
   "source": [
    "# 정확도 평가\n",
    "accuracy = accuracy_score(y_test, y_pred) # 정확도 계산\n",
    "print(\"Accuracy:\", accuracy)\n",
    "\n",
    "# 정밀도 평가\n",
    "precision = precision_score(y_test, y_pred, average='weighted')  # 정밀도 계산\n",
    "print(\"Precision:\", precision)\n",
    "\n",
    "# 재현율 평가\n",
    "recall = recall_score(y_test, y_pred, average='weighted')  # 재현율 계산\n",
    "print(\"Recall:\", recall)\n",
    "\n",
    "# F1 점수 평가\n",
    "f1 = f1_score(y_test, y_pred, average='weighted')  # F1 점수 계산\n",
    "print(\"F1 Score:\", f1)\n",
    "\n",
    "# ROC-AUC 점수 계산\n",
    "roc_auc = roc_auc_score(y_test, y_pred)  # roc-auc 계산\n",
    "print(\"ROC-AUC Score:\", roc_auc)\n",
    "\n",
    "# 분류 보고서 출력\n",
    "class_report = classification_report(y_test, y_pred)  # 전체 모델 분류 보고서 도출\n",
    "print(\"Classification Report:\")\n",
    "print(class_report)"
   ]
  },
  {
   "cell_type": "markdown",
   "metadata": {},
   "source": [
    "###  < 모델 성능 분석 > \n",
    "\n",
    "==============================================================================================================================================\n",
    "\n",
    "1. 정확도 (Accuracy: 0.8892149669845928) : 모델의 예측 성능을 의미하는 값으로 약 88.9%의 성능을 보이며, 예측의 정확도가 높음을 확인 가능하다.\n",
    "\n",
    "2. 정밀도 (Precision: 0.8896068492093696) : 모델이 예측한 값 중 실제 데이터가 일치한 비율을 의미하는 값으로 약 88.9%의 성능을 보이며, 정밀도 역시 높음을 확인 가능하다.\n",
    "\n",
    "3. 재현율 (Recall: 0.8892149669845928) : 실제 데이터 중 모델이 예측한 값이 일치한 비율을 의미하는 값으로 88.9% 성능으로 재현율 역시 높음을 확인 가능하다.\n",
    "\n",
    "4. F1 점수 (F1 Score: 0.8893294648740914) : F1 점수는 정밀도와 재현율의 조화 평균을 의미하는데 88.9% 인것을 확인하면 모델의 성능에 문제가 없음을 확인 가능하다.\n",
    "\n",
    "5. ROC-AUC 점수 (ROC-AUC Score: 0.8888145515823296) : 모델의 성능을 평가하는 값으로 88.8%로 비교적 높은 성능을 보이는 것을 확인 가능하다.\n",
    "\n",
    "\n",
    "전체 점수 보고(Classification Report)를 보면, 긍정 감정 분석의 예측이 부정 감정 분석의 예측 정확도 보다 높은 것을 확인 가능하다.\n",
    "\n",
    "=============================================================================================================================================="
   ]
  },
  {
   "cell_type": "markdown",
   "metadata": {},
   "source": [
    "### <언더피팅 오버피팅 여부 확인>\n",
    "\n",
    "==============================================================================================================================================\n",
    "\n",
    "데이터 성능을 보면 정확도, 정밀도, 재현율의 성능이 결과가 88.9% 수준에서 비슷하며 모델의 성능이 전체적으로 높음에 따라 오버피팅, 언더피팅에는 해당하지 않음을 확인 가능하다.\n",
    "\n",
    "=============================================================================================================================================="
   ]
  },
  {
   "cell_type": "markdown",
   "metadata": {},
   "source": [
    "# 5. 시각화 및 보고\n",
    "\tMatplotlib 라이브러리를 사용하여 결과 시각화 진행\n",
    "\t혼동 행렬 및 ROC 곡선 생성"
   ]
  },
  {
   "cell_type": "markdown",
   "metadata": {},
   "source": [
    "### 1) 혼동 행렬 생성 및 출력"
   ]
  },
  {
   "cell_type": "code",
   "execution_count": 24,
   "metadata": {},
   "outputs": [
    {
     "data": {
      "text/plain": [
       "array([[533,  69],\n",
       "       [ 82, 679]])"
      ]
     },
     "execution_count": 24,
     "metadata": {},
     "output_type": "execute_result"
    }
   ],
   "source": [
    "confusion_matrix(y_test, y_pred) # 혼동 행렬 생성 및 출력 진행"
   ]
  },
  {
   "cell_type": "markdown",
   "metadata": {},
   "source": [
    "혼동 행렬 ( [[533  69][82 679]] ) : [[TN, FP][FN, TP]]으로 해석하며 예측이 맞은 데이터와 틀린 데이터를 음성, 양성에 따라 나눈 지표로 양성 데이터 679개, 음성 데이터 533개가 예측에 성공하고, 양성 데이터 69, 음성 데이터 82가 예측에 실패한 것을 확인 가능하다. 혼동 행렬로 보면 예측 실패 데이터가 아직은 많음으로 조금은 모델을 개선할 필요성이 보인다.\n",
    "\n",
    "=================================================\n",
    "\n",
    "- TP : 실제 데이터 양성 -> 예측 데이터 양성\n",
    "\n",
    "- TN : 실제 데이터 음성 -> 예측 데이터 음성\n",
    "\n",
    "- FP : 실제 데이터 음성 -> 예측 데이터 양성\n",
    "\n",
    "- FN : 실제 데이터 양성 -> 예측 데이터 음성\n",
    "\n",
    "================================================="
   ]
  },
  {
   "cell_type": "markdown",
   "metadata": {},
   "source": [
    "### 2) matplotlib를 사용하여 ROC 곡선 생성"
   ]
  },
  {
   "cell_type": "code",
   "execution_count": 25,
   "metadata": {},
   "outputs": [
    {
     "data": {
      "image/png": "[encoded data removed]",
      "text/plain": [
       "<Figure size 600x600 with 1 Axes>"
      ]
     },
     "metadata": {},
     "output_type": "display_data"
    }
   ],
   "source": [
    "fpr, tpr, thresholds = roc_curve(y_test, y_pred) # 혼동 행렬 계산 진행 (TP, FP, 분류 임계값)\n",
    "\n",
    "fig = plt.figure(figsize=(6, 6)) # 그래프 사이즈 지정\n",
    "\n",
    "plt.plot([0, 1], [0, 1], 'o--')\n",
    "\n",
    "plt.plot(fpr, tpr) #FP와 TP를 기준으로 그래프 생성\n",
    "plt.xlabel('FT') # x축 제목 지정\n",
    "plt.ylabel('TP') # y축 제목 지정\n",
    "plt.title('roc curve') # 그래프 제목 지정\n",
    "plt.show() # 그래프 출력"
   ]
  },
  {
   "cell_type": "markdown",
   "metadata": {},
   "source": [
    "위 roc 곡선을 분석하면 모델의 성능이 왼쪽 상단의 모서리에 가까울 수록 성능이 좋으나 roc_auc 점수가 88.8%로 낮은 편은 아니며 더 성능을 개선하기 위해서는 데이터의 전처리 과정에서 조금 더 불순한 데이터를 걸러내고, 데이터의 양을 방대하게 증가시켜 많은 데이터를 모델에 학습시키면 성능이 더 높아질 것으로 기대한다. 또한, 커널 불완전 종료 이슈로 더 올리지 못한 TF-IDF 진행 과정에서 정해놓은 단어의 갯수를 1000개에서 더 많은 갯수로 조정하고 하이퍼파라미터의 값을 더 세밀하게 조정하면 성능이 더욱 향상 될 것으로 기대한다."
   ]
  }
 ],
 "metadata": {
  "kernelspec": {
   "display_name": ".venv",
   "language": "python",
   "name": "python3"
  },
  "language_info": {
   "codemirror_mode": {
    "name": "ipython",
    "version": 3
   },
   "file_extension": ".py",
   "mimetype": "text/x-python",
   "name": "python",
   "nbconvert_exporter": "python",
   "pygments_lexer": "ipython3",
   "version": "3.10.13"
  }
 },
 "nbformat": 4,
 "nbformat_minor": 2
}
