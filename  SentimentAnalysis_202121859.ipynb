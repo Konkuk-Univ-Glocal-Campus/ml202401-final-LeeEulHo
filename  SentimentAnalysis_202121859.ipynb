{
 "cells": [
  {
   "cell_type": "markdown",
   "metadata": {},
   "source": [
    "# Amazon Uk의 신발 제품 리뷰 데이터 감정 분석(Sentiment Analysis)\n",
    "\n",
    "### [건국대학교 글로컬캠퍼스 컴퓨터공학과 202121859 이을호]\n",
    "\n",
    "========================================================================\n",
    "\n",
    "본 과제에서는 Amazon uk(영국)쇼핑몰의 신발 제품 판매 리뷰에 대한 긍정, 부정의 판별이 가능한 감정 분석 시스템 개발을 진행한다. \n",
    "\n",
    "모델의 구현은 하단의 과정을 순서로 개발을 진행한다.\n",
    "\n",
    "1. 데이터 전처리 (결측치 처리, 노이즈 제거, 정규화 과정)\n",
    "\n",
    "```데이터 전처리 과정에서 신발 제품 별 리뷰 갯수, 실구매 여부, 동일 작성자 리뷰 갯수 확인을 진행함.```\n",
    "\n",
    "2. 모델 구현 (불용어 제거 진행)\n",
    "\n",
    "3. 모델 학습 및 튜닝 (dataset을 train, test로 분할, 모델 학습 및 하이퍼파라미터 튜닝(grid search or random search)를 통한 교차 검증)\n",
    "\n",
    "4. 모델 평가 (정확도, 정밀도, 재현율, F1 score, ROC-AUC 지표를 통한 모델 검증 및 overfitting, underfitting 여부 확인 및 해결 방법)\n",
    "\n",
    "5. 시각화 및 보고 (모델이 출력한 결과 및 수치값을 matplotlib, Seaborn을 통한 시각화 진행(혼동 행렬 및 ROC 곡선 생성))\n",
    "\n",
    "-> 상기 내용을 보고서로 작성하여 별도 첨부함.\n",
    "\n",
    "========================================================================\n",
    "\n",
    "- Python Version : Python 3.10.13"
   ]
  },
  {
   "cell_type": "markdown",
   "metadata": {},
   "source": [
    "# 1. 데이터 전처리"
   ]
  },
  {
   "cell_type": "code",
   "execution_count": 1,
   "metadata": {},
   "outputs": [
    {
     "name": "stdout",
     "output_type": "stream",
     "text": [
      "Requirement already satisfied: matplotlib in ./.venv/lib/python3.10/site-packages (3.9.0)\n",
      "Requirement already satisfied: contourpy>=1.0.1 in ./.venv/lib/python3.10/site-packages (from matplotlib) (1.2.1)\n",
      "Requirement already satisfied: cycler>=0.10 in ./.venv/lib/python3.10/site-packages (from matplotlib) (0.12.1)\n",
      "Requirement already satisfied: fonttools>=4.22.0 in ./.venv/lib/python3.10/site-packages (from matplotlib) (4.53.0)\n",
      "Requirement already satisfied: kiwisolver>=1.3.1 in ./.venv/lib/python3.10/site-packages (from matplotlib) (1.4.5)\n",
      "Requirement already satisfied: numpy>=1.23 in ./.venv/lib/python3.10/site-packages (from matplotlib) (1.26.4)\n",
      "Requirement already satisfied: packaging>=20.0 in ./.venv/lib/python3.10/site-packages (from matplotlib) (24.1)\n",
      "Requirement already satisfied: pillow>=8 in ./.venv/lib/python3.10/site-packages (from matplotlib) (10.3.0)\n",
      "Requirement already satisfied: pyparsing>=2.3.1 in ./.venv/lib/python3.10/site-packages (from matplotlib) (3.1.2)\n",
      "Requirement already satisfied: python-dateutil>=2.7 in ./.venv/lib/python3.10/site-packages (from matplotlib) (2.9.0.post0)\n",
      "Requirement already satisfied: six>=1.5 in ./.venv/lib/python3.10/site-packages (from python-dateutil>=2.7->matplotlib) (1.16.0)\n",
      "Note: you may need to restart the kernel to use updated packages.\n",
      "Requirement already satisfied: pandas in ./.venv/lib/python3.10/site-packages (2.2.2)\n",
      "Requirement already satisfied: numpy>=1.22.4 in ./.venv/lib/python3.10/site-packages (from pandas) (1.26.4)\n",
      "Requirement already satisfied: python-dateutil>=2.8.2 in ./.venv/lib/python3.10/site-packages (from pandas) (2.9.0.post0)\n",
      "Requirement already satisfied: pytz>=2020.1 in ./.venv/lib/python3.10/site-packages (from pandas) (2024.1)\n",
      "Requirement already satisfied: tzdata>=2022.7 in ./.venv/lib/python3.10/site-packages (from pandas) (2024.1)\n",
      "Requirement already satisfied: six>=1.5 in ./.venv/lib/python3.10/site-packages (from python-dateutil>=2.8.2->pandas) (1.16.0)\n",
      "Note: you may need to restart the kernel to use updated packages.\n"
     ]
    }
   ],
   "source": [
    "# 필요 라이브러리 import\n",
    "\n",
    "%pip install matplotlib\n",
    "%pip install pandas\n",
    "\n",
    "import pandas as pd # pandas 모듈 import\n",
    "import time # (작업 소요시간 계산) time 모듈 import\n",
    "import ast # 구문 트리 파싱 및 분석에 사용하는 asr 모듈 import"
   ]
  },
  {
   "cell_type": "markdown",
   "metadata": {},
   "source": [
    "### 1) 데이터 구조 확인\n",
    "\n",
    "데이터를 우선 살펴보면 \"Amazon_uk_shoes_products_dataset_2021_12.csv\"는 하단의 순서대로 데이터가 이루어져 있음을 확인 가능하다.\n",
    "\n",
    "1. url (상품 URL 주소)\n",
    "2. product_name (상품명)\n",
    "3. reviewer_name (리뷰 등록자명)\n",
    "4. review_title (리뷰 제목)\n",
    "5. review_text (리뷰 내용)\n",
    "6. review_rating (상품 리뷰 별점)\n",
    "7. verified_purchase (실구매 확인 여부)\n",
    "8. review_date (리뷰 작성 날짜)\n",
    "9. helpful_count (해당 리뷰가 도움이 된 사람의 수)\n",
    "10. uniq_id (리뷰 특정 ID)\n",
    "11. scraped_at (해당 리뷰를 가져온 시점)"
   ]
  },
  {
   "cell_type": "code",
   "execution_count": 2,
   "metadata": {},
   "outputs": [
    {
     "name": "stdout",
     "output_type": "stream",
     "text": [
      "파일 읽기 실행 중입니다...\n",
      "\n",
      "파일 로딩에 걸린 시간은 0.06 초입니다.\n"
     ]
    },
    {
     "data": {
      "text/html": [
       "<div>\n",
       "<style scoped>\n",
       "    .dataframe tbody tr th:only-of-type {\n",
       "        vertical-align: middle;\n",
       "    }\n",
       "\n",
       "    .dataframe tbody tr th {\n",
       "        vertical-align: top;\n",
       "    }\n",
       "\n",
       "    .dataframe thead th {\n",
       "        text-align: right;\n",
       "    }\n",
       "</style>\n",
       "<table border=\"1\" class=\"dataframe\">\n",
       "  <thead>\n",
       "    <tr style=\"text-align: right;\">\n",
       "      <th></th>\n",
       "      <th>url</th>\n",
       "      <th>product_name</th>\n",
       "      <th>reviewer_name</th>\n",
       "      <th>review_title</th>\n",
       "      <th>review_text</th>\n",
       "      <th>review_rating</th>\n",
       "      <th>verified_purchase</th>\n",
       "      <th>review_date</th>\n",
       "      <th>helpful_count</th>\n",
       "      <th>uniq_id</th>\n",
       "      <th>scraped_at</th>\n",
       "    </tr>\n",
       "  </thead>\n",
       "  <tbody>\n",
       "    <tr>\n",
       "      <th>0</th>\n",
       "      <td>https://www.amazon.co.uk/dp/B07SBX32T5</td>\n",
       "      <td>Klasified Women's Transparent Clear Sneaker Sh...</td>\n",
       "      <td>Jocelyn McSayles</td>\n",
       "      <td>Love em</td>\n",
       "      <td>Love these. Was looking for converses and thes...</td>\n",
       "      <td>5.0</td>\n",
       "      <td>True</td>\n",
       "      <td>Reviewed in the United States on 2 June 2020</td>\n",
       "      <td>2 people found this helpful</td>\n",
       "      <td>36eae4e5-2894-5279-a0b7-d2b330e2b814</td>\n",
       "      <td>24/12/2021 02:26:25</td>\n",
       "    </tr>\n",
       "    <tr>\n",
       "      <th>1</th>\n",
       "      <td>https://www.amazon.co.uk/dp/B07SBX32T5</td>\n",
       "      <td>Klasified Women's Transparent Clear Sneaker Sh...</td>\n",
       "      <td>Kenia Rivera</td>\n",
       "      <td>The plastic ripped</td>\n",
       "      <td>The shoes are very cute, but after the 2nd day...</td>\n",
       "      <td>2.0</td>\n",
       "      <td>True</td>\n",
       "      <td>Reviewed in the United States on 28 October 2021</td>\n",
       "      <td>NaN</td>\n",
       "      <td>f4778bb8-3070-5cb1-b5aa-ffce41a97b57</td>\n",
       "      <td>24/12/2021 02:26:25</td>\n",
       "    </tr>\n",
       "    <tr>\n",
       "      <th>2</th>\n",
       "      <td>https://www.amazon.co.uk/dp/B07SBX32T5</td>\n",
       "      <td>Klasified Women's Transparent Clear Sneaker Sh...</td>\n",
       "      <td>Chris Souza</td>\n",
       "      <td>Good quality</td>\n",
       "      <td>Good quality</td>\n",
       "      <td>5.0</td>\n",
       "      <td>True</td>\n",
       "      <td>Reviewed in the United States on 20 January 2021</td>\n",
       "      <td>NaN</td>\n",
       "      <td>db5a7525-d40b-5265-84d8-df4f29837a3b</td>\n",
       "      <td>24/12/2021 02:26:25</td>\n",
       "    </tr>\n",
       "    <tr>\n",
       "      <th>3</th>\n",
       "      <td>https://www.amazon.co.uk/dp/B07SBX32T5</td>\n",
       "      <td>Klasified Women's Transparent Clear Sneaker Sh...</td>\n",
       "      <td>Amazon Customer</td>\n",
       "      <td>Good</td>\n",
       "      <td>Great</td>\n",
       "      <td>5.0</td>\n",
       "      <td>True</td>\n",
       "      <td>Reviewed in the United States on 22 April 2021</td>\n",
       "      <td>NaN</td>\n",
       "      <td>75a42851-6462-54b5-988a-27d336221943</td>\n",
       "      <td>24/12/2021 02:26:25</td>\n",
       "    </tr>\n",
       "    <tr>\n",
       "      <th>4</th>\n",
       "      <td>https://www.amazon.co.uk/dp/B08SW434MG</td>\n",
       "      <td>GUESS Women's Bradly Gymnastics Shoe, White, 7 UK</td>\n",
       "      <td>Graziella</td>\n",
       "      <td>PERFETTE!!</td>\n",
       "      <td>Ho scelto il modello bianco con rifinitura die...</td>\n",
       "      <td>5.0</td>\n",
       "      <td>True</td>\n",
       "      <td>Reviewed in Italy on 2 April 2021</td>\n",
       "      <td>2 people found this helpful</td>\n",
       "      <td>232dee43-849e-5d06-ba05-efb3f4814714</td>\n",
       "      <td>24/12/2021 02:26:25</td>\n",
       "    </tr>\n",
       "    <tr>\n",
       "      <th>...</th>\n",
       "      <td>...</td>\n",
       "      <td>...</td>\n",
       "      <td>...</td>\n",
       "      <td>...</td>\n",
       "      <td>...</td>\n",
       "      <td>...</td>\n",
       "      <td>...</td>\n",
       "      <td>...</td>\n",
       "      <td>...</td>\n",
       "      <td>...</td>\n",
       "      <td>...</td>\n",
       "    </tr>\n",
       "    <tr>\n",
       "      <th>6818</th>\n",
       "      <td>https://www.amazon.co.uk/dp/B07TPYWFVN</td>\n",
       "      <td>Clarks Vennor Wing, Men’s Low-Top Sneakers, Bl...</td>\n",
       "      <td>mauti72</td>\n",
       "      <td>Schick und leicht</td>\n",
       "      <td>Schicker Schuh, läuft sich gut.</td>\n",
       "      <td>5.0</td>\n",
       "      <td>True</td>\n",
       "      <td>Reviewed in Germany on 15 October 2020</td>\n",
       "      <td>NaN</td>\n",
       "      <td>0850eae1-fa2f-59e6-bf30-ad49151bfa20</td>\n",
       "      <td>24/12/2021 02:29:39</td>\n",
       "    </tr>\n",
       "    <tr>\n",
       "      <th>6819</th>\n",
       "      <td>https://www.amazon.co.uk/dp/B07TPYWFVN</td>\n",
       "      <td>Clarks Vennor Wing, Men’s Low-Top Sneakers, Bl...</td>\n",
       "      <td>Charles Lechesnier</td>\n",
       "      <td>EXCELLENT</td>\n",
       "      <td>Mieux que je ne l'imaginais. Très bonne taille...</td>\n",
       "      <td>5.0</td>\n",
       "      <td>True</td>\n",
       "      <td>Reviewed in France on 23 August 2020</td>\n",
       "      <td>NaN</td>\n",
       "      <td>4bf117ed-ea7c-517c-967c-2aee3f80ed29</td>\n",
       "      <td>24/12/2021 02:29:39</td>\n",
       "    </tr>\n",
       "    <tr>\n",
       "      <th>6820</th>\n",
       "      <td>https://www.amazon.co.uk/dp/B084WB2D93</td>\n",
       "      <td>Rohde Men's Tivoli-H Mule, 82 Anthracite, 12.5 UK</td>\n",
       "      <td>Rebecca Lützenkirchen</td>\n",
       "      <td>Einfach schöne Hausschuhe</td>\n",
       "      <td>Habe sie als Geschenk gekauft und sie sind seh...</td>\n",
       "      <td>5.0</td>\n",
       "      <td>True</td>\n",
       "      <td>Reviewed in Germany on 4 October 2021</td>\n",
       "      <td>NaN</td>\n",
       "      <td>5b129eb2-a438-5377-9c46-217a177615b2</td>\n",
       "      <td>24/12/2021 02:29:39</td>\n",
       "    </tr>\n",
       "    <tr>\n",
       "      <th>6821</th>\n",
       "      <td>https://www.amazon.co.uk/dp/B084WB2D93</td>\n",
       "      <td>Rohde Men's Tivoli-H Mule, 82 Anthracite, 12.5 UK</td>\n",
       "      <td>Sergej Friedel</td>\n",
       "      <td>Langlebig.</td>\n",
       "      <td>Trage diese Hausschuhe fast zwei Monate jeden ...</td>\n",
       "      <td>5.0</td>\n",
       "      <td>True</td>\n",
       "      <td>Reviewed in Germany on 31 January 2021</td>\n",
       "      <td>NaN</td>\n",
       "      <td>91144305-98db-5a55-8ec4-16a253beb811</td>\n",
       "      <td>24/12/2021 02:29:39</td>\n",
       "    </tr>\n",
       "    <tr>\n",
       "      <th>6822</th>\n",
       "      <td>https://www.amazon.co.uk/dp/B084WB2D93</td>\n",
       "      <td>Rohde Men's Tivoli-H Mule, 82 Anthracite, 12.5 UK</td>\n",
       "      <td>Swidurski</td>\n",
       "      <td>Hausschuhe für lange kalte Winterzeiten.</td>\n",
       "      <td>Die Hausschuhe sind sehr warm und tolle Leder ...</td>\n",
       "      <td>5.0</td>\n",
       "      <td>True</td>\n",
       "      <td>Reviewed in Germany on 27 January 2021</td>\n",
       "      <td>NaN</td>\n",
       "      <td>5e12b707-fe18-557e-96ba-c9941b4c7690</td>\n",
       "      <td>24/12/2021 02:29:39</td>\n",
       "    </tr>\n",
       "  </tbody>\n",
       "</table>\n",
       "<p>6823 rows × 11 columns</p>\n",
       "</div>"
      ],
      "text/plain": [
       "                                         url  \\\n",
       "0     https://www.amazon.co.uk/dp/B07SBX32T5   \n",
       "1     https://www.amazon.co.uk/dp/B07SBX32T5   \n",
       "2     https://www.amazon.co.uk/dp/B07SBX32T5   \n",
       "3     https://www.amazon.co.uk/dp/B07SBX32T5   \n",
       "4     https://www.amazon.co.uk/dp/B08SW434MG   \n",
       "...                                      ...   \n",
       "6818  https://www.amazon.co.uk/dp/B07TPYWFVN   \n",
       "6819  https://www.amazon.co.uk/dp/B07TPYWFVN   \n",
       "6820  https://www.amazon.co.uk/dp/B084WB2D93   \n",
       "6821  https://www.amazon.co.uk/dp/B084WB2D93   \n",
       "6822  https://www.amazon.co.uk/dp/B084WB2D93   \n",
       "\n",
       "                                           product_name  \\\n",
       "0     Klasified Women's Transparent Clear Sneaker Sh...   \n",
       "1     Klasified Women's Transparent Clear Sneaker Sh...   \n",
       "2     Klasified Women's Transparent Clear Sneaker Sh...   \n",
       "3     Klasified Women's Transparent Clear Sneaker Sh...   \n",
       "4     GUESS Women's Bradly Gymnastics Shoe, White, 7 UK   \n",
       "...                                                 ...   \n",
       "6818  Clarks Vennor Wing, Men’s Low-Top Sneakers, Bl...   \n",
       "6819  Clarks Vennor Wing, Men’s Low-Top Sneakers, Bl...   \n",
       "6820  Rohde Men's Tivoli-H Mule, 82 Anthracite, 12.5 UK   \n",
       "6821  Rohde Men's Tivoli-H Mule, 82 Anthracite, 12.5 UK   \n",
       "6822  Rohde Men's Tivoli-H Mule, 82 Anthracite, 12.5 UK   \n",
       "\n",
       "              reviewer_name                              review_title  \\\n",
       "0          Jocelyn McSayles                                   Love em   \n",
       "1              Kenia Rivera                        The plastic ripped   \n",
       "2               Chris Souza                              Good quality   \n",
       "3           Amazon Customer                                      Good   \n",
       "4                 Graziella                                PERFETTE!!   \n",
       "...                     ...                                       ...   \n",
       "6818                mauti72                         Schick und leicht   \n",
       "6819     Charles Lechesnier                                 EXCELLENT   \n",
       "6820  Rebecca Lützenkirchen                 Einfach schöne Hausschuhe   \n",
       "6821         Sergej Friedel                                Langlebig.   \n",
       "6822              Swidurski  Hausschuhe für lange kalte Winterzeiten.   \n",
       "\n",
       "                                            review_text  review_rating  \\\n",
       "0     Love these. Was looking for converses and thes...            5.0   \n",
       "1     The shoes are very cute, but after the 2nd day...            2.0   \n",
       "2                                          Good quality            5.0   \n",
       "3                                                 Great            5.0   \n",
       "4     Ho scelto il modello bianco con rifinitura die...            5.0   \n",
       "...                                                 ...            ...   \n",
       "6818                    Schicker Schuh, läuft sich gut.            5.0   \n",
       "6819  Mieux que je ne l'imaginais. Très bonne taille...            5.0   \n",
       "6820  Habe sie als Geschenk gekauft und sie sind seh...            5.0   \n",
       "6821  Trage diese Hausschuhe fast zwei Monate jeden ...            5.0   \n",
       "6822  Die Hausschuhe sind sehr warm und tolle Leder ...            5.0   \n",
       "\n",
       "      verified_purchase                                       review_date  \\\n",
       "0                  True      Reviewed in the United States on 2 June 2020   \n",
       "1                  True  Reviewed in the United States on 28 October 2021   \n",
       "2                  True  Reviewed in the United States on 20 January 2021   \n",
       "3                  True    Reviewed in the United States on 22 April 2021   \n",
       "4                  True                 Reviewed in Italy on 2 April 2021   \n",
       "...                 ...                                               ...   \n",
       "6818               True            Reviewed in Germany on 15 October 2020   \n",
       "6819               True              Reviewed in France on 23 August 2020   \n",
       "6820               True             Reviewed in Germany on 4 October 2021   \n",
       "6821               True            Reviewed in Germany on 31 January 2021   \n",
       "6822               True            Reviewed in Germany on 27 January 2021   \n",
       "\n",
       "                    helpful_count                               uniq_id  \\\n",
       "0     2 people found this helpful  36eae4e5-2894-5279-a0b7-d2b330e2b814   \n",
       "1                             NaN  f4778bb8-3070-5cb1-b5aa-ffce41a97b57   \n",
       "2                             NaN  db5a7525-d40b-5265-84d8-df4f29837a3b   \n",
       "3                             NaN  75a42851-6462-54b5-988a-27d336221943   \n",
       "4     2 people found this helpful  232dee43-849e-5d06-ba05-efb3f4814714   \n",
       "...                           ...                                   ...   \n",
       "6818                          NaN  0850eae1-fa2f-59e6-bf30-ad49151bfa20   \n",
       "6819                          NaN  4bf117ed-ea7c-517c-967c-2aee3f80ed29   \n",
       "6820                          NaN  5b129eb2-a438-5377-9c46-217a177615b2   \n",
       "6821                          NaN  91144305-98db-5a55-8ec4-16a253beb811   \n",
       "6822                          NaN  5e12b707-fe18-557e-96ba-c9941b4c7690   \n",
       "\n",
       "               scraped_at  \n",
       "0     24/12/2021 02:26:25  \n",
       "1     24/12/2021 02:26:25  \n",
       "2     24/12/2021 02:26:25  \n",
       "3     24/12/2021 02:26:25  \n",
       "4     24/12/2021 02:26:25  \n",
       "...                   ...  \n",
       "6818  24/12/2021 02:29:39  \n",
       "6819  24/12/2021 02:29:39  \n",
       "6820  24/12/2021 02:29:39  \n",
       "6821  24/12/2021 02:29:39  \n",
       "6822  24/12/2021 02:29:39  \n",
       "\n",
       "[6823 rows x 11 columns]"
      ]
     },
     "execution_count": 2,
     "metadata": {},
     "output_type": "execute_result"
    }
   ],
   "source": [
    "# 데이터 읽어와 로딩 후 출력 진행\n",
    "\n",
    "print(\"파일 읽기 실행 중입니다...\\n\")\n",
    "start = time.time() # 로딩 시작 시간 저장\n",
    "df = pd.read_csv('/workspaces/ml202401-final-LeeEulHo/amazon_uk_shoes_products_dataset_2021_12.csv') # 파일 경로 지정\n",
    "end = time.time() # 로딩 종료 시간 저장\n",
    "print(\"파일 로딩에 걸린 시간은 \" + str(round(end - start, 2)) + \" 초입니다.\") # 걸린 시간 출력\n",
    "\n",
    "df # 데이터 프레임 원본 출력"
   ]
  },
  {
   "cell_type": "code",
   "execution_count": 3,
   "metadata": {},
   "outputs": [
    {
     "name": "stdout",
     "output_type": "stream",
     "text": [
      "데이터의 구조(행, 열)은 : (6823, 11) 입니다\n"
     ]
    }
   ],
   "source": [
    "# 데이터의 구조 확인 및 출력\n",
    "\n",
    "print(\"데이터의 구조(행, 열)은 : \" + str(df.shape) + \" 입니다\") #df.shape를 string 형태로 변경하여 출력"
   ]
  },
  {
   "cell_type": "markdown",
   "metadata": {},
   "source": [
    "### 2) 결측치 제거"
   ]
  },
  {
   "cell_type": "code",
   "execution_count": 4,
   "metadata": {},
   "outputs": [
    {
     "data": {
      "text/plain": [
       "url                     0\n",
       "product_name            0\n",
       "reviewer_name           0\n",
       "review_title            1\n",
       "review_text             9\n",
       "review_rating           0\n",
       "verified_purchase       0\n",
       "review_date             0\n",
       "helpful_count        4870\n",
       "uniq_id                 0\n",
       "scraped_at              0\n",
       "dtype: int64"
      ]
     },
     "execution_count": 4,
     "metadata": {},
     "output_type": "execute_result"
    }
   ],
   "source": [
    "# 결측치 여부 확인\n",
    "\n",
    "df.isnull().sum() # 결측치 값이 존재하는 데이터 갯수 출력"
   ]
  },
  {
   "cell_type": "markdown",
   "metadata": {},
   "source": [
    "확인 결과 helpful_count와 review_title, review_text에 존재하기에 helpful_count는 열을 제거하고, 이후에 결측치를 가진 행을 제거하는 것으로 진행함. "
   ]
  },
  {
   "cell_type": "code",
   "execution_count": 5,
   "metadata": {},
   "outputs": [
    {
     "data": {
      "text/plain": [
       "url                  0\n",
       "product_name         0\n",
       "reviewer_name        0\n",
       "review_title         0\n",
       "review_text          0\n",
       "review_rating        0\n",
       "verified_purchase    0\n",
       "review_date          0\n",
       "uniq_id              0\n",
       "scraped_at           0\n",
       "dtype: int64"
      ]
     },
     "execution_count": 5,
     "metadata": {},
     "output_type": "execute_result"
    }
   ],
   "source": [
    "df = df.drop([\"helpful_count\"], axis=1) # helpful_count 열 제거\n",
    "df = df.dropna(axis=0) # 결측치 존재하는 행 제거\n",
    "\n",
    "df.isnull().sum() # 결측치 여부 확인"
   ]
  },
  {
   "cell_type": "code",
   "execution_count": 6,
   "metadata": {},
   "outputs": [
    {
     "data": {
      "text/plain": [
       "url                  6813\n",
       "product_name         6813\n",
       "reviewer_name        6813\n",
       "review_title         6813\n",
       "review_text          6813\n",
       "review_rating        6813\n",
       "verified_purchase    6813\n",
       "review_date          6813\n",
       "uniq_id              6813\n",
       "scraped_at           6813\n",
       "dtype: int64"
      ]
     },
     "execution_count": 6,
     "metadata": {},
     "output_type": "execute_result"
    }
   ],
   "source": [
    "# 결측치 제거 후 데이터 갯수 확인\n",
    "\n",
    "df.count() # 데이터 갯수 출력"
   ]
  },
  {
   "cell_type": "markdown",
   "metadata": {},
   "source": [
    "즉, 결측치와 문제가 될 만한 helpful_count를 제거한 결과(열, 행)가 (6823, 11)에서 (6813, 10)으로 변경되어 완료된 것을 확인 가능하다.\n",
    "\n",
    "그렇다면 다음은 우리가 모델을 통해 얻을 내용인, 신발의 상품 별 리뷰의 수를 확인하기 위해 각 제품별 리뷰의 갯수를 확인 해보도록 하겠다."
   ]
  },
  {
   "cell_type": "markdown",
   "metadata": {},
   "source": [
    "### 3) 상품별 리뷰 갯수 확인"
   ]
  },
  {
   "cell_type": "code",
   "execution_count": 7,
   "metadata": {},
   "outputs": [
    {
     "name": "stdout",
     "output_type": "stream",
     "text": [
      "총 1086개 상품의 리뷰 존재\n",
      "product_name\n",
      "Teva K Hurricane 3, Balboa Sodalite Blue, 12 UK Child                                  10\n",
      "Think! Men's Kong_585653 Derbys, (Sz/Kombi 09), 6.5 UK                                 10\n",
      "Reebok Women's Princess Sneaker, White/White/Collegiate Royal, 6 UK                    10\n",
      "PUMA Men's Axelion Ultra Cross Trainer, Black, Signal red, 10.5 UK                     10\n",
      "Geox boy J MUNFREY C Low-Top Sneakers, Grey (Grey/Orange C0036), 26                    10\n",
      "                                                                                       ..\n",
      "Aldo Women's RPPLFROST1B Sneaker, Light Pink, 6 UK                                      1\n",
      "Dr. Brinkmann Women’s Flat Platform Size: 6 UK Blue                                     1\n",
      "adidas Originals Unisex VRX Low Skate Shoe, white/black/white, 4 M US Big Kid           1\n",
      "Aigle Unisex Adults Brea Botte Iso Wellington Boots, Blue (Marine New 001), 10.5 UK     1\n",
      "Fila Mindblower Gold Fusion/White-Navy                                                  1\n",
      "Name: count, Length: 1086, dtype: int64\n"
     ]
    }
   ],
   "source": [
    "# 상품별 리뷰 갯수 확인\n",
    "\n",
    "products_freq = df[\"product_name\"].value_counts()\n",
    "print(\"총 \" + str(products_freq.size) + \"개 상품의 리뷰 존재\")\n",
    "print(products_freq)\n"
   ]
  },
  {
   "cell_type": "code",
   "execution_count": 8,
   "metadata": {},
   "outputs": [
    {
     "name": "stdout",
     "output_type": "stream",
     "text": [
      "가장 리뷰가 많은 상품은 Teva K Hurricane 3, Balboa Sodalite Blue, 12 UK Child이며 10개의 리뷰\n",
      "\n",
      "이후 10개의 많은 리뷰를 가진 상품들 : \n",
      "product_name\n",
      "Think! Men's Kong_585653 Derbys, (Sz/Kombi 09), 6.5 UK                                10\n",
      "Reebok Women's Princess Sneaker, White/White/Collegiate Royal, 6 UK                   10\n",
      "PUMA Men's Axelion Ultra Cross Trainer, Black, Signal red, 10.5 UK                    10\n",
      "Geox boy J MUNFREY C Low-Top Sneakers, Grey (Grey/Orange C0036), 26                   10\n",
      "Reebok Men's Club MEMT Wide 4e Sneaker, Black/DGH Solid Grey, 6.5 UK                  10\n",
      "Propet Women's Ladybug Walking Shoe, Oyster, 11 W US                                  10\n",
      "MSMAX Black Patent Character Mary Jane Flexible Dance Tap Shoes Little Kid Size 11    10\n",
      "Skechers Kids Girls' Slip on Water Shoe, Champagne, 5 Big Kid M                       10\n",
      "Reebok Kids Royal Cljog 2 Sneaker                                                     10\n",
      "New Balance Kids&#39; 574v1 Sport Sneaker                                             10\n"
     ]
    },
    {
     "name": "stderr",
     "output_type": "stream",
     "text": [
      "/tmp/ipykernel_97916/3718880405.py:5: FutureWarning: Series.__getitem__ treating keys as positions is deprecated. In a future version, integer keys will always be treated as labels (consistent with DataFrame behavior). To access a value by position, use `ser.iloc[pos]`\n",
      "  print(\"가장 리뷰가 많은 상품은 \" + str(products_freq.index[0]).strip() + \"이며 \" + str(products_freq[0]) + \"개의 리뷰\\n\")\n"
     ]
    }
   ],
   "source": [
    "# 리뷰의 갯수 상위 10개 출력\n",
    "\n",
    "# 모두 동일하게 많아야 10개의 리뷰를 가졌기에 분류에 의미가 없어서, 이후에 첫 단어를 추출하여 브랜드 별로 다시 상위 10개를 추출함\n",
    "\n",
    "print(\"가장 리뷰가 많은 상품은 \" + str(products_freq.index[0]).strip() + \"이며 \" + str(products_freq[0]) + \"개의 리뷰\\n\")\n",
    "print(\"이후 10개의 많은 리뷰를 가진 상품들 : \")\n",
    "print(products_freq[1:11].to_string())"
   ]
  },
  {
   "cell_type": "markdown",
   "metadata": {},
   "source": [
    "### 4) 실구매 여부 확인"
   ]
  },
  {
   "cell_type": "code",
   "execution_count": 9,
   "metadata": {},
   "outputs": [
    {
     "name": "stdout",
     "output_type": "stream",
     "text": [
      "0       False\n",
      "1       False\n",
      "2       False\n",
      "3       False\n",
      "4       False\n",
      "        ...  \n",
      "6818    False\n",
      "6819    False\n",
      "6820    False\n",
      "6821    False\n",
      "6822    False\n",
      "Name: verified_purchase, Length: 6813, dtype: bool\n"
     ]
    }
   ],
   "source": [
    "# 실구매 여부가 False인 데이터가 있는지 여부를 확인\n",
    "\n",
    "print(df[\"verified_purchase\"] == \"true\")"
   ]
  },
  {
   "cell_type": "markdown",
   "metadata": {},
   "source": [
    "위 결과로 실구매 작성자만 리뷰를 작성함을 확인 가능함"
   ]
  },
  {
   "cell_type": "markdown",
   "metadata": {},
   "source": [
    "### 5) 동일 리뷰 작성자가 작성한 리뷰 유무 확인"
   ]
  },
  {
   "cell_type": "code",
   "execution_count": 10,
   "metadata": {},
   "outputs": [
    {
     "name": "stdout",
     "output_type": "stream",
     "text": [
      "총 5516명이 작성한 상품의 리뷰 존재\n",
      "reviewer_name\n",
      "Amazon Customer      318\n",
      "Cliente Amazon       132\n",
      "Amazon Kunde          97\n",
      "Cliente de Amazon     28\n",
      "Client d'Amazon       28\n",
      "                    ... \n",
      "A Sobol                1\n",
      "Collin Schwantes       1\n",
      "Josephine Miller       1\n",
      "alberto_oter           1\n",
      "Swidurski              1\n",
      "Name: count, Length: 5516, dtype: int64\n"
     ]
    }
   ],
   "source": [
    "# 동일한 작성자의 리뷰가 존재하는지 여부 확인\n",
    "\n",
    "reviewer_freq = df[\"reviewer_name\"].value_counts()\n",
    "print(\"총 \" + str(reviewer_freq.size) + \"명이 작성한 상품의 리뷰 존재\")\n",
    "print(reviewer_freq)"
   ]
  },
  {
   "cell_type": "code",
   "execution_count": 11,
   "metadata": {},
   "outputs": [
    {
     "name": "stdout",
     "output_type": "stream",
     "text": [
      "가장 작성한 리뷰가 많은 작성자는 Amazon Customer이며 318개의 리뷰\n",
      "\n",
      "이후 10개의 많은 리뷰를 가진 상품들\n",
      "reviewer_name\n",
      "Cliente Amazon       132\n",
      "Amazon Kunde          97\n",
      "Cliente de Amazon     28\n",
      "Client d'Amazon       28\n",
      "Kindle Customer       23\n",
      "Alex                  10\n",
      "Lisa                   8\n",
      "Stephanie              8\n",
      "Daniel                 8\n",
      "John                   7\n"
     ]
    },
    {
     "name": "stderr",
     "output_type": "stream",
     "text": [
      "/tmp/ipykernel_97916/591348586.py:3: FutureWarning: Series.__getitem__ treating keys as positions is deprecated. In a future version, integer keys will always be treated as labels (consistent with DataFrame behavior). To access a value by position, use `ser.iloc[pos]`\n",
      "  print(\"가장 작성한 리뷰가 많은 작성자는 \" + str(reviewer_freq.index[0]).strip() + \"이며 \" + str(reviewer_freq[0]) + \"개의 리뷰\\n\")\n"
     ]
    }
   ],
   "source": [
    "# 리뷰 작성이 가장 많은 상위 11명 작성자 확인\n",
    "\n",
    "print(\"가장 작성한 리뷰가 많은 작성자는 \" + str(reviewer_freq.index[0]).strip() + \"이며 \" + str(reviewer_freq[0]) + \"개의 리뷰\\n\")\n",
    "print(\"이후 10개의 많은 리뷰를 가진 상품들\")\n",
    "print(reviewer_freq[1:11].to_string())"
   ]
  },
  {
   "cell_type": "markdown",
   "metadata": {},
   "source": [
    "### (1 ~ 5) 데이터 분석 결과\n",
    "\n",
    "신발 상품에 대한 리뷰가 특정 상품에 많은 것은 비교적 크게 차이를 보이지 않고 10개가 최대임을 확인 가능하기에 분류하여 어떤 상품이 더 긍정적인 리뷰를 가지는지는 확인하기에는 큰 의미가 없다고 판단이\n",
    "되며, 실구매 여부도 역시 모든 리뷰를 확인한 결과 TRUE이기 때문에 확인을 재차 할 필요성을 못느낌. \n",
    "\n",
    "하지만, 작성자가 동일한 리뷰 작성자가 다수의 리뷰를 작성한 것은 확인되었기 때문에 리뷰의 감정을 분석하는 부분에서 어느 정도 특정 리뷰 작성자의 리뷰 작성 성격이 어떤지에 대한 결과는 확인 가능할 것으로 보임.\n",
    "\n",
    "바로 다음 데이터 전처리 과정으로 넘어가도록 하겠음."
   ]
  },
  {
   "cell_type": "markdown",
   "metadata": {},
   "source": [
    "### 6) 데이터 프레임 customization\n",
    "\n",
    "기존의 데이터 프레임을 확인하면 하단과 같이 데이터가 존재한다.\n",
    "\n",
    "1. url (상품 URL 주소)\n",
    "2. product_name (상품명)\n",
    "3. reviewer_name (리뷰 등록자명)\n",
    "4. review_title (리뷰 제목)\n",
    "5. review_text (리뷰 내용)\n",
    "6. review_rating (상품 리뷰 별점)\n",
    "7. verified_purchase (실구매 확인 여부)\n",
    "8. review_date (리뷰 작성 날짜)\n",
    "9. helpful_count (해당 리뷰가 도움이 된 사람의 수)\n",
    "10. uniq_id (리뷰 특정 ID)\n",
    "11. scraped_at (해당 리뷰를 가져온 시점)\n",
    "\n",
    "그러나 필요한 것은 product_name, reviewer_name, review_title, review_text, review_rating, review_date 정도이기에 이를 제외한 url, verified_purchase, uniq_id, scraped_at는 삭제하여 데이터 프레임을 수정 작업을 진행한다.\n"
   ]
  },
  {
   "cell_type": "code",
   "execution_count": 12,
   "metadata": {},
   "outputs": [
    {
     "data": {
      "text/html": [
       "<div>\n",
       "<style scoped>\n",
       "    .dataframe tbody tr th:only-of-type {\n",
       "        vertical-align: middle;\n",
       "    }\n",
       "\n",
       "    .dataframe tbody tr th {\n",
       "        vertical-align: top;\n",
       "    }\n",
       "\n",
       "    .dataframe thead th {\n",
       "        text-align: right;\n",
       "    }\n",
       "</style>\n",
       "<table border=\"1\" class=\"dataframe\">\n",
       "  <thead>\n",
       "    <tr style=\"text-align: right;\">\n",
       "      <th></th>\n",
       "      <th>product_name</th>\n",
       "      <th>reviewer_name</th>\n",
       "      <th>review_title</th>\n",
       "      <th>review_text</th>\n",
       "      <th>review_rating</th>\n",
       "      <th>review_date</th>\n",
       "    </tr>\n",
       "  </thead>\n",
       "  <tbody>\n",
       "    <tr>\n",
       "      <th>0</th>\n",
       "      <td>Klasified Women's Transparent Clear Sneaker Sh...</td>\n",
       "      <td>Jocelyn McSayles</td>\n",
       "      <td>Love em</td>\n",
       "      <td>Love these. Was looking for converses and thes...</td>\n",
       "      <td>5.0</td>\n",
       "      <td>Reviewed in the United States on 2 June 2020</td>\n",
       "    </tr>\n",
       "    <tr>\n",
       "      <th>1</th>\n",
       "      <td>Klasified Women's Transparent Clear Sneaker Sh...</td>\n",
       "      <td>Kenia Rivera</td>\n",
       "      <td>The plastic ripped</td>\n",
       "      <td>The shoes are very cute, but after the 2nd day...</td>\n",
       "      <td>2.0</td>\n",
       "      <td>Reviewed in the United States on 28 October 2021</td>\n",
       "    </tr>\n",
       "    <tr>\n",
       "      <th>2</th>\n",
       "      <td>Klasified Women's Transparent Clear Sneaker Sh...</td>\n",
       "      <td>Chris Souza</td>\n",
       "      <td>Good quality</td>\n",
       "      <td>Good quality</td>\n",
       "      <td>5.0</td>\n",
       "      <td>Reviewed in the United States on 20 January 2021</td>\n",
       "    </tr>\n",
       "    <tr>\n",
       "      <th>3</th>\n",
       "      <td>Klasified Women's Transparent Clear Sneaker Sh...</td>\n",
       "      <td>Amazon Customer</td>\n",
       "      <td>Good</td>\n",
       "      <td>Great</td>\n",
       "      <td>5.0</td>\n",
       "      <td>Reviewed in the United States on 22 April 2021</td>\n",
       "    </tr>\n",
       "    <tr>\n",
       "      <th>4</th>\n",
       "      <td>GUESS Women's Bradly Gymnastics Shoe, White, 7 UK</td>\n",
       "      <td>Graziella</td>\n",
       "      <td>PERFETTE!!</td>\n",
       "      <td>Ho scelto il modello bianco con rifinitura die...</td>\n",
       "      <td>5.0</td>\n",
       "      <td>Reviewed in Italy on 2 April 2021</td>\n",
       "    </tr>\n",
       "  </tbody>\n",
       "</table>\n",
       "</div>"
      ],
      "text/plain": [
       "                                        product_name     reviewer_name  \\\n",
       "0  Klasified Women's Transparent Clear Sneaker Sh...  Jocelyn McSayles   \n",
       "1  Klasified Women's Transparent Clear Sneaker Sh...      Kenia Rivera   \n",
       "2  Klasified Women's Transparent Clear Sneaker Sh...       Chris Souza   \n",
       "3  Klasified Women's Transparent Clear Sneaker Sh...   Amazon Customer   \n",
       "4  GUESS Women's Bradly Gymnastics Shoe, White, 7 UK         Graziella   \n",
       "\n",
       "         review_title                                        review_text  \\\n",
       "0             Love em  Love these. Was looking for converses and thes...   \n",
       "1  The plastic ripped  The shoes are very cute, but after the 2nd day...   \n",
       "2        Good quality                                       Good quality   \n",
       "3                Good                                              Great   \n",
       "4          PERFETTE!!  Ho scelto il modello bianco con rifinitura die...   \n",
       "\n",
       "   review_rating                                       review_date  \n",
       "0            5.0      Reviewed in the United States on 2 June 2020  \n",
       "1            2.0  Reviewed in the United States on 28 October 2021  \n",
       "2            5.0  Reviewed in the United States on 20 January 2021  \n",
       "3            5.0    Reviewed in the United States on 22 April 2021  \n",
       "4            5.0                 Reviewed in Italy on 2 April 2021  "
      ]
     },
     "execution_count": 12,
     "metadata": {},
     "output_type": "execute_result"
    }
   ],
   "source": [
    "# 기존의 데이터 프레임에서 필요 없는 열을 삭제 진행\n",
    "\n",
    "df = df.drop([\"url\", \"verified_purchase\", \"uniq_id\", \"scraped_at\"], axis=1) # 불필요한 열 삭제\n",
    "\n",
    "df.head()"
   ]
  },
  {
   "cell_type": "markdown",
   "metadata": {},
   "source": [
    "### 7) Initial column processing (상품명 변경)\n",
    "\n",
    "상품별 상세 명칭이 너무 많기 때문에 제조사가 동일한 상품의 리뷰가 가장 많은 상위 10개의 브랜드명으로 묶어서 상품명을 변경한다."
   ]
  },
  {
   "cell_type": "code",
   "execution_count": 13,
   "metadata": {},
   "outputs": [
    {
     "data": {
      "text/plain": [
       "product_name\n",
       "adidas      896\n",
       "New         546\n",
       "PUMA        500\n",
       "Reebok      346\n",
       "Skechers    275\n",
       "Merrell     185\n",
       "ASICS       168\n",
       "Geox        143\n",
       "Clarks      118\n",
       "Converse     89\n",
       "Name: count, dtype: int64"
      ]
     },
     "execution_count": 13,
     "metadata": {},
     "output_type": "execute_result"
    }
   ],
   "source": [
    "# 가장 많은 상품 리뷰를 가진 브랜드 명 추출\n",
    "\n",
    "first_words = df[\"product_name\"].str.split().str[0]\n",
    "first_words.value_counts().head(10)"
   ]
  },
  {
   "cell_type": "code",
   "execution_count": 14,
   "metadata": {},
   "outputs": [],
   "source": [
    "# 상위 10개에 해당하는 상품 브랜드로 상품명을 변경하는 함수 생성\n",
    "\n",
    "# 만약 product_name에 데이터가 하단의 입력된 브랜드명이 존재하면 그 브랜드 명으로 변경하는 코드로서 함수로 정의함.\n",
    "\n",
    "def replace_product_name(row):\n",
    "    if \"adidas\" in row[\"product_name\"]:\n",
    "        return \"adidas\"\n",
    "    elif \"New Balance\" in row[\"product_name\"]:\n",
    "        return \"New Balance\"\n",
    "    elif \"PUMA\" in row[\"product_name\"]:\n",
    "        return \"PUMA\"\n",
    "    elif \"Reebok\" in row[\"product_name\"]:\n",
    "        return \"Reebok\"\n",
    "    elif \"Skechers\" in row[\"product_name\"]:\n",
    "        return \"Skechers\"\n",
    "    elif \"Merrell\" in row[\"product_name\"]:\n",
    "        return \"Merrell\"\n",
    "    elif \"ASICS\" in row[\"product_name\"]:\n",
    "        return \"ASICS\"\n",
    "    elif \"Geox\" in row[\"product_name\"]:\n",
    "        return \"Geox\"\n",
    "    elif \"Clarks\" in row[\"product_name\"]:\n",
    "        return \"Clarks\"\n",
    "    elif \"Converse\" in row[\"product_name\"]:\n",
    "        return \"Converse\"\n",
    "    else:\n",
    "        return row.product_name"
   ]
  },
  {
   "cell_type": "code",
   "execution_count": 15,
   "metadata": {},
   "outputs": [],
   "source": [
    "# 기존의 데이터에 위에서 지정한 이름 변경 함수를 적용\n",
    "\n",
    "df[\"shoes_product_df\"] = df.apply(replace_product_name, axis = 1)"
   ]
  },
  {
   "cell_type": "code",
   "execution_count": 18,
   "metadata": {},
   "outputs": [
    {
     "name": "stdout",
     "output_type": "stream",
     "text": [
      "shoes_product_df\n",
      "adidas         896\n",
      "New Balance    546\n",
      "PUMA           500\n",
      "Reebok         346\n",
      "Skechers       275\n",
      "Merrell        185\n",
      "ASICS          168\n",
      "Geox           143\n",
      "Clarks         118\n",
      "Converse        89\n",
      "Name: count, dtype: int64\n"
     ]
    }
   ],
   "source": [
    "# 위에서 지정한 상위 10개 제품 브랜드에 해당하는 리뷰 갯수 count 하고 확인\n",
    "\n",
    "print(df[\"shoes_product_df\"].value_counts().head(10)) # 제대로 바뀐 것을 확인 가능함"
   ]
  },
  {
   "cell_type": "markdown",
   "metadata": {},
   "source": [
    "## 2. 모델 구현"
   ]
  },
  {
   "cell_type": "markdown",
   "metadata": {},
   "source": [
    "### 1) stop word 제거\n",
    "\n",
    "부정/긍정 리뷰 평가에 부수적인 감정을 가지는 stop word는 필요 없으며, 분석 시간 효율 저하의 효과가 있기 때문에 제거를 진행한다."
   ]
  },
  {
   "cell_type": "markdown",
   "metadata": {},
   "source": [
    "필요 모듈 설치 및 모델 선택 및 감정 분석기에 필요한 자료 다운로드 진행"
   ]
  },
  {
   "cell_type": "code",
   "execution_count": 21,
   "metadata": {},
   "outputs": [
    {
     "name": "stdout",
     "output_type": "stream",
     "text": [
      "Requirement already satisfied: nltk in ./.venv/lib/python3.10/site-packages (3.8.1)\n",
      "Requirement already satisfied: click in ./.venv/lib/python3.10/site-packages (from nltk) (8.1.7)\n",
      "Requirement already satisfied: joblib in ./.venv/lib/python3.10/site-packages (from nltk) (1.4.2)\n",
      "Requirement already satisfied: regex>=2021.8.3 in ./.venv/lib/python3.10/site-packages (from nltk) (2024.5.15)\n",
      "Requirement already satisfied: tqdm in ./.venv/lib/python3.10/site-packages (from nltk) (4.66.4)\n",
      "Note: you may need to restart the kernel to use updated packages.\n"
     ]
    },
    {
     "name": "stderr",
     "output_type": "stream",
     "text": [
      "[nltk_data] Downloading package vader_lexicon to\n",
      "[nltk_data]     /home/codespace/nltk_data...\n",
      "[nltk_data]   Package vader_lexicon is already up-to-date!\n"
     ]
    },
    {
     "data": {
      "text/plain": [
       "True"
      ]
     },
     "execution_count": 21,
     "metadata": {},
     "output_type": "execute_result"
    }
   ],
   "source": [
    "%pip install nltk #pip를 통해 nltk 설치\n",
    "import nltk as nltk # nltk import\n",
    "from nltk.corpus import stopwords\n",
    "from nltk.sentiment.vader import SentimentIntensityAnalyzer # nltk의 VADER 감정 분석기 impot 진행\n",
    "nltk.download('vader_lexicon') # VADER 모델의 감정 분석기에 필요한 어휘 자료를 다운로드 진행"
   ]
  },
  {
   "cell_type": "code",
   "execution_count": 22,
   "metadata": {},
   "outputs": [
    {
     "name": "stderr",
     "output_type": "stream",
     "text": [
      "[nltk_data] Downloading package stopwords to\n",
      "[nltk_data]     /home/codespace/nltk_data...\n",
      "[nltk_data]   Unzipping corpora/stopwords.zip.\n"
     ]
    }
   ],
   "source": [
    "# stopword 리스트를 외부에서 가져와서 지금의 리뷰에서 존재하는 stopword를 제거하는 과정을 여기에서 진행함\n",
    "\n",
    "nltk.download('stopwords')\n",
    "\n",
    "start = time.time()\n",
    "cache = set(stopwords.words(\"english\"))\n",
    "def remove_stopwords(review):\n",
    "    text = \" \".join([word for word in review.split() if word not in cache])\n",
    "    return text\n",
    "\n",
    "# Remove the stop words from both columns\n",
    "df.review_title = df.review_title.apply(remove_stopwords)   \n",
    "df.review_text = df.review_text.apply(remove_stopwords)"
   ]
  },
  {
   "cell_type": "markdown",
   "metadata": {},
   "source": [
    "## 3. 모델 학습 및 튜닝"
   ]
  },
  {
   "cell_type": "code",
   "execution_count": 25,
   "metadata": {},
   "outputs": [],
   "source": [
    "vader_sentiment = SentimentIntensityAnalyzer() # VADER 감정 분석기를 초기화\n",
    "\n",
    "def calc_sentiment(review):    #계산을 위한 함수를 지정\n",
    "    if review == \"No Negative\" or review == \"No Positive\": # 리뷰가 \"No Negative\" 또는 \"No Positive\"인 경우\n",
    "        return 0\n",
    "    return vader_sentiment.polarity_scores(review)[\"compound\"]  # 리뷰가 텍스트인 경우 VADER 감정 분석기를 사용하여 감정 점수(컴파운드 스코어)를 계산하고 반환"
   ]
  },
  {
   "cell_type": "code",
   "execution_count": 26,
   "metadata": {},
   "outputs": [
    {
     "name": "stdout",
     "output_type": "stream",
     "text": [
      "Calculating sentiment columns for both positive and negative reviews\n"
     ]
    },
    {
     "ename": "AttributeError",
     "evalue": "'DataFrame' object has no attribute 'Negative_Review'",
     "output_type": "error",
     "traceback": [
      "\u001b[0;31m---------------------------------------------------------------------------\u001b[0m",
      "\u001b[0;31mAttributeError\u001b[0m                            Traceback (most recent call last)",
      "\u001b[0;32m/tmp/ipykernel_97916/551170163.py\u001b[0m in \u001b[0;36m?\u001b[0;34m()\u001b[0m\n\u001b[1;32m      1\u001b[0m \u001b[0mprint\u001b[0m\u001b[0;34m(\u001b[0m\u001b[0;34m\"Calculating sentiment columns for both positive and negative reviews\"\u001b[0m\u001b[0;34m)\u001b[0m\u001b[0;34m\u001b[0m\u001b[0;34m\u001b[0m\u001b[0m\n\u001b[1;32m      2\u001b[0m \u001b[0mstart\u001b[0m \u001b[0;34m=\u001b[0m \u001b[0mtime\u001b[0m\u001b[0;34m.\u001b[0m\u001b[0mtime\u001b[0m\u001b[0;34m(\u001b[0m\u001b[0;34m)\u001b[0m\u001b[0;34m\u001b[0m\u001b[0;34m\u001b[0m\u001b[0m\n\u001b[0;32m----> 3\u001b[0;31m \u001b[0mdf\u001b[0m\u001b[0;34m[\u001b[0m\u001b[0;34m\"Negative_Sentiment\"\u001b[0m\u001b[0;34m]\u001b[0m \u001b[0;34m=\u001b[0m \u001b[0mdf\u001b[0m\u001b[0;34m.\u001b[0m\u001b[0mNegative_Review\u001b[0m\u001b[0;34m.\u001b[0m\u001b[0mapply\u001b[0m\u001b[0;34m(\u001b[0m\u001b[0mcalc_sentiment\u001b[0m\u001b[0;34m)\u001b[0m\u001b[0;34m\u001b[0m\u001b[0;34m\u001b[0m\u001b[0m\n\u001b[0m\u001b[1;32m      4\u001b[0m \u001b[0mdf\u001b[0m\u001b[0;34m[\u001b[0m\u001b[0;34m\"Positive_Sentiment\"\u001b[0m\u001b[0;34m]\u001b[0m \u001b[0;34m=\u001b[0m \u001b[0mdf\u001b[0m\u001b[0;34m.\u001b[0m\u001b[0mPositive_Review\u001b[0m\u001b[0;34m.\u001b[0m\u001b[0mapply\u001b[0m\u001b[0;34m(\u001b[0m\u001b[0mcalc_sentiment\u001b[0m\u001b[0;34m)\u001b[0m\u001b[0;34m\u001b[0m\u001b[0;34m\u001b[0m\u001b[0m\n\u001b[1;32m      5\u001b[0m \u001b[0mend\u001b[0m \u001b[0;34m=\u001b[0m \u001b[0mtime\u001b[0m\u001b[0;34m.\u001b[0m\u001b[0mtime\u001b[0m\u001b[0;34m(\u001b[0m\u001b[0;34m)\u001b[0m\u001b[0;34m\u001b[0m\u001b[0;34m\u001b[0m\u001b[0m\n\u001b[1;32m      6\u001b[0m \u001b[0mprint\u001b[0m\u001b[0;34m(\u001b[0m\u001b[0;34m\"Calculating sentiment took \"\u001b[0m \u001b[0;34m+\u001b[0m \u001b[0mstr\u001b[0m\u001b[0;34m(\u001b[0m\u001b[0mround\u001b[0m\u001b[0;34m(\u001b[0m\u001b[0mend\u001b[0m \u001b[0;34m-\u001b[0m \u001b[0mstart\u001b[0m\u001b[0;34m,\u001b[0m \u001b[0;36m2\u001b[0m\u001b[0;34m)\u001b[0m\u001b[0;34m)\u001b[0m \u001b[0;34m+\u001b[0m \u001b[0;34m\" seconds\"\u001b[0m\u001b[0;34m)\u001b[0m\u001b[0;34m\u001b[0m\u001b[0;34m\u001b[0m\u001b[0m\n",
      "\u001b[0;32m/workspaces/ml202401-final-LeeEulHo/.venv/lib/python3.10/site-packages/pandas/core/generic.py\u001b[0m in \u001b[0;36m?\u001b[0;34m(self, name)\u001b[0m\n\u001b[1;32m   6295\u001b[0m             \u001b[0;32mand\u001b[0m \u001b[0mname\u001b[0m \u001b[0;32mnot\u001b[0m \u001b[0;32min\u001b[0m \u001b[0mself\u001b[0m\u001b[0;34m.\u001b[0m\u001b[0m_accessors\u001b[0m\u001b[0;34m\u001b[0m\u001b[0;34m\u001b[0m\u001b[0m\n\u001b[1;32m   6296\u001b[0m             \u001b[0;32mand\u001b[0m \u001b[0mself\u001b[0m\u001b[0;34m.\u001b[0m\u001b[0m_info_axis\u001b[0m\u001b[0;34m.\u001b[0m\u001b[0m_can_hold_identifiers_and_holds_name\u001b[0m\u001b[0;34m(\u001b[0m\u001b[0mname\u001b[0m\u001b[0;34m)\u001b[0m\u001b[0;34m\u001b[0m\u001b[0;34m\u001b[0m\u001b[0m\n\u001b[1;32m   6297\u001b[0m         ):\n\u001b[1;32m   6298\u001b[0m             \u001b[0;32mreturn\u001b[0m \u001b[0mself\u001b[0m\u001b[0;34m[\u001b[0m\u001b[0mname\u001b[0m\u001b[0;34m]\u001b[0m\u001b[0;34m\u001b[0m\u001b[0;34m\u001b[0m\u001b[0m\n\u001b[0;32m-> 6299\u001b[0;31m         \u001b[0;32mreturn\u001b[0m \u001b[0mobject\u001b[0m\u001b[0;34m.\u001b[0m\u001b[0m__getattribute__\u001b[0m\u001b[0;34m(\u001b[0m\u001b[0mself\u001b[0m\u001b[0;34m,\u001b[0m \u001b[0mname\u001b[0m\u001b[0;34m)\u001b[0m\u001b[0;34m\u001b[0m\u001b[0;34m\u001b[0m\u001b[0m\n\u001b[0m",
      "\u001b[0;31mAttributeError\u001b[0m: 'DataFrame' object has no attribute 'Negative_Review'"
     ]
    }
   ],
   "source": [
    "print(\"Calculating sentiment columns for both positive and negative reviews\")\n",
    "start = time.time()\n",
    "df[\"Negative_Sentiment\"] = df.Negative_Review.apply(calc_sentiment)\n",
    "df[\"Positive_Sentiment\"] = df.Positive_Review.apply(calc_sentiment)\n",
    "end = time.time()\n",
    "print(\"Calculating sentiment took \" + str(round(end - start, 2)) + \" seconds\")"
   ]
  },
  {
   "cell_type": "markdown",
   "metadata": {},
   "source": [
    "## 4. 모델 평가"
   ]
  },
  {
   "cell_type": "code",
   "execution_count": null,
   "metadata": {},
   "outputs": [],
   "source": []
  },
  {
   "cell_type": "markdown",
   "metadata": {},
   "source": [
    "## 5. 시각화 및 보고"
   ]
  },
  {
   "cell_type": "code",
   "execution_count": null,
   "metadata": {},
   "outputs": [],
   "source": []
  }
 ],
 "metadata": {
  "kernelspec": {
   "display_name": ".venv",
   "language": "python",
   "name": "python3"
  },
  "language_info": {
   "codemirror_mode": {
    "name": "ipython",
    "version": 3
   },
   "file_extension": ".py",
   "mimetype": "text/x-python",
   "name": "python",
   "nbconvert_exporter": "python",
   "pygments_lexer": "ipython3",
   "version": "3.10.13"
  }
 },
 "nbformat": 4,
 "nbformat_minor": 2
}
